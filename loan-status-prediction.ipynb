{
 "cells": [
  {
   "cell_type": "markdown",
   "id": "1bb92f5c",
   "metadata": {
    "papermill": {
     "duration": 0.027335,
     "end_time": "2024-02-09T17:02:58.440112",
     "exception": false,
     "start_time": "2024-02-09T17:02:58.412777",
     "status": "completed"
    },
    "tags": []
   },
   "source": [
    "## Load libraries and data"
   ]
  },
  {
   "cell_type": "code",
   "execution_count": 1,
   "id": "bc968b34",
   "metadata": {
    "_cell_guid": "b1076dfc-b9ad-4769-8c92-a6c4dae69d19",
    "_uuid": "8f2839f25d086af736a60e9eeb907d3b93b6e0e5",
    "execution": {
     "iopub.execute_input": "2024-02-09T17:02:58.494571Z",
     "iopub.status.busy": "2024-02-09T17:02:58.493992Z",
     "iopub.status.idle": "2024-02-09T17:03:01.131828Z",
     "shell.execute_reply": "2024-02-09T17:03:01.130444Z"
    },
    "papermill": {
     "duration": 2.670063,
     "end_time": "2024-02-09T17:03:01.135062",
     "exception": false,
     "start_time": "2024-02-09T17:02:58.464999",
     "status": "completed"
    },
    "tags": []
   },
   "outputs": [],
   "source": [
    "import pandas as pd\n",
    "import numpy as np\n",
    "import matplotlib.pyplot as plt\n",
    "%matplotlib inline\n",
    "import seaborn as sns\n",
    "\n",
    "sns.set_palette(\"Set2\")"
   ]
  },
  {
   "cell_type": "code",
   "execution_count": 2,
   "id": "92632d42",
   "metadata": {
    "execution": {
     "iopub.execute_input": "2024-02-09T17:03:01.185934Z",
     "iopub.status.busy": "2024-02-09T17:03:01.184886Z",
     "iopub.status.idle": "2024-02-09T17:03:01.825058Z",
     "shell.execute_reply": "2024-02-09T17:03:01.823841Z"
    },
    "papermill": {
     "duration": 0.668917,
     "end_time": "2024-02-09T17:03:01.828014",
     "exception": false,
     "start_time": "2024-02-09T17:03:01.159097",
     "status": "completed"
    },
    "tags": []
   },
   "outputs": [],
   "source": [
    "from sklearn.model_selection import cross_val_score\n",
    "from sklearn.linear_model import LogisticRegression\n",
    "from sklearn.svm import SVC, LinearSVC\n",
    "from sklearn.ensemble import RandomForestClassifier\n",
    "from sklearn.neighbors import KNeighborsClassifier\n",
    "from sklearn.naive_bayes import GaussianNB\n",
    "from sklearn.linear_model import Perceptron\n",
    "from sklearn.linear_model import SGDClassifier\n",
    "from sklearn.tree import DecisionTreeClassifier"
   ]
  },
  {
   "cell_type": "code",
   "execution_count": 3,
   "id": "e4e5f3b1",
   "metadata": {
    "execution": {
     "iopub.execute_input": "2024-02-09T17:03:01.877621Z",
     "iopub.status.busy": "2024-02-09T17:03:01.876843Z",
     "iopub.status.idle": "2024-02-09T17:03:01.928815Z",
     "shell.execute_reply": "2024-02-09T17:03:01.927727Z"
    },
    "papermill": {
     "duration": 0.079825,
     "end_time": "2024-02-09T17:03:01.931845",
     "exception": false,
     "start_time": "2024-02-09T17:03:01.852020",
     "status": "completed"
    },
    "tags": []
   },
   "outputs": [
    {
     "data": {
      "text/html": [
       "<div>\n",
       "<style scoped>\n",
       "    .dataframe tbody tr th:only-of-type {\n",
       "        vertical-align: middle;\n",
       "    }\n",
       "\n",
       "    .dataframe tbody tr th {\n",
       "        vertical-align: top;\n",
       "    }\n",
       "\n",
       "    .dataframe thead th {\n",
       "        text-align: right;\n",
       "    }\n",
       "</style>\n",
       "<table border=\"1\" class=\"dataframe\">\n",
       "  <thead>\n",
       "    <tr style=\"text-align: right;\">\n",
       "      <th></th>\n",
       "      <th>Loan_ID</th>\n",
       "      <th>Gender</th>\n",
       "      <th>Married</th>\n",
       "      <th>Dependents</th>\n",
       "      <th>Education</th>\n",
       "      <th>Self_Employed</th>\n",
       "      <th>ApplicantIncome</th>\n",
       "      <th>CoapplicantIncome</th>\n",
       "      <th>LoanAmount</th>\n",
       "      <th>Loan_Amount_Term</th>\n",
       "      <th>Credit_History</th>\n",
       "      <th>Property_Area</th>\n",
       "      <th>Loan_Status</th>\n",
       "    </tr>\n",
       "  </thead>\n",
       "  <tbody>\n",
       "    <tr>\n",
       "      <th>0</th>\n",
       "      <td>LP001003</td>\n",
       "      <td>Male</td>\n",
       "      <td>Yes</td>\n",
       "      <td>1</td>\n",
       "      <td>Graduate</td>\n",
       "      <td>No</td>\n",
       "      <td>4583</td>\n",
       "      <td>1508.0</td>\n",
       "      <td>128.0</td>\n",
       "      <td>360.0</td>\n",
       "      <td>1.0</td>\n",
       "      <td>Rural</td>\n",
       "      <td>N</td>\n",
       "    </tr>\n",
       "    <tr>\n",
       "      <th>1</th>\n",
       "      <td>LP001005</td>\n",
       "      <td>Male</td>\n",
       "      <td>Yes</td>\n",
       "      <td>0</td>\n",
       "      <td>Graduate</td>\n",
       "      <td>Yes</td>\n",
       "      <td>3000</td>\n",
       "      <td>0.0</td>\n",
       "      <td>66.0</td>\n",
       "      <td>360.0</td>\n",
       "      <td>1.0</td>\n",
       "      <td>Urban</td>\n",
       "      <td>Y</td>\n",
       "    </tr>\n",
       "    <tr>\n",
       "      <th>2</th>\n",
       "      <td>LP001006</td>\n",
       "      <td>Male</td>\n",
       "      <td>Yes</td>\n",
       "      <td>0</td>\n",
       "      <td>Not Graduate</td>\n",
       "      <td>No</td>\n",
       "      <td>2583</td>\n",
       "      <td>2358.0</td>\n",
       "      <td>120.0</td>\n",
       "      <td>360.0</td>\n",
       "      <td>1.0</td>\n",
       "      <td>Urban</td>\n",
       "      <td>Y</td>\n",
       "    </tr>\n",
       "    <tr>\n",
       "      <th>3</th>\n",
       "      <td>LP001008</td>\n",
       "      <td>Male</td>\n",
       "      <td>No</td>\n",
       "      <td>0</td>\n",
       "      <td>Graduate</td>\n",
       "      <td>No</td>\n",
       "      <td>6000</td>\n",
       "      <td>0.0</td>\n",
       "      <td>141.0</td>\n",
       "      <td>360.0</td>\n",
       "      <td>1.0</td>\n",
       "      <td>Urban</td>\n",
       "      <td>Y</td>\n",
       "    </tr>\n",
       "    <tr>\n",
       "      <th>4</th>\n",
       "      <td>LP001013</td>\n",
       "      <td>Male</td>\n",
       "      <td>Yes</td>\n",
       "      <td>0</td>\n",
       "      <td>Not Graduate</td>\n",
       "      <td>No</td>\n",
       "      <td>2333</td>\n",
       "      <td>1516.0</td>\n",
       "      <td>95.0</td>\n",
       "      <td>360.0</td>\n",
       "      <td>1.0</td>\n",
       "      <td>Urban</td>\n",
       "      <td>Y</td>\n",
       "    </tr>\n",
       "  </tbody>\n",
       "</table>\n",
       "</div>"
      ],
      "text/plain": [
       "    Loan_ID Gender Married Dependents     Education Self_Employed  \\\n",
       "0  LP001003   Male     Yes          1      Graduate            No   \n",
       "1  LP001005   Male     Yes          0      Graduate           Yes   \n",
       "2  LP001006   Male     Yes          0  Not Graduate            No   \n",
       "3  LP001008   Male      No          0      Graduate            No   \n",
       "4  LP001013   Male     Yes          0  Not Graduate            No   \n",
       "\n",
       "   ApplicantIncome  CoapplicantIncome  LoanAmount  Loan_Amount_Term  \\\n",
       "0             4583             1508.0       128.0             360.0   \n",
       "1             3000                0.0        66.0             360.0   \n",
       "2             2583             2358.0       120.0             360.0   \n",
       "3             6000                0.0       141.0             360.0   \n",
       "4             2333             1516.0        95.0             360.0   \n",
       "\n",
       "   Credit_History Property_Area Loan_Status  \n",
       "0             1.0         Rural           N  \n",
       "1             1.0         Urban           Y  \n",
       "2             1.0         Urban           Y  \n",
       "3             1.0         Urban           Y  \n",
       "4             1.0         Urban           Y  "
      ]
     },
     "execution_count": 3,
     "metadata": {},
     "output_type": "execute_result"
    }
   ],
   "source": [
    "df = pd.read_csv('/kaggle/input/loan-status-prediction/loan_data.csv')\n",
    "df.head()"
   ]
  },
  {
   "cell_type": "markdown",
   "id": "30edbca2",
   "metadata": {
    "papermill": {
     "duration": 0.023644,
     "end_time": "2024-02-09T17:03:01.979431",
     "exception": false,
     "start_time": "2024-02-09T17:03:01.955787",
     "status": "completed"
    },
    "tags": []
   },
   "source": [
    "## Analyze data"
   ]
  },
  {
   "cell_type": "code",
   "execution_count": 4,
   "id": "7bf18a74",
   "metadata": {
    "execution": {
     "iopub.execute_input": "2024-02-09T17:03:02.029851Z",
     "iopub.status.busy": "2024-02-09T17:03:02.029462Z",
     "iopub.status.idle": "2024-02-09T17:03:02.061229Z",
     "shell.execute_reply": "2024-02-09T17:03:02.059588Z"
    },
    "papermill": {
     "duration": 0.061235,
     "end_time": "2024-02-09T17:03:02.065087",
     "exception": false,
     "start_time": "2024-02-09T17:03:02.003852",
     "status": "completed"
    },
    "tags": []
   },
   "outputs": [
    {
     "name": "stdout",
     "output_type": "stream",
     "text": [
      "<class 'pandas.core.frame.DataFrame'>\n",
      "RangeIndex: 381 entries, 0 to 380\n",
      "Data columns (total 13 columns):\n",
      " #   Column             Non-Null Count  Dtype  \n",
      "---  ------             --------------  -----  \n",
      " 0   Loan_ID            381 non-null    object \n",
      " 1   Gender             376 non-null    object \n",
      " 2   Married            381 non-null    object \n",
      " 3   Dependents         373 non-null    object \n",
      " 4   Education          381 non-null    object \n",
      " 5   Self_Employed      360 non-null    object \n",
      " 6   ApplicantIncome    381 non-null    int64  \n",
      " 7   CoapplicantIncome  381 non-null    float64\n",
      " 8   LoanAmount         381 non-null    float64\n",
      " 9   Loan_Amount_Term   370 non-null    float64\n",
      " 10  Credit_History     351 non-null    float64\n",
      " 11  Property_Area      381 non-null    object \n",
      " 12  Loan_Status        381 non-null    object \n",
      "dtypes: float64(4), int64(1), object(8)\n",
      "memory usage: 38.8+ KB\n"
     ]
    }
   ],
   "source": [
    "df.info()"
   ]
  },
  {
   "cell_type": "code",
   "execution_count": 5,
   "id": "cbe384ec",
   "metadata": {
    "execution": {
     "iopub.execute_input": "2024-02-09T17:03:02.119217Z",
     "iopub.status.busy": "2024-02-09T17:03:02.118800Z",
     "iopub.status.idle": "2024-02-09T17:03:02.127435Z",
     "shell.execute_reply": "2024-02-09T17:03:02.126549Z"
    },
    "papermill": {
     "duration": 0.038372,
     "end_time": "2024-02-09T17:03:02.130176",
     "exception": false,
     "start_time": "2024-02-09T17:03:02.091804",
     "status": "completed"
    },
    "tags": []
   },
   "outputs": [
    {
     "data": {
      "text/plain": [
       "Loan_ID               0\n",
       "Gender                5\n",
       "Married               0\n",
       "Dependents            8\n",
       "Education             0\n",
       "Self_Employed        21\n",
       "ApplicantIncome       0\n",
       "CoapplicantIncome     0\n",
       "LoanAmount            0\n",
       "Loan_Amount_Term     11\n",
       "Credit_History       30\n",
       "Property_Area         0\n",
       "Loan_Status           0\n",
       "dtype: int64"
      ]
     },
     "execution_count": 5,
     "metadata": {},
     "output_type": "execute_result"
    }
   ],
   "source": [
    "df.isnull().sum()"
   ]
  },
  {
   "cell_type": "code",
   "execution_count": 6,
   "id": "b112f81e",
   "metadata": {
    "execution": {
     "iopub.execute_input": "2024-02-09T17:03:02.183500Z",
     "iopub.status.busy": "2024-02-09T17:03:02.183077Z",
     "iopub.status.idle": "2024-02-09T17:03:02.214868Z",
     "shell.execute_reply": "2024-02-09T17:03:02.213732Z"
    },
    "papermill": {
     "duration": 0.061965,
     "end_time": "2024-02-09T17:03:02.218165",
     "exception": false,
     "start_time": "2024-02-09T17:03:02.156200",
     "status": "completed"
    },
    "tags": []
   },
   "outputs": [
    {
     "data": {
      "text/html": [
       "<div>\n",
       "<style scoped>\n",
       "    .dataframe tbody tr th:only-of-type {\n",
       "        vertical-align: middle;\n",
       "    }\n",
       "\n",
       "    .dataframe tbody tr th {\n",
       "        vertical-align: top;\n",
       "    }\n",
       "\n",
       "    .dataframe thead th {\n",
       "        text-align: right;\n",
       "    }\n",
       "</style>\n",
       "<table border=\"1\" class=\"dataframe\">\n",
       "  <thead>\n",
       "    <tr style=\"text-align: right;\">\n",
       "      <th></th>\n",
       "      <th>ApplicantIncome</th>\n",
       "      <th>CoapplicantIncome</th>\n",
       "      <th>LoanAmount</th>\n",
       "      <th>Loan_Amount_Term</th>\n",
       "      <th>Credit_History</th>\n",
       "    </tr>\n",
       "  </thead>\n",
       "  <tbody>\n",
       "    <tr>\n",
       "      <th>count</th>\n",
       "      <td>381.000000</td>\n",
       "      <td>381.000000</td>\n",
       "      <td>381.000000</td>\n",
       "      <td>370.000000</td>\n",
       "      <td>351.000000</td>\n",
       "    </tr>\n",
       "    <tr>\n",
       "      <th>mean</th>\n",
       "      <td>3579.845144</td>\n",
       "      <td>1277.275381</td>\n",
       "      <td>104.986877</td>\n",
       "      <td>340.864865</td>\n",
       "      <td>0.837607</td>\n",
       "    </tr>\n",
       "    <tr>\n",
       "      <th>std</th>\n",
       "      <td>1419.813818</td>\n",
       "      <td>2340.818114</td>\n",
       "      <td>28.358464</td>\n",
       "      <td>68.549257</td>\n",
       "      <td>0.369338</td>\n",
       "    </tr>\n",
       "    <tr>\n",
       "      <th>min</th>\n",
       "      <td>150.000000</td>\n",
       "      <td>0.000000</td>\n",
       "      <td>9.000000</td>\n",
       "      <td>12.000000</td>\n",
       "      <td>0.000000</td>\n",
       "    </tr>\n",
       "    <tr>\n",
       "      <th>25%</th>\n",
       "      <td>2600.000000</td>\n",
       "      <td>0.000000</td>\n",
       "      <td>90.000000</td>\n",
       "      <td>360.000000</td>\n",
       "      <td>1.000000</td>\n",
       "    </tr>\n",
       "    <tr>\n",
       "      <th>50%</th>\n",
       "      <td>3333.000000</td>\n",
       "      <td>983.000000</td>\n",
       "      <td>110.000000</td>\n",
       "      <td>360.000000</td>\n",
       "      <td>1.000000</td>\n",
       "    </tr>\n",
       "    <tr>\n",
       "      <th>75%</th>\n",
       "      <td>4288.000000</td>\n",
       "      <td>2016.000000</td>\n",
       "      <td>127.000000</td>\n",
       "      <td>360.000000</td>\n",
       "      <td>1.000000</td>\n",
       "    </tr>\n",
       "    <tr>\n",
       "      <th>max</th>\n",
       "      <td>9703.000000</td>\n",
       "      <td>33837.000000</td>\n",
       "      <td>150.000000</td>\n",
       "      <td>480.000000</td>\n",
       "      <td>1.000000</td>\n",
       "    </tr>\n",
       "  </tbody>\n",
       "</table>\n",
       "</div>"
      ],
      "text/plain": [
       "       ApplicantIncome  CoapplicantIncome  LoanAmount  Loan_Amount_Term  \\\n",
       "count       381.000000         381.000000  381.000000        370.000000   \n",
       "mean       3579.845144        1277.275381  104.986877        340.864865   \n",
       "std        1419.813818        2340.818114   28.358464         68.549257   \n",
       "min         150.000000           0.000000    9.000000         12.000000   \n",
       "25%        2600.000000           0.000000   90.000000        360.000000   \n",
       "50%        3333.000000         983.000000  110.000000        360.000000   \n",
       "75%        4288.000000        2016.000000  127.000000        360.000000   \n",
       "max        9703.000000       33837.000000  150.000000        480.000000   \n",
       "\n",
       "       Credit_History  \n",
       "count      351.000000  \n",
       "mean         0.837607  \n",
       "std          0.369338  \n",
       "min          0.000000  \n",
       "25%          1.000000  \n",
       "50%          1.000000  \n",
       "75%          1.000000  \n",
       "max          1.000000  "
      ]
     },
     "execution_count": 6,
     "metadata": {},
     "output_type": "execute_result"
    }
   ],
   "source": [
    "df.describe()"
   ]
  },
  {
   "cell_type": "code",
   "execution_count": 7,
   "id": "e5954566",
   "metadata": {
    "execution": {
     "iopub.execute_input": "2024-02-09T17:03:02.274189Z",
     "iopub.status.busy": "2024-02-09T17:03:02.273748Z",
     "iopub.status.idle": "2024-02-09T17:03:02.300912Z",
     "shell.execute_reply": "2024-02-09T17:03:02.299413Z"
    },
    "papermill": {
     "duration": 0.058626,
     "end_time": "2024-02-09T17:03:02.303679",
     "exception": false,
     "start_time": "2024-02-09T17:03:02.245053",
     "status": "completed"
    },
    "tags": []
   },
   "outputs": [
    {
     "data": {
      "text/html": [
       "<div>\n",
       "<style scoped>\n",
       "    .dataframe tbody tr th:only-of-type {\n",
       "        vertical-align: middle;\n",
       "    }\n",
       "\n",
       "    .dataframe tbody tr th {\n",
       "        vertical-align: top;\n",
       "    }\n",
       "\n",
       "    .dataframe thead th {\n",
       "        text-align: right;\n",
       "    }\n",
       "</style>\n",
       "<table border=\"1\" class=\"dataframe\">\n",
       "  <thead>\n",
       "    <tr style=\"text-align: right;\">\n",
       "      <th></th>\n",
       "      <th>Loan_ID</th>\n",
       "      <th>Gender</th>\n",
       "      <th>Married</th>\n",
       "      <th>Dependents</th>\n",
       "      <th>Education</th>\n",
       "      <th>Self_Employed</th>\n",
       "      <th>Property_Area</th>\n",
       "      <th>Loan_Status</th>\n",
       "    </tr>\n",
       "  </thead>\n",
       "  <tbody>\n",
       "    <tr>\n",
       "      <th>count</th>\n",
       "      <td>381</td>\n",
       "      <td>376</td>\n",
       "      <td>381</td>\n",
       "      <td>373</td>\n",
       "      <td>381</td>\n",
       "      <td>360</td>\n",
       "      <td>381</td>\n",
       "      <td>381</td>\n",
       "    </tr>\n",
       "    <tr>\n",
       "      <th>unique</th>\n",
       "      <td>381</td>\n",
       "      <td>2</td>\n",
       "      <td>2</td>\n",
       "      <td>4</td>\n",
       "      <td>2</td>\n",
       "      <td>2</td>\n",
       "      <td>3</td>\n",
       "      <td>2</td>\n",
       "    </tr>\n",
       "    <tr>\n",
       "      <th>top</th>\n",
       "      <td>LP001003</td>\n",
       "      <td>Male</td>\n",
       "      <td>Yes</td>\n",
       "      <td>0</td>\n",
       "      <td>Graduate</td>\n",
       "      <td>No</td>\n",
       "      <td>Semiurban</td>\n",
       "      <td>Y</td>\n",
       "    </tr>\n",
       "    <tr>\n",
       "      <th>freq</th>\n",
       "      <td>1</td>\n",
       "      <td>291</td>\n",
       "      <td>228</td>\n",
       "      <td>234</td>\n",
       "      <td>278</td>\n",
       "      <td>325</td>\n",
       "      <td>149</td>\n",
       "      <td>271</td>\n",
       "    </tr>\n",
       "  </tbody>\n",
       "</table>\n",
       "</div>"
      ],
      "text/plain": [
       "         Loan_ID Gender Married Dependents Education Self_Employed  \\\n",
       "count        381    376     381        373       381           360   \n",
       "unique       381      2       2          4         2             2   \n",
       "top     LP001003   Male     Yes          0  Graduate            No   \n",
       "freq           1    291     228        234       278           325   \n",
       "\n",
       "       Property_Area Loan_Status  \n",
       "count            381         381  \n",
       "unique             3           2  \n",
       "top        Semiurban           Y  \n",
       "freq             149         271  "
      ]
     },
     "execution_count": 7,
     "metadata": {},
     "output_type": "execute_result"
    }
   ],
   "source": [
    "df.describe(include='O')"
   ]
  },
  {
   "cell_type": "code",
   "execution_count": 8,
   "id": "ab6287bb",
   "metadata": {
    "execution": {
     "iopub.execute_input": "2024-02-09T17:03:02.362193Z",
     "iopub.status.busy": "2024-02-09T17:03:02.361756Z",
     "iopub.status.idle": "2024-02-09T17:03:02.371451Z",
     "shell.execute_reply": "2024-02-09T17:03:02.370065Z"
    },
    "papermill": {
     "duration": 0.043142,
     "end_time": "2024-02-09T17:03:02.374274",
     "exception": false,
     "start_time": "2024-02-09T17:03:02.331132",
     "status": "completed"
    },
    "tags": []
   },
   "outputs": [
    {
     "data": {
      "text/plain": [
       "Education\n",
       "Graduate        278\n",
       "Not Graduate    103\n",
       "Name: count, dtype: int64"
      ]
     },
     "execution_count": 8,
     "metadata": {},
     "output_type": "execute_result"
    }
   ],
   "source": [
    "df['Education'].value_counts()"
   ]
  },
  {
   "cell_type": "code",
   "execution_count": 9,
   "id": "776e2c68",
   "metadata": {
    "execution": {
     "iopub.execute_input": "2024-02-09T17:03:02.429857Z",
     "iopub.status.busy": "2024-02-09T17:03:02.428706Z",
     "iopub.status.idle": "2024-02-09T17:03:02.438418Z",
     "shell.execute_reply": "2024-02-09T17:03:02.436889Z"
    },
    "papermill": {
     "duration": 0.040415,
     "end_time": "2024-02-09T17:03:02.441310",
     "exception": false,
     "start_time": "2024-02-09T17:03:02.400895",
     "status": "completed"
    },
    "tags": []
   },
   "outputs": [
    {
     "data": {
      "text/plain": [
       "array(['Rural', 'Urban', 'Semiurban'], dtype=object)"
      ]
     },
     "execution_count": 9,
     "metadata": {},
     "output_type": "execute_result"
    }
   ],
   "source": [
    "df['Property_Area'].unique()"
   ]
  },
  {
   "cell_type": "code",
   "execution_count": 10,
   "id": "9d0f9f2f",
   "metadata": {
    "execution": {
     "iopub.execute_input": "2024-02-09T17:03:02.497031Z",
     "iopub.status.busy": "2024-02-09T17:03:02.496576Z",
     "iopub.status.idle": "2024-02-09T17:03:02.506785Z",
     "shell.execute_reply": "2024-02-09T17:03:02.505903Z"
    },
    "papermill": {
     "duration": 0.040796,
     "end_time": "2024-02-09T17:03:02.509540",
     "exception": false,
     "start_time": "2024-02-09T17:03:02.468744",
     "status": "completed"
    },
    "tags": []
   },
   "outputs": [
    {
     "data": {
      "text/plain": [
       "array([ 1., nan,  0.])"
      ]
     },
     "execution_count": 10,
     "metadata": {},
     "output_type": "execute_result"
    }
   ],
   "source": [
    "df['Credit_History'].unique()"
   ]
  },
  {
   "cell_type": "code",
   "execution_count": 11,
   "id": "beddef1d",
   "metadata": {
    "execution": {
     "iopub.execute_input": "2024-02-09T17:03:02.565722Z",
     "iopub.status.busy": "2024-02-09T17:03:02.565088Z",
     "iopub.status.idle": "2024-02-09T17:03:02.572526Z",
     "shell.execute_reply": "2024-02-09T17:03:02.571287Z"
    },
    "papermill": {
     "duration": 0.038416,
     "end_time": "2024-02-09T17:03:02.575204",
     "exception": false,
     "start_time": "2024-02-09T17:03:02.536788",
     "status": "completed"
    },
    "tags": []
   },
   "outputs": [],
   "source": [
    "df['Loan_Status_numeric'] = df['Loan_Status'].map({'Y': 1, 'N':0}).astype(int)"
   ]
  },
  {
   "cell_type": "code",
   "execution_count": 12,
   "id": "a4d44597",
   "metadata": {
    "execution": {
     "iopub.execute_input": "2024-02-09T17:03:02.628855Z",
     "iopub.status.busy": "2024-02-09T17:03:02.628435Z",
     "iopub.status.idle": "2024-02-09T17:03:02.650420Z",
     "shell.execute_reply": "2024-02-09T17:03:02.648940Z"
    },
    "papermill": {
     "duration": 0.052249,
     "end_time": "2024-02-09T17:03:02.653477",
     "exception": false,
     "start_time": "2024-02-09T17:03:02.601228",
     "status": "completed"
    },
    "tags": []
   },
   "outputs": [
    {
     "data": {
      "text/html": [
       "<div>\n",
       "<style scoped>\n",
       "    .dataframe tbody tr th:only-of-type {\n",
       "        vertical-align: middle;\n",
       "    }\n",
       "\n",
       "    .dataframe tbody tr th {\n",
       "        vertical-align: top;\n",
       "    }\n",
       "\n",
       "    .dataframe thead th {\n",
       "        text-align: right;\n",
       "    }\n",
       "</style>\n",
       "<table border=\"1\" class=\"dataframe\">\n",
       "  <thead>\n",
       "    <tr style=\"text-align: right;\">\n",
       "      <th></th>\n",
       "      <th>Gender</th>\n",
       "      <th>Loan_Status_numeric</th>\n",
       "    </tr>\n",
       "  </thead>\n",
       "  <tbody>\n",
       "    <tr>\n",
       "      <th>0</th>\n",
       "      <td>Female</td>\n",
       "      <td>0.694118</td>\n",
       "    </tr>\n",
       "    <tr>\n",
       "      <th>1</th>\n",
       "      <td>Male</td>\n",
       "      <td>0.725086</td>\n",
       "    </tr>\n",
       "  </tbody>\n",
       "</table>\n",
       "</div>"
      ],
      "text/plain": [
       "   Gender  Loan_Status_numeric\n",
       "0  Female             0.694118\n",
       "1    Male             0.725086"
      ]
     },
     "execution_count": 12,
     "metadata": {},
     "output_type": "execute_result"
    }
   ],
   "source": [
    "df[['Gender', 'Loan_Status_numeric']].groupby('Gender', as_index=False).mean()"
   ]
  },
  {
   "cell_type": "markdown",
   "id": "421d5666",
   "metadata": {
    "papermill": {
     "duration": 0.025724,
     "end_time": "2024-02-09T17:03:02.705328",
     "exception": false,
     "start_time": "2024-02-09T17:03:02.679604",
     "status": "completed"
    },
    "tags": []
   },
   "source": [
    "Observation: \n",
    "* Loans were granted to women in 69,4%, to men in 72,5%.\n",
    "* Gender has no impact on granting a loan.\n",
    "\n",
    "Decision:\n",
    "Gender feature should not be included for model training."
   ]
  },
  {
   "cell_type": "code",
   "execution_count": 13,
   "id": "bf2533ea",
   "metadata": {
    "execution": {
     "iopub.execute_input": "2024-02-09T17:03:02.760524Z",
     "iopub.status.busy": "2024-02-09T17:03:02.760079Z",
     "iopub.status.idle": "2024-02-09T17:03:02.775535Z",
     "shell.execute_reply": "2024-02-09T17:03:02.774069Z"
    },
    "papermill": {
     "duration": 0.04607,
     "end_time": "2024-02-09T17:03:02.778200",
     "exception": false,
     "start_time": "2024-02-09T17:03:02.732130",
     "status": "completed"
    },
    "tags": []
   },
   "outputs": [
    {
     "data": {
      "text/html": [
       "<div>\n",
       "<style scoped>\n",
       "    .dataframe tbody tr th:only-of-type {\n",
       "        vertical-align: middle;\n",
       "    }\n",
       "\n",
       "    .dataframe tbody tr th {\n",
       "        vertical-align: top;\n",
       "    }\n",
       "\n",
       "    .dataframe thead th {\n",
       "        text-align: right;\n",
       "    }\n",
       "</style>\n",
       "<table border=\"1\" class=\"dataframe\">\n",
       "  <thead>\n",
       "    <tr style=\"text-align: right;\">\n",
       "      <th></th>\n",
       "      <th>Married</th>\n",
       "      <th>Loan_Status_numeric</th>\n",
       "    </tr>\n",
       "  </thead>\n",
       "  <tbody>\n",
       "    <tr>\n",
       "      <th>0</th>\n",
       "      <td>No</td>\n",
       "      <td>0.660131</td>\n",
       "    </tr>\n",
       "    <tr>\n",
       "      <th>1</th>\n",
       "      <td>Yes</td>\n",
       "      <td>0.745614</td>\n",
       "    </tr>\n",
       "  </tbody>\n",
       "</table>\n",
       "</div>"
      ],
      "text/plain": [
       "  Married  Loan_Status_numeric\n",
       "0      No             0.660131\n",
       "1     Yes             0.745614"
      ]
     },
     "execution_count": 13,
     "metadata": {},
     "output_type": "execute_result"
    }
   ],
   "source": [
    "df[['Married', 'Loan_Status_numeric']].groupby('Married', as_index=False).mean()"
   ]
  },
  {
   "cell_type": "markdown",
   "id": "565e1989",
   "metadata": {
    "papermill": {
     "duration": 0.026327,
     "end_time": "2024-02-09T17:03:02.831333",
     "exception": false,
     "start_time": "2024-02-09T17:03:02.805006",
     "status": "completed"
    },
    "tags": []
   },
   "source": [
    "Observation: \n",
    "* Married people were slightly more likely to receive loans (74,6%) than unmarried (66,0%).\n",
    "\n",
    "Decision:\n",
    "Married feature should not be icluded for model training.\n",
    "Create new column - Income per person in family."
   ]
  },
  {
   "cell_type": "code",
   "execution_count": 14,
   "id": "a3f385fb",
   "metadata": {
    "execution": {
     "iopub.execute_input": "2024-02-09T17:03:02.889408Z",
     "iopub.status.busy": "2024-02-09T17:03:02.888988Z",
     "iopub.status.idle": "2024-02-09T17:03:02.905624Z",
     "shell.execute_reply": "2024-02-09T17:03:02.903813Z"
    },
    "papermill": {
     "duration": 0.048194,
     "end_time": "2024-02-09T17:03:02.908603",
     "exception": false,
     "start_time": "2024-02-09T17:03:02.860409",
     "status": "completed"
    },
    "tags": []
   },
   "outputs": [
    {
     "data": {
      "text/html": [
       "<div>\n",
       "<style scoped>\n",
       "    .dataframe tbody tr th:only-of-type {\n",
       "        vertical-align: middle;\n",
       "    }\n",
       "\n",
       "    .dataframe tbody tr th {\n",
       "        vertical-align: top;\n",
       "    }\n",
       "\n",
       "    .dataframe thead th {\n",
       "        text-align: right;\n",
       "    }\n",
       "</style>\n",
       "<table border=\"1\" class=\"dataframe\">\n",
       "  <thead>\n",
       "    <tr style=\"text-align: right;\">\n",
       "      <th></th>\n",
       "      <th>Dependents</th>\n",
       "      <th>Loan_Status_numeric</th>\n",
       "    </tr>\n",
       "  </thead>\n",
       "  <tbody>\n",
       "    <tr>\n",
       "      <th>0</th>\n",
       "      <td>0</td>\n",
       "      <td>0.717949</td>\n",
       "    </tr>\n",
       "    <tr>\n",
       "      <th>1</th>\n",
       "      <td>1</td>\n",
       "      <td>0.673077</td>\n",
       "    </tr>\n",
       "    <tr>\n",
       "      <th>2</th>\n",
       "      <td>2</td>\n",
       "      <td>0.745763</td>\n",
       "    </tr>\n",
       "    <tr>\n",
       "      <th>3</th>\n",
       "      <td>3+</td>\n",
       "      <td>0.714286</td>\n",
       "    </tr>\n",
       "  </tbody>\n",
       "</table>\n",
       "</div>"
      ],
      "text/plain": [
       "  Dependents  Loan_Status_numeric\n",
       "0          0             0.717949\n",
       "1          1             0.673077\n",
       "2          2             0.745763\n",
       "3         3+             0.714286"
      ]
     },
     "execution_count": 14,
     "metadata": {},
     "output_type": "execute_result"
    }
   ],
   "source": [
    "df[['Dependents', 'Loan_Status_numeric']].groupby('Dependents', as_index=False).mean()"
   ]
  },
  {
   "cell_type": "markdown",
   "id": "efb3bb7c",
   "metadata": {
    "papermill": {
     "duration": 0.026346,
     "end_time": "2024-02-09T17:03:03.020775",
     "exception": false,
     "start_time": "2024-02-09T17:03:02.994429",
     "status": "completed"
    },
    "tags": []
   },
   "source": [
    "Observation:\n",
    "* There are no significant differences in granting loans between people who have dependents than not.\n",
    "\n",
    "Decision:\n",
    "* Complete feature for null values.\n",
    "* Create new column - Income per person in family. "
   ]
  },
  {
   "cell_type": "code",
   "execution_count": 15,
   "id": "6e3aea42",
   "metadata": {
    "execution": {
     "iopub.execute_input": "2024-02-09T17:03:03.075206Z",
     "iopub.status.busy": "2024-02-09T17:03:03.074722Z",
     "iopub.status.idle": "2024-02-09T17:03:03.091159Z",
     "shell.execute_reply": "2024-02-09T17:03:03.089894Z"
    },
    "papermill": {
     "duration": 0.046872,
     "end_time": "2024-02-09T17:03:03.093471",
     "exception": false,
     "start_time": "2024-02-09T17:03:03.046599",
     "status": "completed"
    },
    "tags": []
   },
   "outputs": [
    {
     "data": {
      "text/html": [
       "<div>\n",
       "<style scoped>\n",
       "    .dataframe tbody tr th:only-of-type {\n",
       "        vertical-align: middle;\n",
       "    }\n",
       "\n",
       "    .dataframe tbody tr th {\n",
       "        vertical-align: top;\n",
       "    }\n",
       "\n",
       "    .dataframe thead th {\n",
       "        text-align: right;\n",
       "    }\n",
       "</style>\n",
       "<table border=\"1\" class=\"dataframe\">\n",
       "  <thead>\n",
       "    <tr style=\"text-align: right;\">\n",
       "      <th></th>\n",
       "      <th>Education</th>\n",
       "      <th>Loan_Status_numeric</th>\n",
       "    </tr>\n",
       "  </thead>\n",
       "  <tbody>\n",
       "    <tr>\n",
       "      <th>0</th>\n",
       "      <td>Graduate</td>\n",
       "      <td>0.726619</td>\n",
       "    </tr>\n",
       "    <tr>\n",
       "      <th>1</th>\n",
       "      <td>Not Graduate</td>\n",
       "      <td>0.669903</td>\n",
       "    </tr>\n",
       "  </tbody>\n",
       "</table>\n",
       "</div>"
      ],
      "text/plain": [
       "      Education  Loan_Status_numeric\n",
       "0      Graduate             0.726619\n",
       "1  Not Graduate             0.669903"
      ]
     },
     "execution_count": 15,
     "metadata": {},
     "output_type": "execute_result"
    }
   ],
   "source": [
    "df[['Education', 'Loan_Status_numeric']].groupby('Education', as_index=False).mean()"
   ]
  },
  {
   "cell_type": "markdown",
   "id": "117e79c4",
   "metadata": {
    "papermill": {
     "duration": 0.026246,
     "end_time": "2024-02-09T17:03:03.145834",
     "exception": false,
     "start_time": "2024-02-09T17:03:03.119588",
     "status": "completed"
    },
    "tags": []
   },
   "source": [
    "Observation:\n",
    "* Graduated people were slightly more likely to receive loans (72,7%) than not graduated (67,0%).\n",
    "\n",
    "Decision: Education feature should not be icluded for model training. "
   ]
  },
  {
   "cell_type": "code",
   "execution_count": 16,
   "id": "4cef89b4",
   "metadata": {
    "execution": {
     "iopub.execute_input": "2024-02-09T17:03:03.201946Z",
     "iopub.status.busy": "2024-02-09T17:03:03.201565Z",
     "iopub.status.idle": "2024-02-09T17:03:03.214905Z",
     "shell.execute_reply": "2024-02-09T17:03:03.213767Z"
    },
    "papermill": {
     "duration": 0.043937,
     "end_time": "2024-02-09T17:03:03.217236",
     "exception": false,
     "start_time": "2024-02-09T17:03:03.173299",
     "status": "completed"
    },
    "tags": []
   },
   "outputs": [
    {
     "data": {
      "text/html": [
       "<div>\n",
       "<style scoped>\n",
       "    .dataframe tbody tr th:only-of-type {\n",
       "        vertical-align: middle;\n",
       "    }\n",
       "\n",
       "    .dataframe tbody tr th {\n",
       "        vertical-align: top;\n",
       "    }\n",
       "\n",
       "    .dataframe thead th {\n",
       "        text-align: right;\n",
       "    }\n",
       "</style>\n",
       "<table border=\"1\" class=\"dataframe\">\n",
       "  <thead>\n",
       "    <tr style=\"text-align: right;\">\n",
       "      <th></th>\n",
       "      <th>Self_Employed</th>\n",
       "      <th>Loan_Status_numeric</th>\n",
       "    </tr>\n",
       "  </thead>\n",
       "  <tbody>\n",
       "    <tr>\n",
       "      <th>0</th>\n",
       "      <td>No</td>\n",
       "      <td>0.707692</td>\n",
       "    </tr>\n",
       "    <tr>\n",
       "      <th>1</th>\n",
       "      <td>Yes</td>\n",
       "      <td>0.685714</td>\n",
       "    </tr>\n",
       "  </tbody>\n",
       "</table>\n",
       "</div>"
      ],
      "text/plain": [
       "  Self_Employed  Loan_Status_numeric\n",
       "0            No             0.707692\n",
       "1           Yes             0.685714"
      ]
     },
     "execution_count": 16,
     "metadata": {},
     "output_type": "execute_result"
    }
   ],
   "source": [
    "df[['Self_Employed', 'Loan_Status_numeric']].groupby('Self_Employed', as_index=False).mean()"
   ]
  },
  {
   "cell_type": "markdown",
   "id": "639e0614",
   "metadata": {
    "papermill": {
     "duration": 0.026163,
     "end_time": "2024-02-09T17:03:03.269548",
     "exception": false,
     "start_time": "2024-02-09T17:03:03.243385",
     "status": "completed"
    },
    "tags": []
   },
   "source": [
    "Observation:\n",
    "* Not self-employed were slightly more likely to receive loans (70,8%) than self-employed (68,6%).\n",
    "\n",
    "Decision: This feature should not be icluded for model training."
   ]
  },
  {
   "cell_type": "code",
   "execution_count": 17,
   "id": "79008f2f",
   "metadata": {
    "execution": {
     "iopub.execute_input": "2024-02-09T17:03:03.324651Z",
     "iopub.status.busy": "2024-02-09T17:03:03.324045Z",
     "iopub.status.idle": "2024-02-09T17:03:03.337453Z",
     "shell.execute_reply": "2024-02-09T17:03:03.336310Z"
    },
    "papermill": {
     "duration": 0.043965,
     "end_time": "2024-02-09T17:03:03.339837",
     "exception": false,
     "start_time": "2024-02-09T17:03:03.295872",
     "status": "completed"
    },
    "tags": []
   },
   "outputs": [
    {
     "data": {
      "text/html": [
       "<div>\n",
       "<style scoped>\n",
       "    .dataframe tbody tr th:only-of-type {\n",
       "        vertical-align: middle;\n",
       "    }\n",
       "\n",
       "    .dataframe tbody tr th {\n",
       "        vertical-align: top;\n",
       "    }\n",
       "\n",
       "    .dataframe thead th {\n",
       "        text-align: right;\n",
       "    }\n",
       "</style>\n",
       "<table border=\"1\" class=\"dataframe\">\n",
       "  <thead>\n",
       "    <tr style=\"text-align: right;\">\n",
       "      <th></th>\n",
       "      <th>Property_Area</th>\n",
       "      <th>Loan_Status_numeric</th>\n",
       "    </tr>\n",
       "  </thead>\n",
       "  <tbody>\n",
       "    <tr>\n",
       "      <th>0</th>\n",
       "      <td>Rural</td>\n",
       "      <td>0.613208</td>\n",
       "    </tr>\n",
       "    <tr>\n",
       "      <th>1</th>\n",
       "      <td>Semiurban</td>\n",
       "      <td>0.798658</td>\n",
       "    </tr>\n",
       "    <tr>\n",
       "      <th>2</th>\n",
       "      <td>Urban</td>\n",
       "      <td>0.690476</td>\n",
       "    </tr>\n",
       "  </tbody>\n",
       "</table>\n",
       "</div>"
      ],
      "text/plain": [
       "  Property_Area  Loan_Status_numeric\n",
       "0         Rural             0.613208\n",
       "1     Semiurban             0.798658\n",
       "2         Urban             0.690476"
      ]
     },
     "execution_count": 17,
     "metadata": {},
     "output_type": "execute_result"
    }
   ],
   "source": [
    "df[['Property_Area', 'Loan_Status_numeric']].groupby('Property_Area', as_index=False).mean()"
   ]
  },
  {
   "cell_type": "markdown",
   "id": "a8ea341e",
   "metadata": {
    "papermill": {
     "duration": 0.026291,
     "end_time": "2024-02-09T17:03:03.393230",
     "exception": false,
     "start_time": "2024-02-09T17:03:03.366939",
     "status": "completed"
    },
    "tags": []
   },
   "source": [
    "Observaions:\n",
    "* People from semiurban area were more likely to receive loans (80,0%) than from urban (69,0%) and rural area (61,3%).\n",
    "\n",
    "Decision: \n",
    "* Consider Property area feature for model training.\n",
    "* Consider banding this feature."
   ]
  },
  {
   "cell_type": "code",
   "execution_count": 18,
   "id": "0437cc91",
   "metadata": {
    "execution": {
     "iopub.execute_input": "2024-02-09T17:03:03.449187Z",
     "iopub.status.busy": "2024-02-09T17:03:03.448526Z",
     "iopub.status.idle": "2024-02-09T17:03:03.462872Z",
     "shell.execute_reply": "2024-02-09T17:03:03.462069Z"
    },
    "papermill": {
     "duration": 0.046111,
     "end_time": "2024-02-09T17:03:03.465874",
     "exception": false,
     "start_time": "2024-02-09T17:03:03.419763",
     "status": "completed"
    },
    "tags": []
   },
   "outputs": [
    {
     "data": {
      "text/html": [
       "<div>\n",
       "<style scoped>\n",
       "    .dataframe tbody tr th:only-of-type {\n",
       "        vertical-align: middle;\n",
       "    }\n",
       "\n",
       "    .dataframe tbody tr th {\n",
       "        vertical-align: top;\n",
       "    }\n",
       "\n",
       "    .dataframe thead th {\n",
       "        text-align: right;\n",
       "    }\n",
       "</style>\n",
       "<table border=\"1\" class=\"dataframe\">\n",
       "  <thead>\n",
       "    <tr style=\"text-align: right;\">\n",
       "      <th></th>\n",
       "      <th>Credit_History</th>\n",
       "      <th>Loan_Status_numeric</th>\n",
       "    </tr>\n",
       "  </thead>\n",
       "  <tbody>\n",
       "    <tr>\n",
       "      <th>0</th>\n",
       "      <td>0.0</td>\n",
       "      <td>0.052632</td>\n",
       "    </tr>\n",
       "    <tr>\n",
       "      <th>1</th>\n",
       "      <td>1.0</td>\n",
       "      <td>0.823129</td>\n",
       "    </tr>\n",
       "  </tbody>\n",
       "</table>\n",
       "</div>"
      ],
      "text/plain": [
       "   Credit_History  Loan_Status_numeric\n",
       "0             0.0             0.052632\n",
       "1             1.0             0.823129"
      ]
     },
     "execution_count": 18,
     "metadata": {},
     "output_type": "execute_result"
    }
   ],
   "source": [
    "df[['Credit_History', 'Loan_Status_numeric']].groupby('Credit_History', as_index=False).mean()"
   ]
  },
  {
   "cell_type": "markdown",
   "id": "4f4fa636",
   "metadata": {
    "papermill": {
     "duration": 0.029475,
     "end_time": "2024-02-09T17:03:03.524111",
     "exception": false,
     "start_time": "2024-02-09T17:03:03.494636",
     "status": "completed"
    },
    "tags": []
   },
   "source": [
    "Observations:\n",
    "* People with credit history were more likely to recieve loans (82,3%) than people without credit history (5,3%).\n",
    "\n",
    "Decision: \n",
    "* Consider Credit History feature for model training.\n",
    "* Complete feature for null values."
   ]
  },
  {
   "cell_type": "markdown",
   "id": "613fc836",
   "metadata": {
    "papermill": {
     "duration": 0.029828,
     "end_time": "2024-02-09T17:03:03.584077",
     "exception": false,
     "start_time": "2024-02-09T17:03:03.554249",
     "status": "completed"
    },
    "tags": []
   },
   "source": [
    "## Data visualization"
   ]
  },
  {
   "cell_type": "code",
   "execution_count": 19,
   "id": "aa27b1e3",
   "metadata": {
    "execution": {
     "iopub.execute_input": "2024-02-09T17:03:03.655694Z",
     "iopub.status.busy": "2024-02-09T17:03:03.654951Z",
     "iopub.status.idle": "2024-02-09T17:03:04.413721Z",
     "shell.execute_reply": "2024-02-09T17:03:04.412285Z"
    },
    "papermill": {
     "duration": 0.797722,
     "end_time": "2024-02-09T17:03:04.416502",
     "exception": false,
     "start_time": "2024-02-09T17:03:03.618780",
     "status": "completed"
    },
    "tags": []
   },
   "outputs": [
    {
     "data": {
      "text/plain": [
       "<seaborn.axisgrid.FacetGrid at 0x7b25bd073730>"
      ]
     },
     "execution_count": 19,
     "metadata": {},
     "output_type": "execute_result"
    },
    {
     "data": {
      "image/png": "[encoded data removed]",
      "text/plain": [
       "<Figure size 600x300 with 2 Axes>"
      ]
     },
     "metadata": {},
     "output_type": "display_data"
    }
   ],
   "source": [
    "g = sns.FacetGrid(df, col='Loan_Status_numeric')\n",
    "g.map(plt.hist, 'ApplicantIncome', bins=20)"
   ]
  },
  {
   "cell_type": "code",
   "execution_count": 20,
   "id": "b6b0c08c",
   "metadata": {
    "execution": {
     "iopub.execute_input": "2024-02-09T17:03:04.474404Z",
     "iopub.status.busy": "2024-02-09T17:03:04.473946Z",
     "iopub.status.idle": "2024-02-09T17:03:05.127931Z",
     "shell.execute_reply": "2024-02-09T17:03:05.126619Z"
    },
    "papermill": {
     "duration": 0.686604,
     "end_time": "2024-02-09T17:03:05.131470",
     "exception": false,
     "start_time": "2024-02-09T17:03:04.444866",
     "status": "completed"
    },
    "tags": []
   },
   "outputs": [
    {
     "data": {
      "text/plain": [
       "<seaborn.axisgrid.FacetGrid at 0x7b25b4be2920>"
      ]
     },
     "execution_count": 20,
     "metadata": {},
     "output_type": "execute_result"
    },
    {
     "data": {
      "image/png": "[encoded data removed]",
      "text/plain": [
       "<Figure size 600x300 with 2 Axes>"
      ]
     },
     "metadata": {},
     "output_type": "display_data"
    }
   ],
   "source": [
    "g = sns.FacetGrid(df, col='Loan_Status_numeric')\n",
    "g.map(plt.hist, 'CoapplicantIncome', bins=20)"
   ]
  },
  {
   "cell_type": "markdown",
   "id": "ab9a00d8",
   "metadata": {
    "papermill": {
     "duration": 0.029841,
     "end_time": "2024-02-09T17:03:05.191952",
     "exception": false,
     "start_time": "2024-02-09T17:03:05.162111",
     "status": "completed"
    },
    "tags": []
   },
   "source": [
    "Observation:\n",
    "* It is difficult to determine the relationship between the income itself and the granting of a loan. \n",
    "\n",
    "Decision: \n",
    "* Create income per person column.\n",
    "* Consider banding income feature."
   ]
  },
  {
   "cell_type": "code",
   "execution_count": 21,
   "id": "483bbe69",
   "metadata": {
    "execution": {
     "iopub.execute_input": "2024-02-09T17:03:05.257006Z",
     "iopub.status.busy": "2024-02-09T17:03:05.256593Z",
     "iopub.status.idle": "2024-02-09T17:03:08.827079Z",
     "shell.execute_reply": "2024-02-09T17:03:08.825408Z"
    },
    "papermill": {
     "duration": 3.606458,
     "end_time": "2024-02-09T17:03:08.830488",
     "exception": false,
     "start_time": "2024-02-09T17:03:05.224030",
     "status": "completed"
    },
    "tags": []
   },
   "outputs": [
    {
     "data": {
      "text/plain": [
       "<seaborn.axisgrid.FacetGrid at 0x7b25b4b4ffd0>"
      ]
     },
     "execution_count": 21,
     "metadata": {},
     "output_type": "execute_result"
    },
    {
     "data": {
      "image/png": "[encoded data removed]",
      "text/plain": [
       "<Figure size 611.111x1200 with 8 Axes>"
      ]
     },
     "metadata": {},
     "output_type": "display_data"
    }
   ],
   "source": [
    "grid = sns.FacetGrid(df, col='Loan_Status_numeric', row='Dependents')\n",
    "grid.map(plt.hist, 'ApplicantIncome')\n",
    "grid.add_legend()"
   ]
  },
  {
   "cell_type": "code",
   "execution_count": 22,
   "id": "de2735b5",
   "metadata": {
    "execution": {
     "iopub.execute_input": "2024-02-09T17:03:08.895900Z",
     "iopub.status.busy": "2024-02-09T17:03:08.895511Z",
     "iopub.status.idle": "2024-02-09T17:03:09.646355Z",
     "shell.execute_reply": "2024-02-09T17:03:09.645168Z"
    },
    "papermill": {
     "duration": 0.786436,
     "end_time": "2024-02-09T17:03:09.649321",
     "exception": false,
     "start_time": "2024-02-09T17:03:08.862885",
     "status": "completed"
    },
    "tags": []
   },
   "outputs": [
    {
     "data": {
      "text/plain": [
       "<seaborn.axisgrid.FacetGrid at 0x7b25b4b4f6d0>"
      ]
     },
     "execution_count": 22,
     "metadata": {},
     "output_type": "execute_result"
    },
    {
     "data": {
      "image/png": "[encoded data removed]",
      "text/plain": [
       "<Figure size 600x300 with 2 Axes>"
      ]
     },
     "metadata": {},
     "output_type": "display_data"
    }
   ],
   "source": [
    "g = sns.FacetGrid(df, col='Loan_Status_numeric')\n",
    "g.map(plt.hist, 'LoanAmount', bins=20)"
   ]
  },
  {
   "cell_type": "code",
   "execution_count": 23,
   "id": "e9e34326",
   "metadata": {
    "execution": {
     "iopub.execute_input": "2024-02-09T17:03:09.717432Z",
     "iopub.status.busy": "2024-02-09T17:03:09.717038Z",
     "iopub.status.idle": "2024-02-09T17:03:10.373588Z",
     "shell.execute_reply": "2024-02-09T17:03:10.371972Z"
    },
    "papermill": {
     "duration": 0.692353,
     "end_time": "2024-02-09T17:03:10.376720",
     "exception": false,
     "start_time": "2024-02-09T17:03:09.684367",
     "status": "completed"
    },
    "tags": []
   },
   "outputs": [
    {
     "data": {
      "text/plain": [
       "<seaborn.axisgrid.FacetGrid at 0x7b25b4445ae0>"
      ]
     },
     "execution_count": 23,
     "metadata": {},
     "output_type": "execute_result"
    },
    {
     "data": {
      "image/png": "[encoded data removed]",
      "text/plain": [
       "<Figure size 600x300 with 2 Axes>"
      ]
     },
     "metadata": {},
     "output_type": "display_data"
    }
   ],
   "source": [
    "g = sns.FacetGrid(df, col='Loan_Status_numeric')\n",
    "g.map(plt.hist, 'Loan_Amount_Term', bins=20)"
   ]
  },
  {
   "cell_type": "markdown",
   "id": "a388f873",
   "metadata": {
    "papermill": {
     "duration": 0.032648,
     "end_time": "2024-02-09T17:03:10.440597",
     "exception": false,
     "start_time": "2024-02-09T17:03:10.407949",
     "status": "completed"
    },
    "tags": []
   },
   "source": [
    "Observations:\n",
    "* People with higher loan amount and longer term were more likely to recieve loan.\n",
    "\n",
    "Decision:\n",
    "* Consider Loan Amount and Loan Amount Term features for model training.\n",
    "* Complete feature for null values.\n",
    "* Create new feature - loan installment amount.\n",
    "* Consider banding loan feature."
   ]
  },
  {
   "cell_type": "code",
   "execution_count": 24,
   "id": "47df9aca",
   "metadata": {
    "execution": {
     "iopub.execute_input": "2024-02-09T17:03:10.505856Z",
     "iopub.status.busy": "2024-02-09T17:03:10.505315Z",
     "iopub.status.idle": "2024-02-09T17:03:13.092488Z",
     "shell.execute_reply": "2024-02-09T17:03:13.091069Z"
    },
    "papermill": {
     "duration": 2.62461,
     "end_time": "2024-02-09T17:03:13.096428",
     "exception": false,
     "start_time": "2024-02-09T17:03:10.471818",
     "status": "completed"
    },
    "tags": []
   },
   "outputs": [
    {
     "name": "stderr",
     "output_type": "stream",
     "text": [
      "/opt/conda/lib/python3.10/site-packages/seaborn/axisgrid.py:712: UserWarning: Using the barplot function without specifying `order` is likely to produce an incorrect plot.\n",
      "  warnings.warn(warning)\n"
     ]
    },
    {
     "data": {
      "text/plain": [
       "<seaborn.axisgrid.FacetGrid at 0x7b25b409f520>"
      ]
     },
     "execution_count": 24,
     "metadata": {},
     "output_type": "execute_result"
    },
    {
     "data": {
      "image/png": "[encoded data removed]",
      "text/plain": [
       "<Figure size 611.111x900 with 6 Axes>"
      ]
     },
     "metadata": {},
     "output_type": "display_data"
    }
   ],
   "source": [
    "grid = sns.FacetGrid(df, row='Property_Area', col='Credit_History')\n",
    "grid.map(sns.barplot, 'Loan_Status_numeric', 'LoanAmount')\n",
    "grid.add_legend()"
   ]
  },
  {
   "cell_type": "markdown",
   "id": "c8ff2c76",
   "metadata": {
    "papermill": {
     "duration": 0.031827,
     "end_time": "2024-02-09T17:03:13.162284",
     "exception": false,
     "start_time": "2024-02-09T17:03:13.130457",
     "status": "completed"
    },
    "tags": []
   },
   "source": [
    "## Wrangle data"
   ]
  },
  {
   "cell_type": "code",
   "execution_count": 25,
   "id": "a51e7d88",
   "metadata": {
    "execution": {
     "iopub.execute_input": "2024-02-09T17:03:13.226981Z",
     "iopub.status.busy": "2024-02-09T17:03:13.226494Z",
     "iopub.status.idle": "2024-02-09T17:03:13.233378Z",
     "shell.execute_reply": "2024-02-09T17:03:13.232402Z"
    },
    "papermill": {
     "duration": 0.042122,
     "end_time": "2024-02-09T17:03:13.235595",
     "exception": false,
     "start_time": "2024-02-09T17:03:13.193473",
     "status": "completed"
    },
    "tags": []
   },
   "outputs": [],
   "source": [
    "df = df.drop(['Loan_ID', 'Gender', 'Education', 'Self_Employed', 'Loan_Status'], axis=1)"
   ]
  },
  {
   "cell_type": "code",
   "execution_count": 26,
   "id": "dc8e3559",
   "metadata": {
    "execution": {
     "iopub.execute_input": "2024-02-09T17:03:13.301092Z",
     "iopub.status.busy": "2024-02-09T17:03:13.299428Z",
     "iopub.status.idle": "2024-02-09T17:03:13.320845Z",
     "shell.execute_reply": "2024-02-09T17:03:13.319485Z"
    },
    "papermill": {
     "duration": 0.056721,
     "end_time": "2024-02-09T17:03:13.323394",
     "exception": false,
     "start_time": "2024-02-09T17:03:13.266673",
     "status": "completed"
    },
    "tags": []
   },
   "outputs": [
    {
     "data": {
      "text/html": [
       "<div>\n",
       "<style scoped>\n",
       "    .dataframe tbody tr th:only-of-type {\n",
       "        vertical-align: middle;\n",
       "    }\n",
       "\n",
       "    .dataframe tbody tr th {\n",
       "        vertical-align: top;\n",
       "    }\n",
       "\n",
       "    .dataframe thead th {\n",
       "        text-align: right;\n",
       "    }\n",
       "</style>\n",
       "<table border=\"1\" class=\"dataframe\">\n",
       "  <thead>\n",
       "    <tr style=\"text-align: right;\">\n",
       "      <th></th>\n",
       "      <th>Married</th>\n",
       "      <th>Dependents</th>\n",
       "      <th>ApplicantIncome</th>\n",
       "      <th>CoapplicantIncome</th>\n",
       "      <th>LoanAmount</th>\n",
       "      <th>Loan_Amount_Term</th>\n",
       "      <th>Credit_History</th>\n",
       "      <th>Property_Area</th>\n",
       "      <th>Loan_Status</th>\n",
       "    </tr>\n",
       "  </thead>\n",
       "  <tbody>\n",
       "    <tr>\n",
       "      <th>0</th>\n",
       "      <td>Yes</td>\n",
       "      <td>1</td>\n",
       "      <td>4583</td>\n",
       "      <td>1508.0</td>\n",
       "      <td>128.0</td>\n",
       "      <td>360.0</td>\n",
       "      <td>1.0</td>\n",
       "      <td>Rural</td>\n",
       "      <td>0</td>\n",
       "    </tr>\n",
       "    <tr>\n",
       "      <th>1</th>\n",
       "      <td>Yes</td>\n",
       "      <td>0</td>\n",
       "      <td>3000</td>\n",
       "      <td>0.0</td>\n",
       "      <td>66.0</td>\n",
       "      <td>360.0</td>\n",
       "      <td>1.0</td>\n",
       "      <td>Urban</td>\n",
       "      <td>1</td>\n",
       "    </tr>\n",
       "    <tr>\n",
       "      <th>2</th>\n",
       "      <td>Yes</td>\n",
       "      <td>0</td>\n",
       "      <td>2583</td>\n",
       "      <td>2358.0</td>\n",
       "      <td>120.0</td>\n",
       "      <td>360.0</td>\n",
       "      <td>1.0</td>\n",
       "      <td>Urban</td>\n",
       "      <td>1</td>\n",
       "    </tr>\n",
       "    <tr>\n",
       "      <th>3</th>\n",
       "      <td>No</td>\n",
       "      <td>0</td>\n",
       "      <td>6000</td>\n",
       "      <td>0.0</td>\n",
       "      <td>141.0</td>\n",
       "      <td>360.0</td>\n",
       "      <td>1.0</td>\n",
       "      <td>Urban</td>\n",
       "      <td>1</td>\n",
       "    </tr>\n",
       "    <tr>\n",
       "      <th>4</th>\n",
       "      <td>Yes</td>\n",
       "      <td>0</td>\n",
       "      <td>2333</td>\n",
       "      <td>1516.0</td>\n",
       "      <td>95.0</td>\n",
       "      <td>360.0</td>\n",
       "      <td>1.0</td>\n",
       "      <td>Urban</td>\n",
       "      <td>1</td>\n",
       "    </tr>\n",
       "  </tbody>\n",
       "</table>\n",
       "</div>"
      ],
      "text/plain": [
       "  Married Dependents  ApplicantIncome  CoapplicantIncome  LoanAmount  \\\n",
       "0     Yes          1             4583             1508.0       128.0   \n",
       "1     Yes          0             3000                0.0        66.0   \n",
       "2     Yes          0             2583             2358.0       120.0   \n",
       "3      No          0             6000                0.0       141.0   \n",
       "4     Yes          0             2333             1516.0        95.0   \n",
       "\n",
       "   Loan_Amount_Term  Credit_History Property_Area  Loan_Status  \n",
       "0             360.0             1.0         Rural            0  \n",
       "1             360.0             1.0         Urban            1  \n",
       "2             360.0             1.0         Urban            1  \n",
       "3             360.0             1.0         Urban            1  \n",
       "4             360.0             1.0         Urban            1  "
      ]
     },
     "execution_count": 26,
     "metadata": {},
     "output_type": "execute_result"
    }
   ],
   "source": [
    "df.rename(columns={'Loan_Status_numeric': 'Loan_Status'}, inplace=True)\n",
    "df.head()"
   ]
  },
  {
   "cell_type": "code",
   "execution_count": 27,
   "id": "99d6246a",
   "metadata": {
    "execution": {
     "iopub.execute_input": "2024-02-09T17:03:13.388198Z",
     "iopub.status.busy": "2024-02-09T17:03:13.387542Z",
     "iopub.status.idle": "2024-02-09T17:03:13.394187Z",
     "shell.execute_reply": "2024-02-09T17:03:13.393282Z"
    },
    "papermill": {
     "duration": 0.041827,
     "end_time": "2024-02-09T17:03:13.396472",
     "exception": false,
     "start_time": "2024-02-09T17:03:13.354645",
     "status": "completed"
    },
    "tags": []
   },
   "outputs": [],
   "source": [
    "df['Married'] = df['Married'].map({'Yes': 1, 'No': 0}).astype(int)"
   ]
  },
  {
   "cell_type": "code",
   "execution_count": 28,
   "id": "1ed3e782",
   "metadata": {
    "execution": {
     "iopub.execute_input": "2024-02-09T17:03:13.461509Z",
     "iopub.status.busy": "2024-02-09T17:03:13.460855Z",
     "iopub.status.idle": "2024-02-09T17:03:13.466547Z",
     "shell.execute_reply": "2024-02-09T17:03:13.465815Z"
    },
    "papermill": {
     "duration": 0.041117,
     "end_time": "2024-02-09T17:03:13.468825",
     "exception": false,
     "start_time": "2024-02-09T17:03:13.427708",
     "status": "completed"
    },
    "tags": []
   },
   "outputs": [],
   "source": [
    "df['Dependents'] = df['Dependents'].fillna(value='0')"
   ]
  },
  {
   "cell_type": "code",
   "execution_count": 29,
   "id": "f6afdd96",
   "metadata": {
    "execution": {
     "iopub.execute_input": "2024-02-09T17:03:13.533682Z",
     "iopub.status.busy": "2024-02-09T17:03:13.533068Z",
     "iopub.status.idle": "2024-02-09T17:03:13.542047Z",
     "shell.execute_reply": "2024-02-09T17:03:13.540762Z"
    },
    "papermill": {
     "duration": 0.044602,
     "end_time": "2024-02-09T17:03:13.544501",
     "exception": false,
     "start_time": "2024-02-09T17:03:13.499899",
     "status": "completed"
    },
    "tags": []
   },
   "outputs": [
    {
     "data": {
      "text/plain": [
       "Dependents\n",
       "0     242\n",
       "2      59\n",
       "1      52\n",
       "3+     28\n",
       "Name: count, dtype: int64"
      ]
     },
     "execution_count": 29,
     "metadata": {},
     "output_type": "execute_result"
    }
   ],
   "source": [
    "df['Dependents'].value_counts()"
   ]
  },
  {
   "cell_type": "code",
   "execution_count": 30,
   "id": "32aa0e06",
   "metadata": {
    "execution": {
     "iopub.execute_input": "2024-02-09T17:03:13.615853Z",
     "iopub.status.busy": "2024-02-09T17:03:13.615472Z",
     "iopub.status.idle": "2024-02-09T17:03:13.622198Z",
     "shell.execute_reply": "2024-02-09T17:03:13.620807Z"
    },
    "papermill": {
     "duration": 0.048481,
     "end_time": "2024-02-09T17:03:13.624473",
     "exception": false,
     "start_time": "2024-02-09T17:03:13.575992",
     "status": "completed"
    },
    "tags": []
   },
   "outputs": [],
   "source": [
    "df['Dependents'] = df['Dependents'].map({'0': 0, '1': 1, '2': 2, '3+': 3})"
   ]
  },
  {
   "cell_type": "code",
   "execution_count": 31,
   "id": "7f39865f",
   "metadata": {
    "execution": {
     "iopub.execute_input": "2024-02-09T17:03:13.690215Z",
     "iopub.status.busy": "2024-02-09T17:03:13.689546Z",
     "iopub.status.idle": "2024-02-09T17:03:13.700701Z",
     "shell.execute_reply": "2024-02-09T17:03:13.699755Z"
    },
    "papermill": {
     "duration": 0.047223,
     "end_time": "2024-02-09T17:03:13.702785",
     "exception": false,
     "start_time": "2024-02-09T17:03:13.655562",
     "status": "completed"
    },
    "tags": []
   },
   "outputs": [
    {
     "data": {
      "text/plain": [
       "Dependents\n",
       "0    242\n",
       "2     59\n",
       "1     52\n",
       "3     28\n",
       "Name: count, dtype: int64"
      ]
     },
     "execution_count": 31,
     "metadata": {},
     "output_type": "execute_result"
    }
   ],
   "source": [
    "df['Dependents'].value_counts()"
   ]
  },
  {
   "cell_type": "code",
   "execution_count": 32,
   "id": "46a7b61a",
   "metadata": {
    "execution": {
     "iopub.execute_input": "2024-02-09T17:03:13.773439Z",
     "iopub.status.busy": "2024-02-09T17:03:13.771745Z",
     "iopub.status.idle": "2024-02-09T17:03:13.787752Z",
     "shell.execute_reply": "2024-02-09T17:03:13.786356Z"
    },
    "papermill": {
     "duration": 0.056667,
     "end_time": "2024-02-09T17:03:13.791238",
     "exception": false,
     "start_time": "2024-02-09T17:03:13.734571",
     "status": "completed"
    },
    "tags": []
   },
   "outputs": [
    {
     "name": "stdout",
     "output_type": "stream",
     "text": [
      "<class 'pandas.core.frame.DataFrame'>\n",
      "RangeIndex: 381 entries, 0 to 380\n",
      "Data columns (total 9 columns):\n",
      " #   Column             Non-Null Count  Dtype  \n",
      "---  ------             --------------  -----  \n",
      " 0   Married            381 non-null    int64  \n",
      " 1   Dependents         381 non-null    int64  \n",
      " 2   ApplicantIncome    381 non-null    int64  \n",
      " 3   CoapplicantIncome  381 non-null    float64\n",
      " 4   LoanAmount         381 non-null    float64\n",
      " 5   Loan_Amount_Term   370 non-null    float64\n",
      " 6   Credit_History     351 non-null    float64\n",
      " 7   Property_Area      381 non-null    object \n",
      " 8   Loan_Status        381 non-null    int64  \n",
      "dtypes: float64(4), int64(4), object(1)\n",
      "memory usage: 26.9+ KB\n"
     ]
    }
   ],
   "source": [
    "df.info()"
   ]
  },
  {
   "cell_type": "code",
   "execution_count": 33,
   "id": "3a032b96",
   "metadata": {
    "execution": {
     "iopub.execute_input": "2024-02-09T17:03:13.871164Z",
     "iopub.status.busy": "2024-02-09T17:03:13.869560Z",
     "iopub.status.idle": "2024-02-09T17:03:13.878677Z",
     "shell.execute_reply": "2024-02-09T17:03:13.877336Z"
    },
    "papermill": {
     "duration": 0.048555,
     "end_time": "2024-02-09T17:03:13.881284",
     "exception": false,
     "start_time": "2024-02-09T17:03:13.832729",
     "status": "completed"
    },
    "tags": []
   },
   "outputs": [],
   "source": [
    "df['Income_per_person'] = (df['ApplicantIncome'] + df['CoapplicantIncome'])/(1 + df['Married'] + df['Dependents'])"
   ]
  },
  {
   "cell_type": "code",
   "execution_count": 34,
   "id": "54ed0bc5",
   "metadata": {
    "execution": {
     "iopub.execute_input": "2024-02-09T17:03:13.947216Z",
     "iopub.status.busy": "2024-02-09T17:03:13.946459Z",
     "iopub.status.idle": "2024-02-09T17:03:13.964435Z",
     "shell.execute_reply": "2024-02-09T17:03:13.963067Z"
    },
    "papermill": {
     "duration": 0.05372,
     "end_time": "2024-02-09T17:03:13.967051",
     "exception": false,
     "start_time": "2024-02-09T17:03:13.913331",
     "status": "completed"
    },
    "tags": []
   },
   "outputs": [
    {
     "data": {
      "text/html": [
       "<div>\n",
       "<style scoped>\n",
       "    .dataframe tbody tr th:only-of-type {\n",
       "        vertical-align: middle;\n",
       "    }\n",
       "\n",
       "    .dataframe tbody tr th {\n",
       "        vertical-align: top;\n",
       "    }\n",
       "\n",
       "    .dataframe thead th {\n",
       "        text-align: right;\n",
       "    }\n",
       "</style>\n",
       "<table border=\"1\" class=\"dataframe\">\n",
       "  <thead>\n",
       "    <tr style=\"text-align: right;\">\n",
       "      <th></th>\n",
       "      <th>Married</th>\n",
       "      <th>Dependents</th>\n",
       "      <th>ApplicantIncome</th>\n",
       "      <th>CoapplicantIncome</th>\n",
       "      <th>LoanAmount</th>\n",
       "      <th>Loan_Amount_Term</th>\n",
       "      <th>Credit_History</th>\n",
       "      <th>Property_Area</th>\n",
       "      <th>Loan_Status</th>\n",
       "      <th>Income_per_person</th>\n",
       "    </tr>\n",
       "  </thead>\n",
       "  <tbody>\n",
       "    <tr>\n",
       "      <th>0</th>\n",
       "      <td>1</td>\n",
       "      <td>1</td>\n",
       "      <td>4583</td>\n",
       "      <td>1508.0</td>\n",
       "      <td>128.0</td>\n",
       "      <td>360.0</td>\n",
       "      <td>1.0</td>\n",
       "      <td>Rural</td>\n",
       "      <td>0</td>\n",
       "      <td>2030.333333</td>\n",
       "    </tr>\n",
       "    <tr>\n",
       "      <th>1</th>\n",
       "      <td>1</td>\n",
       "      <td>0</td>\n",
       "      <td>3000</td>\n",
       "      <td>0.0</td>\n",
       "      <td>66.0</td>\n",
       "      <td>360.0</td>\n",
       "      <td>1.0</td>\n",
       "      <td>Urban</td>\n",
       "      <td>1</td>\n",
       "      <td>1500.000000</td>\n",
       "    </tr>\n",
       "    <tr>\n",
       "      <th>2</th>\n",
       "      <td>1</td>\n",
       "      <td>0</td>\n",
       "      <td>2583</td>\n",
       "      <td>2358.0</td>\n",
       "      <td>120.0</td>\n",
       "      <td>360.0</td>\n",
       "      <td>1.0</td>\n",
       "      <td>Urban</td>\n",
       "      <td>1</td>\n",
       "      <td>2470.500000</td>\n",
       "    </tr>\n",
       "    <tr>\n",
       "      <th>3</th>\n",
       "      <td>0</td>\n",
       "      <td>0</td>\n",
       "      <td>6000</td>\n",
       "      <td>0.0</td>\n",
       "      <td>141.0</td>\n",
       "      <td>360.0</td>\n",
       "      <td>1.0</td>\n",
       "      <td>Urban</td>\n",
       "      <td>1</td>\n",
       "      <td>6000.000000</td>\n",
       "    </tr>\n",
       "    <tr>\n",
       "      <th>4</th>\n",
       "      <td>1</td>\n",
       "      <td>0</td>\n",
       "      <td>2333</td>\n",
       "      <td>1516.0</td>\n",
       "      <td>95.0</td>\n",
       "      <td>360.0</td>\n",
       "      <td>1.0</td>\n",
       "      <td>Urban</td>\n",
       "      <td>1</td>\n",
       "      <td>1924.500000</td>\n",
       "    </tr>\n",
       "  </tbody>\n",
       "</table>\n",
       "</div>"
      ],
      "text/plain": [
       "   Married  Dependents  ApplicantIncome  CoapplicantIncome  LoanAmount  \\\n",
       "0        1           1             4583             1508.0       128.0   \n",
       "1        1           0             3000                0.0        66.0   \n",
       "2        1           0             2583             2358.0       120.0   \n",
       "3        0           0             6000                0.0       141.0   \n",
       "4        1           0             2333             1516.0        95.0   \n",
       "\n",
       "   Loan_Amount_Term  Credit_History Property_Area  Loan_Status  \\\n",
       "0             360.0             1.0         Rural            0   \n",
       "1             360.0             1.0         Urban            1   \n",
       "2             360.0             1.0         Urban            1   \n",
       "3             360.0             1.0         Urban            1   \n",
       "4             360.0             1.0         Urban            1   \n",
       "\n",
       "   Income_per_person  \n",
       "0        2030.333333  \n",
       "1        1500.000000  \n",
       "2        2470.500000  \n",
       "3        6000.000000  \n",
       "4        1924.500000  "
      ]
     },
     "execution_count": 34,
     "metadata": {},
     "output_type": "execute_result"
    }
   ],
   "source": [
    "df.head()"
   ]
  },
  {
   "cell_type": "code",
   "execution_count": 35,
   "id": "c0a442e1",
   "metadata": {
    "execution": {
     "iopub.execute_input": "2024-02-09T17:03:14.033553Z",
     "iopub.status.busy": "2024-02-09T17:03:14.033179Z",
     "iopub.status.idle": "2024-02-09T17:03:14.649862Z",
     "shell.execute_reply": "2024-02-09T17:03:14.648839Z"
    },
    "papermill": {
     "duration": 0.653128,
     "end_time": "2024-02-09T17:03:14.652281",
     "exception": false,
     "start_time": "2024-02-09T17:03:13.999153",
     "status": "completed"
    },
    "tags": []
   },
   "outputs": [
    {
     "data": {
      "text/plain": [
       "<seaborn.axisgrid.FacetGrid at 0x7b25b3a2e050>"
      ]
     },
     "execution_count": 35,
     "metadata": {},
     "output_type": "execute_result"
    },
    {
     "data": {
      "image/png": "[encoded data removed]",
      "text/plain": [
       "<Figure size 600x300 with 2 Axes>"
      ]
     },
     "metadata": {},
     "output_type": "display_data"
    }
   ],
   "source": [
    "g = sns.FacetGrid(df, col='Loan_Status')\n",
    "g.map(plt.hist, 'Income_per_person', bins=20)"
   ]
  },
  {
   "cell_type": "code",
   "execution_count": 36,
   "id": "1e2f3f65",
   "metadata": {
    "execution": {
     "iopub.execute_input": "2024-02-09T17:03:14.721816Z",
     "iopub.status.busy": "2024-02-09T17:03:14.721315Z",
     "iopub.status.idle": "2024-02-09T17:03:17.398909Z",
     "shell.execute_reply": "2024-02-09T17:03:17.397265Z"
    },
    "papermill": {
     "duration": 2.716638,
     "end_time": "2024-02-09T17:03:17.401552",
     "exception": false,
     "start_time": "2024-02-09T17:03:14.684914",
     "status": "completed"
    },
    "tags": []
   },
   "outputs": [
    {
     "data": {
      "text/plain": [
       "<seaborn.axisgrid.FacetGrid at 0x7b25b3a88520>"
      ]
     },
     "execution_count": 36,
     "metadata": {},
     "output_type": "execute_result"
    },
    {
     "data": {
      "image/png": "[encoded data removed]",
      "text/plain": [
       "<Figure size 611.111x900 with 6 Axes>"
      ]
     },
     "metadata": {},
     "output_type": "display_data"
    }
   ],
   "source": [
    "grid = sns.FacetGrid(df, row='Property_Area', col='Loan_Status')\n",
    "grid.map(plt.hist, 'Income_per_person', bins=20)\n",
    "grid.add_legend()"
   ]
  },
  {
   "cell_type": "code",
   "execution_count": 37,
   "id": "37758274",
   "metadata": {
    "execution": {
     "iopub.execute_input": "2024-02-09T17:03:17.469883Z",
     "iopub.status.busy": "2024-02-09T17:03:17.469479Z",
     "iopub.status.idle": "2024-02-09T17:03:17.476000Z",
     "shell.execute_reply": "2024-02-09T17:03:17.474851Z"
    },
    "papermill": {
     "duration": 0.043581,
     "end_time": "2024-02-09T17:03:17.478360",
     "exception": false,
     "start_time": "2024-02-09T17:03:17.434779",
     "status": "completed"
    },
    "tags": []
   },
   "outputs": [],
   "source": [
    "df = df.drop(['ApplicantIncome', 'CoapplicantIncome'], axis=1)"
   ]
  },
  {
   "cell_type": "code",
   "execution_count": 38,
   "id": "ce94b4e4",
   "metadata": {
    "execution": {
     "iopub.execute_input": "2024-02-09T17:03:17.548478Z",
     "iopub.status.busy": "2024-02-09T17:03:17.548080Z",
     "iopub.status.idle": "2024-02-09T17:03:17.571584Z",
     "shell.execute_reply": "2024-02-09T17:03:17.570436Z"
    },
    "papermill": {
     "duration": 0.062474,
     "end_time": "2024-02-09T17:03:17.574368",
     "exception": false,
     "start_time": "2024-02-09T17:03:17.511894",
     "status": "completed"
    },
    "tags": []
   },
   "outputs": [],
   "source": [
    "df['Income_per_person_band'] = pd.qcut(df['Income_per_person'], 4)"
   ]
  },
  {
   "cell_type": "code",
   "execution_count": 39,
   "id": "5b9d4516",
   "metadata": {
    "execution": {
     "iopub.execute_input": "2024-02-09T17:03:17.643731Z",
     "iopub.status.busy": "2024-02-09T17:03:17.643218Z",
     "iopub.status.idle": "2024-02-09T17:03:17.665217Z",
     "shell.execute_reply": "2024-02-09T17:03:17.663464Z"
    },
    "papermill": {
     "duration": 0.059822,
     "end_time": "2024-02-09T17:03:17.667674",
     "exception": false,
     "start_time": "2024-02-09T17:03:17.607852",
     "status": "completed"
    },
    "tags": []
   },
   "outputs": [
    {
     "name": "stderr",
     "output_type": "stream",
     "text": [
      "/tmp/ipykernel_18/590493372.py:1: FutureWarning: The default of observed=False is deprecated and will be changed to True in a future version of pandas. Pass observed=False to retain current behavior or observed=True to adopt the future default and silence this warning.\n",
      "  df[['Income_per_person_band', 'Loan_Status']].groupby('Income_per_person_band', as_index=False).mean()\n"
     ]
    },
    {
     "data": {
      "text/html": [
       "<div>\n",
       "<style scoped>\n",
       "    .dataframe tbody tr th:only-of-type {\n",
       "        vertical-align: middle;\n",
       "    }\n",
       "\n",
       "    .dataframe tbody tr th {\n",
       "        vertical-align: top;\n",
       "    }\n",
       "\n",
       "    .dataframe thead th {\n",
       "        text-align: right;\n",
       "    }\n",
       "</style>\n",
       "<table border=\"1\" class=\"dataframe\">\n",
       "  <thead>\n",
       "    <tr style=\"text-align: right;\">\n",
       "      <th></th>\n",
       "      <th>Income_per_person_band</th>\n",
       "      <th>Loan_Status</th>\n",
       "    </tr>\n",
       "  </thead>\n",
       "  <tbody>\n",
       "    <tr>\n",
       "      <th>0</th>\n",
       "      <td>(564.999, 1464.0]</td>\n",
       "      <td>0.666667</td>\n",
       "    </tr>\n",
       "    <tr>\n",
       "      <th>1</th>\n",
       "      <td>(1464.0, 2393.0]</td>\n",
       "      <td>0.789474</td>\n",
       "    </tr>\n",
       "    <tr>\n",
       "      <th>2</th>\n",
       "      <td>(2393.0, 3571.0]</td>\n",
       "      <td>0.684211</td>\n",
       "    </tr>\n",
       "    <tr>\n",
       "      <th>3</th>\n",
       "      <td>(3571.0, 35673.0]</td>\n",
       "      <td>0.705263</td>\n",
       "    </tr>\n",
       "  </tbody>\n",
       "</table>\n",
       "</div>"
      ],
      "text/plain": [
       "  Income_per_person_band  Loan_Status\n",
       "0      (564.999, 1464.0]     0.666667\n",
       "1       (1464.0, 2393.0]     0.789474\n",
       "2       (2393.0, 3571.0]     0.684211\n",
       "3      (3571.0, 35673.0]     0.705263"
      ]
     },
     "execution_count": 39,
     "metadata": {},
     "output_type": "execute_result"
    }
   ],
   "source": [
    "df[['Income_per_person_band', 'Loan_Status']].groupby('Income_per_person_band', as_index=False).mean()"
   ]
  },
  {
   "cell_type": "code",
   "execution_count": 40,
   "id": "7c7b9455",
   "metadata": {
    "execution": {
     "iopub.execute_input": "2024-02-09T17:03:17.739835Z",
     "iopub.status.busy": "2024-02-09T17:03:17.739337Z",
     "iopub.status.idle": "2024-02-09T17:03:17.751281Z",
     "shell.execute_reply": "2024-02-09T17:03:17.749901Z"
    },
    "papermill": {
     "duration": 0.052043,
     "end_time": "2024-02-09T17:03:17.753738",
     "exception": false,
     "start_time": "2024-02-09T17:03:17.701695",
     "status": "completed"
    },
    "tags": []
   },
   "outputs": [],
   "source": [
    "df.loc[df['Income_per_person'] <= 1452.0, 'Income_per_person'] = 0\n",
    "df.loc[(df['Income_per_person'] > 1452.0) & (df['Income_per_person'] <= 2378.0), 'Income_per_person'] = 1\n",
    "df.loc[(df['Income_per_person'] > 2378.0) & (df['Income_per_person'] <= 3541.5), 'Income_per_person'] = 2\n",
    "df.loc[df['Income_per_person'] > 3541.5, 'Income_per_person'] = 3"
   ]
  },
  {
   "cell_type": "code",
   "execution_count": 41,
   "id": "86495636",
   "metadata": {
    "execution": {
     "iopub.execute_input": "2024-02-09T17:03:17.823060Z",
     "iopub.status.busy": "2024-02-09T17:03:17.822524Z",
     "iopub.status.idle": "2024-02-09T17:03:17.844192Z",
     "shell.execute_reply": "2024-02-09T17:03:17.842903Z"
    },
    "papermill": {
     "duration": 0.059373,
     "end_time": "2024-02-09T17:03:17.846648",
     "exception": false,
     "start_time": "2024-02-09T17:03:17.787275",
     "status": "completed"
    },
    "tags": []
   },
   "outputs": [
    {
     "data": {
      "text/html": [
       "<div>\n",
       "<style scoped>\n",
       "    .dataframe tbody tr th:only-of-type {\n",
       "        vertical-align: middle;\n",
       "    }\n",
       "\n",
       "    .dataframe tbody tr th {\n",
       "        vertical-align: top;\n",
       "    }\n",
       "\n",
       "    .dataframe thead th {\n",
       "        text-align: right;\n",
       "    }\n",
       "</style>\n",
       "<table border=\"1\" class=\"dataframe\">\n",
       "  <thead>\n",
       "    <tr style=\"text-align: right;\">\n",
       "      <th></th>\n",
       "      <th>Married</th>\n",
       "      <th>Dependents</th>\n",
       "      <th>LoanAmount</th>\n",
       "      <th>Loan_Amount_Term</th>\n",
       "      <th>Credit_History</th>\n",
       "      <th>Property_Area</th>\n",
       "      <th>Loan_Status</th>\n",
       "      <th>Income_per_person</th>\n",
       "      <th>Income_per_person_band</th>\n",
       "    </tr>\n",
       "  </thead>\n",
       "  <tbody>\n",
       "    <tr>\n",
       "      <th>0</th>\n",
       "      <td>1</td>\n",
       "      <td>1</td>\n",
       "      <td>128.0</td>\n",
       "      <td>360.0</td>\n",
       "      <td>1.0</td>\n",
       "      <td>Rural</td>\n",
       "      <td>0</td>\n",
       "      <td>1.0</td>\n",
       "      <td>(1464.0, 2393.0]</td>\n",
       "    </tr>\n",
       "    <tr>\n",
       "      <th>1</th>\n",
       "      <td>1</td>\n",
       "      <td>0</td>\n",
       "      <td>66.0</td>\n",
       "      <td>360.0</td>\n",
       "      <td>1.0</td>\n",
       "      <td>Urban</td>\n",
       "      <td>1</td>\n",
       "      <td>1.0</td>\n",
       "      <td>(1464.0, 2393.0]</td>\n",
       "    </tr>\n",
       "    <tr>\n",
       "      <th>2</th>\n",
       "      <td>1</td>\n",
       "      <td>0</td>\n",
       "      <td>120.0</td>\n",
       "      <td>360.0</td>\n",
       "      <td>1.0</td>\n",
       "      <td>Urban</td>\n",
       "      <td>1</td>\n",
       "      <td>2.0</td>\n",
       "      <td>(2393.0, 3571.0]</td>\n",
       "    </tr>\n",
       "    <tr>\n",
       "      <th>3</th>\n",
       "      <td>0</td>\n",
       "      <td>0</td>\n",
       "      <td>141.0</td>\n",
       "      <td>360.0</td>\n",
       "      <td>1.0</td>\n",
       "      <td>Urban</td>\n",
       "      <td>1</td>\n",
       "      <td>3.0</td>\n",
       "      <td>(3571.0, 35673.0]</td>\n",
       "    </tr>\n",
       "    <tr>\n",
       "      <th>4</th>\n",
       "      <td>1</td>\n",
       "      <td>0</td>\n",
       "      <td>95.0</td>\n",
       "      <td>360.0</td>\n",
       "      <td>1.0</td>\n",
       "      <td>Urban</td>\n",
       "      <td>1</td>\n",
       "      <td>1.0</td>\n",
       "      <td>(1464.0, 2393.0]</td>\n",
       "    </tr>\n",
       "  </tbody>\n",
       "</table>\n",
       "</div>"
      ],
      "text/plain": [
       "   Married  Dependents  LoanAmount  Loan_Amount_Term  Credit_History  \\\n",
       "0        1           1       128.0             360.0             1.0   \n",
       "1        1           0        66.0             360.0             1.0   \n",
       "2        1           0       120.0             360.0             1.0   \n",
       "3        0           0       141.0             360.0             1.0   \n",
       "4        1           0        95.0             360.0             1.0   \n",
       "\n",
       "  Property_Area  Loan_Status  Income_per_person Income_per_person_band  \n",
       "0         Rural            0                1.0       (1464.0, 2393.0]  \n",
       "1         Urban            1                1.0       (1464.0, 2393.0]  \n",
       "2         Urban            1                2.0       (2393.0, 3571.0]  \n",
       "3         Urban            1                3.0      (3571.0, 35673.0]  \n",
       "4         Urban            1                1.0       (1464.0, 2393.0]  "
      ]
     },
     "execution_count": 41,
     "metadata": {},
     "output_type": "execute_result"
    }
   ],
   "source": [
    "df.head()"
   ]
  },
  {
   "cell_type": "code",
   "execution_count": 42,
   "id": "fadb5904",
   "metadata": {
    "execution": {
     "iopub.execute_input": "2024-02-09T17:03:17.916474Z",
     "iopub.status.busy": "2024-02-09T17:03:17.915958Z",
     "iopub.status.idle": "2024-02-09T17:03:17.923042Z",
     "shell.execute_reply": "2024-02-09T17:03:17.921597Z"
    },
    "papermill": {
     "duration": 0.045379,
     "end_time": "2024-02-09T17:03:17.925738",
     "exception": false,
     "start_time": "2024-02-09T17:03:17.880359",
     "status": "completed"
    },
    "tags": []
   },
   "outputs": [],
   "source": [
    "df = df.drop(['Income_per_person_band'], axis=1)"
   ]
  },
  {
   "cell_type": "code",
   "execution_count": 43,
   "id": "1c96649b",
   "metadata": {
    "execution": {
     "iopub.execute_input": "2024-02-09T17:03:17.998199Z",
     "iopub.status.busy": "2024-02-09T17:03:17.997216Z",
     "iopub.status.idle": "2024-02-09T17:03:18.007166Z",
     "shell.execute_reply": "2024-02-09T17:03:18.005062Z"
    },
    "papermill": {
     "duration": 0.049433,
     "end_time": "2024-02-09T17:03:18.010008",
     "exception": false,
     "start_time": "2024-02-09T17:03:17.960575",
     "status": "completed"
    },
    "tags": []
   },
   "outputs": [],
   "source": [
    "df['Property_Area'] = df['Property_Area'].map({'Rural': 0, 'Semiurban': 1, 'Urban': 2}).astype(int)"
   ]
  },
  {
   "cell_type": "code",
   "execution_count": 44,
   "id": "d0cabaaf",
   "metadata": {
    "execution": {
     "iopub.execute_input": "2024-02-09T17:03:18.080905Z",
     "iopub.status.busy": "2024-02-09T17:03:18.080415Z",
     "iopub.status.idle": "2024-02-09T17:03:18.087278Z",
     "shell.execute_reply": "2024-02-09T17:03:18.086092Z"
    },
    "papermill": {
     "duration": 0.045341,
     "end_time": "2024-02-09T17:03:18.089790",
     "exception": false,
     "start_time": "2024-02-09T17:03:18.044449",
     "status": "completed"
    },
    "tags": []
   },
   "outputs": [],
   "source": [
    "df['Credit_History'] = df['Credit_History'].fillna(value=0)"
   ]
  },
  {
   "cell_type": "code",
   "execution_count": 45,
   "id": "e2c0e043",
   "metadata": {
    "execution": {
     "iopub.execute_input": "2024-02-09T17:03:18.161365Z",
     "iopub.status.busy": "2024-02-09T17:03:18.160227Z",
     "iopub.status.idle": "2024-02-09T17:03:18.178873Z",
     "shell.execute_reply": "2024-02-09T17:03:18.177585Z"
    },
    "papermill": {
     "duration": 0.057984,
     "end_time": "2024-02-09T17:03:18.181783",
     "exception": false,
     "start_time": "2024-02-09T17:03:18.123799",
     "status": "completed"
    },
    "tags": []
   },
   "outputs": [
    {
     "data": {
      "text/html": [
       "<div>\n",
       "<style scoped>\n",
       "    .dataframe tbody tr th:only-of-type {\n",
       "        vertical-align: middle;\n",
       "    }\n",
       "\n",
       "    .dataframe tbody tr th {\n",
       "        vertical-align: top;\n",
       "    }\n",
       "\n",
       "    .dataframe thead th {\n",
       "        text-align: right;\n",
       "    }\n",
       "</style>\n",
       "<table border=\"1\" class=\"dataframe\">\n",
       "  <thead>\n",
       "    <tr style=\"text-align: right;\">\n",
       "      <th></th>\n",
       "      <th>Married</th>\n",
       "      <th>Dependents</th>\n",
       "      <th>LoanAmount</th>\n",
       "      <th>Loan_Amount_Term</th>\n",
       "      <th>Credit_History</th>\n",
       "      <th>Property_Area</th>\n",
       "      <th>Loan_Status</th>\n",
       "      <th>Income_per_person</th>\n",
       "    </tr>\n",
       "  </thead>\n",
       "  <tbody>\n",
       "    <tr>\n",
       "      <th>0</th>\n",
       "      <td>1</td>\n",
       "      <td>1</td>\n",
       "      <td>128.0</td>\n",
       "      <td>360.0</td>\n",
       "      <td>1.0</td>\n",
       "      <td>0</td>\n",
       "      <td>0</td>\n",
       "      <td>1.0</td>\n",
       "    </tr>\n",
       "    <tr>\n",
       "      <th>1</th>\n",
       "      <td>1</td>\n",
       "      <td>0</td>\n",
       "      <td>66.0</td>\n",
       "      <td>360.0</td>\n",
       "      <td>1.0</td>\n",
       "      <td>2</td>\n",
       "      <td>1</td>\n",
       "      <td>1.0</td>\n",
       "    </tr>\n",
       "    <tr>\n",
       "      <th>2</th>\n",
       "      <td>1</td>\n",
       "      <td>0</td>\n",
       "      <td>120.0</td>\n",
       "      <td>360.0</td>\n",
       "      <td>1.0</td>\n",
       "      <td>2</td>\n",
       "      <td>1</td>\n",
       "      <td>2.0</td>\n",
       "    </tr>\n",
       "    <tr>\n",
       "      <th>3</th>\n",
       "      <td>0</td>\n",
       "      <td>0</td>\n",
       "      <td>141.0</td>\n",
       "      <td>360.0</td>\n",
       "      <td>1.0</td>\n",
       "      <td>2</td>\n",
       "      <td>1</td>\n",
       "      <td>3.0</td>\n",
       "    </tr>\n",
       "    <tr>\n",
       "      <th>4</th>\n",
       "      <td>1</td>\n",
       "      <td>0</td>\n",
       "      <td>95.0</td>\n",
       "      <td>360.0</td>\n",
       "      <td>1.0</td>\n",
       "      <td>2</td>\n",
       "      <td>1</td>\n",
       "      <td>1.0</td>\n",
       "    </tr>\n",
       "  </tbody>\n",
       "</table>\n",
       "</div>"
      ],
      "text/plain": [
       "   Married  Dependents  LoanAmount  Loan_Amount_Term  Credit_History  \\\n",
       "0        1           1       128.0             360.0             1.0   \n",
       "1        1           0        66.0             360.0             1.0   \n",
       "2        1           0       120.0             360.0             1.0   \n",
       "3        0           0       141.0             360.0             1.0   \n",
       "4        1           0        95.0             360.0             1.0   \n",
       "\n",
       "   Property_Area  Loan_Status  Income_per_person  \n",
       "0              0            0                1.0  \n",
       "1              2            1                1.0  \n",
       "2              2            1                2.0  \n",
       "3              2            1                3.0  \n",
       "4              2            1                1.0  "
      ]
     },
     "execution_count": 45,
     "metadata": {},
     "output_type": "execute_result"
    }
   ],
   "source": [
    "df.head()"
   ]
  },
  {
   "cell_type": "code",
   "execution_count": 46,
   "id": "6c8a1070",
   "metadata": {
    "execution": {
     "iopub.execute_input": "2024-02-09T17:03:18.254460Z",
     "iopub.status.busy": "2024-02-09T17:03:18.253948Z",
     "iopub.status.idle": "2024-02-09T17:03:18.260688Z",
     "shell.execute_reply": "2024-02-09T17:03:18.259707Z"
    },
    "papermill": {
     "duration": 0.045646,
     "end_time": "2024-02-09T17:03:18.262897",
     "exception": false,
     "start_time": "2024-02-09T17:03:18.217251",
     "status": "completed"
    },
    "tags": []
   },
   "outputs": [],
   "source": [
    "df['Loan_Amount_Term'] = df['Loan_Amount_Term'].fillna(value=0)"
   ]
  },
  {
   "cell_type": "code",
   "execution_count": 47,
   "id": "9b75e0fa",
   "metadata": {
    "execution": {
     "iopub.execute_input": "2024-02-09T17:03:18.333692Z",
     "iopub.status.busy": "2024-02-09T17:03:18.333209Z",
     "iopub.status.idle": "2024-02-09T17:03:18.343674Z",
     "shell.execute_reply": "2024-02-09T17:03:18.342372Z"
    },
    "papermill": {
     "duration": 0.049463,
     "end_time": "2024-02-09T17:03:18.346191",
     "exception": false,
     "start_time": "2024-02-09T17:03:18.296728",
     "status": "completed"
    },
    "tags": []
   },
   "outputs": [],
   "source": [
    "df['Loan_Amount_Term_Band'] = pd.cut(df['Loan_Amount_Term'], 6)"
   ]
  },
  {
   "cell_type": "code",
   "execution_count": 48,
   "id": "c239b5bf",
   "metadata": {
    "execution": {
     "iopub.execute_input": "2024-02-09T17:03:18.416494Z",
     "iopub.status.busy": "2024-02-09T17:03:18.415980Z",
     "iopub.status.idle": "2024-02-09T17:03:18.435298Z",
     "shell.execute_reply": "2024-02-09T17:03:18.433892Z"
    },
    "papermill": {
     "duration": 0.057268,
     "end_time": "2024-02-09T17:03:18.437579",
     "exception": false,
     "start_time": "2024-02-09T17:03:18.380311",
     "status": "completed"
    },
    "tags": []
   },
   "outputs": [
    {
     "name": "stderr",
     "output_type": "stream",
     "text": [
      "/tmp/ipykernel_18/2213156060.py:1: FutureWarning: The default of observed=False is deprecated and will be changed to True in a future version of pandas. Pass observed=False to retain current behavior or observed=True to adopt the future default and silence this warning.\n",
      "  df[['Loan_Amount_Term_Band', 'Loan_Status']].groupby('Loan_Amount_Term_Band', as_index=False).mean()\n"
     ]
    },
    {
     "data": {
      "text/html": [
       "<div>\n",
       "<style scoped>\n",
       "    .dataframe tbody tr th:only-of-type {\n",
       "        vertical-align: middle;\n",
       "    }\n",
       "\n",
       "    .dataframe tbody tr th {\n",
       "        vertical-align: top;\n",
       "    }\n",
       "\n",
       "    .dataframe thead th {\n",
       "        text-align: right;\n",
       "    }\n",
       "</style>\n",
       "<table border=\"1\" class=\"dataframe\">\n",
       "  <thead>\n",
       "    <tr style=\"text-align: right;\">\n",
       "      <th></th>\n",
       "      <th>Loan_Amount_Term_Band</th>\n",
       "      <th>Loan_Status</th>\n",
       "    </tr>\n",
       "  </thead>\n",
       "  <tbody>\n",
       "    <tr>\n",
       "      <th>0</th>\n",
       "      <td>(-0.48, 80.0]</td>\n",
       "      <td>0.571429</td>\n",
       "    </tr>\n",
       "    <tr>\n",
       "      <th>1</th>\n",
       "      <td>(80.0, 160.0]</td>\n",
       "      <td>1.000000</td>\n",
       "    </tr>\n",
       "    <tr>\n",
       "      <th>2</th>\n",
       "      <td>(160.0, 240.0]</td>\n",
       "      <td>0.677419</td>\n",
       "    </tr>\n",
       "    <tr>\n",
       "      <th>3</th>\n",
       "      <td>(240.0, 320.0]</td>\n",
       "      <td>0.571429</td>\n",
       "    </tr>\n",
       "    <tr>\n",
       "      <th>4</th>\n",
       "      <td>(320.0, 400.0]</td>\n",
       "      <td>0.730769</td>\n",
       "    </tr>\n",
       "    <tr>\n",
       "      <th>5</th>\n",
       "      <td>(400.0, 480.0]</td>\n",
       "      <td>0.363636</td>\n",
       "    </tr>\n",
       "  </tbody>\n",
       "</table>\n",
       "</div>"
      ],
      "text/plain": [
       "  Loan_Amount_Term_Band  Loan_Status\n",
       "0         (-0.48, 80.0]     0.571429\n",
       "1         (80.0, 160.0]     1.000000\n",
       "2        (160.0, 240.0]     0.677419\n",
       "3        (240.0, 320.0]     0.571429\n",
       "4        (320.0, 400.0]     0.730769\n",
       "5        (400.0, 480.0]     0.363636"
      ]
     },
     "execution_count": 48,
     "metadata": {},
     "output_type": "execute_result"
    }
   ],
   "source": [
    "df[['Loan_Amount_Term_Band', 'Loan_Status']].groupby('Loan_Amount_Term_Band', as_index=False).mean()"
   ]
  },
  {
   "cell_type": "code",
   "execution_count": 49,
   "id": "438d1f6d",
   "metadata": {
    "execution": {
     "iopub.execute_input": "2024-02-09T17:03:18.508936Z",
     "iopub.status.busy": "2024-02-09T17:03:18.508437Z",
     "iopub.status.idle": "2024-02-09T17:03:18.524126Z",
     "shell.execute_reply": "2024-02-09T17:03:18.522728Z"
    },
    "papermill": {
     "duration": 0.054675,
     "end_time": "2024-02-09T17:03:18.526810",
     "exception": false,
     "start_time": "2024-02-09T17:03:18.472135",
     "status": "completed"
    },
    "tags": []
   },
   "outputs": [],
   "source": [
    "df.loc[df['Loan_Amount_Term'] <= 90, 'Loan_Amount_Term'] = 0\n",
    "df.loc[(df['Loan_Amount_Term'] > 90) & (df['Loan_Amount_Term'] <= 168), 'Loan_Amount_Term'] = 1\n",
    "df.loc[(df['Loan_Amount_Term'] > 168) & (df['Loan_Amount_Term'] <= 246), 'Loan_Amount_Term'] = 2\n",
    "df.loc[(df['Loan_Amount_Term'] > 246) & (df['Loan_Amount_Term'] <= 324), 'Loan_Amount_Term'] = 3\n",
    "df.loc[(df['Loan_Amount_Term'] > 324) & (df['Loan_Amount_Term'] <= 402), 'Loan_Amount_Term'] = 4\n",
    "df.loc[df['Loan_Amount_Term'] > 402, 'Loan_Amount_Term'] = 5"
   ]
  },
  {
   "cell_type": "code",
   "execution_count": 50,
   "id": "b6f09b1c",
   "metadata": {
    "execution": {
     "iopub.execute_input": "2024-02-09T17:03:18.599417Z",
     "iopub.status.busy": "2024-02-09T17:03:18.598929Z",
     "iopub.status.idle": "2024-02-09T17:03:18.606207Z",
     "shell.execute_reply": "2024-02-09T17:03:18.605092Z"
    },
    "papermill": {
     "duration": 0.046018,
     "end_time": "2024-02-09T17:03:18.608563",
     "exception": false,
     "start_time": "2024-02-09T17:03:18.562545",
     "status": "completed"
    },
    "tags": []
   },
   "outputs": [],
   "source": [
    "df = df.drop('Loan_Amount_Term_Band', axis=1)"
   ]
  },
  {
   "cell_type": "code",
   "execution_count": 51,
   "id": "4a4b446d",
   "metadata": {
    "execution": {
     "iopub.execute_input": "2024-02-09T17:03:18.679598Z",
     "iopub.status.busy": "2024-02-09T17:03:18.679100Z",
     "iopub.status.idle": "2024-02-09T17:03:18.690675Z",
     "shell.execute_reply": "2024-02-09T17:03:18.689248Z"
    },
    "papermill": {
     "duration": 0.050267,
     "end_time": "2024-02-09T17:03:18.693277",
     "exception": false,
     "start_time": "2024-02-09T17:03:18.643010",
     "status": "completed"
    },
    "tags": []
   },
   "outputs": [],
   "source": [
    "df['LoanAmount_Band'] = pd.qcut(df['LoanAmount'], 5)"
   ]
  },
  {
   "cell_type": "code",
   "execution_count": 52,
   "id": "0aaef486",
   "metadata": {
    "execution": {
     "iopub.execute_input": "2024-02-09T17:03:18.765351Z",
     "iopub.status.busy": "2024-02-09T17:03:18.764812Z",
     "iopub.status.idle": "2024-02-09T17:03:18.783639Z",
     "shell.execute_reply": "2024-02-09T17:03:18.782340Z"
    },
    "papermill": {
     "duration": 0.057015,
     "end_time": "2024-02-09T17:03:18.785799",
     "exception": false,
     "start_time": "2024-02-09T17:03:18.728784",
     "status": "completed"
    },
    "tags": []
   },
   "outputs": [
    {
     "name": "stderr",
     "output_type": "stream",
     "text": [
      "/tmp/ipykernel_18/3908423238.py:1: FutureWarning: The default of observed=False is deprecated and will be changed to True in a future version of pandas. Pass observed=False to retain current behavior or observed=True to adopt the future default and silence this warning.\n",
      "  df[['LoanAmount_Band', 'Loan_Status']].groupby('LoanAmount_Band', as_index=False).mean()\n"
     ]
    },
    {
     "data": {
      "text/html": [
       "<div>\n",
       "<style scoped>\n",
       "    .dataframe tbody tr th:only-of-type {\n",
       "        vertical-align: middle;\n",
       "    }\n",
       "\n",
       "    .dataframe tbody tr th {\n",
       "        vertical-align: top;\n",
       "    }\n",
       "\n",
       "    .dataframe thead th {\n",
       "        text-align: right;\n",
       "    }\n",
       "</style>\n",
       "<table border=\"1\" class=\"dataframe\">\n",
       "  <thead>\n",
       "    <tr style=\"text-align: right;\">\n",
       "      <th></th>\n",
       "      <th>LoanAmount_Band</th>\n",
       "      <th>Loan_Status</th>\n",
       "    </tr>\n",
       "  </thead>\n",
       "  <tbody>\n",
       "    <tr>\n",
       "      <th>0</th>\n",
       "      <td>(8.999, 81.0]</td>\n",
       "      <td>0.641975</td>\n",
       "    </tr>\n",
       "    <tr>\n",
       "      <th>1</th>\n",
       "      <td>(81.0, 103.0]</td>\n",
       "      <td>0.729730</td>\n",
       "    </tr>\n",
       "    <tr>\n",
       "      <th>2</th>\n",
       "      <td>(103.0, 116.0]</td>\n",
       "      <td>0.696203</td>\n",
       "    </tr>\n",
       "    <tr>\n",
       "      <th>3</th>\n",
       "      <td>(116.0, 130.0]</td>\n",
       "      <td>0.773333</td>\n",
       "    </tr>\n",
       "    <tr>\n",
       "      <th>4</th>\n",
       "      <td>(130.0, 150.0]</td>\n",
       "      <td>0.722222</td>\n",
       "    </tr>\n",
       "  </tbody>\n",
       "</table>\n",
       "</div>"
      ],
      "text/plain": [
       "  LoanAmount_Band  Loan_Status\n",
       "0   (8.999, 81.0]     0.641975\n",
       "1   (81.0, 103.0]     0.729730\n",
       "2  (103.0, 116.0]     0.696203\n",
       "3  (116.0, 130.0]     0.773333\n",
       "4  (130.0, 150.0]     0.722222"
      ]
     },
     "execution_count": 52,
     "metadata": {},
     "output_type": "execute_result"
    }
   ],
   "source": [
    "df[['LoanAmount_Band', 'Loan_Status']].groupby('LoanAmount_Band', as_index=False).mean()"
   ]
  },
  {
   "cell_type": "code",
   "execution_count": 53,
   "id": "0cbaee4b",
   "metadata": {
    "execution": {
     "iopub.execute_input": "2024-02-09T17:03:18.857440Z",
     "iopub.status.busy": "2024-02-09T17:03:18.856934Z",
     "iopub.status.idle": "2024-02-09T17:03:18.869231Z",
     "shell.execute_reply": "2024-02-09T17:03:18.867946Z"
    },
    "papermill": {
     "duration": 0.051437,
     "end_time": "2024-02-09T17:03:18.871674",
     "exception": false,
     "start_time": "2024-02-09T17:03:18.820237",
     "status": "completed"
    },
    "tags": []
   },
   "outputs": [],
   "source": [
    "df.loc[df['LoanAmount'] <= 81, 'LoanAmount'] = 0\n",
    "df.loc[(df['LoanAmount'] > 81) & (df['LoanAmount'] <= 103), 'LoanAmount'] = 1\n",
    "df.loc[(df['LoanAmount'] > 103) & (df['LoanAmount'] <= 116), 'LoanAmount'] = 2\n",
    "df.loc[(df['LoanAmount'] > 116) & (df['LoanAmount'] <= 130), 'LoanAmount'] = 3\n",
    "df.loc[df['LoanAmount'] > 130, 'LoanAmount'] = 4"
   ]
  },
  {
   "cell_type": "code",
   "execution_count": 54,
   "id": "a95ba02e",
   "metadata": {
    "execution": {
     "iopub.execute_input": "2024-02-09T17:03:18.949105Z",
     "iopub.status.busy": "2024-02-09T17:03:18.948565Z",
     "iopub.status.idle": "2024-02-09T17:03:18.955603Z",
     "shell.execute_reply": "2024-02-09T17:03:18.954214Z"
    },
    "papermill": {
     "duration": 0.051562,
     "end_time": "2024-02-09T17:03:18.957990",
     "exception": false,
     "start_time": "2024-02-09T17:03:18.906428",
     "status": "completed"
    },
    "tags": []
   },
   "outputs": [],
   "source": [
    "df = df.drop(['LoanAmount_Band', 'Married', 'Dependents'], axis=1)"
   ]
  },
  {
   "cell_type": "code",
   "execution_count": 55,
   "id": "df363a61",
   "metadata": {
    "execution": {
     "iopub.execute_input": "2024-02-09T17:03:19.034944Z",
     "iopub.status.busy": "2024-02-09T17:03:19.034433Z",
     "iopub.status.idle": "2024-02-09T17:03:19.051545Z",
     "shell.execute_reply": "2024-02-09T17:03:19.050248Z"
    },
    "papermill": {
     "duration": 0.061321,
     "end_time": "2024-02-09T17:03:19.054070",
     "exception": false,
     "start_time": "2024-02-09T17:03:18.992749",
     "status": "completed"
    },
    "tags": []
   },
   "outputs": [
    {
     "data": {
      "text/html": [
       "<div>\n",
       "<style scoped>\n",
       "    .dataframe tbody tr th:only-of-type {\n",
       "        vertical-align: middle;\n",
       "    }\n",
       "\n",
       "    .dataframe tbody tr th {\n",
       "        vertical-align: top;\n",
       "    }\n",
       "\n",
       "    .dataframe thead th {\n",
       "        text-align: right;\n",
       "    }\n",
       "</style>\n",
       "<table border=\"1\" class=\"dataframe\">\n",
       "  <thead>\n",
       "    <tr style=\"text-align: right;\">\n",
       "      <th></th>\n",
       "      <th>LoanAmount</th>\n",
       "      <th>Loan_Amount_Term</th>\n",
       "      <th>Credit_History</th>\n",
       "      <th>Property_Area</th>\n",
       "      <th>Loan_Status</th>\n",
       "      <th>Income_per_person</th>\n",
       "    </tr>\n",
       "  </thead>\n",
       "  <tbody>\n",
       "    <tr>\n",
       "      <th>0</th>\n",
       "      <td>3.0</td>\n",
       "      <td>4.0</td>\n",
       "      <td>1.0</td>\n",
       "      <td>0</td>\n",
       "      <td>0</td>\n",
       "      <td>1.0</td>\n",
       "    </tr>\n",
       "    <tr>\n",
       "      <th>1</th>\n",
       "      <td>0.0</td>\n",
       "      <td>4.0</td>\n",
       "      <td>1.0</td>\n",
       "      <td>2</td>\n",
       "      <td>1</td>\n",
       "      <td>1.0</td>\n",
       "    </tr>\n",
       "    <tr>\n",
       "      <th>2</th>\n",
       "      <td>3.0</td>\n",
       "      <td>4.0</td>\n",
       "      <td>1.0</td>\n",
       "      <td>2</td>\n",
       "      <td>1</td>\n",
       "      <td>2.0</td>\n",
       "    </tr>\n",
       "    <tr>\n",
       "      <th>3</th>\n",
       "      <td>4.0</td>\n",
       "      <td>4.0</td>\n",
       "      <td>1.0</td>\n",
       "      <td>2</td>\n",
       "      <td>1</td>\n",
       "      <td>3.0</td>\n",
       "    </tr>\n",
       "    <tr>\n",
       "      <th>4</th>\n",
       "      <td>1.0</td>\n",
       "      <td>4.0</td>\n",
       "      <td>1.0</td>\n",
       "      <td>2</td>\n",
       "      <td>1</td>\n",
       "      <td>1.0</td>\n",
       "    </tr>\n",
       "  </tbody>\n",
       "</table>\n",
       "</div>"
      ],
      "text/plain": [
       "   LoanAmount  Loan_Amount_Term  Credit_History  Property_Area  Loan_Status  \\\n",
       "0         3.0               4.0             1.0              0            0   \n",
       "1         0.0               4.0             1.0              2            1   \n",
       "2         3.0               4.0             1.0              2            1   \n",
       "3         4.0               4.0             1.0              2            1   \n",
       "4         1.0               4.0             1.0              2            1   \n",
       "\n",
       "   Income_per_person  \n",
       "0                1.0  \n",
       "1                1.0  \n",
       "2                2.0  \n",
       "3                3.0  \n",
       "4                1.0  "
      ]
     },
     "execution_count": 55,
     "metadata": {},
     "output_type": "execute_result"
    }
   ],
   "source": [
    "df.head()"
   ]
  },
  {
   "cell_type": "markdown",
   "id": "9b40adc2",
   "metadata": {
    "papermill": {
     "duration": 0.035134,
     "end_time": "2024-02-09T17:03:19.124226",
     "exception": false,
     "start_time": "2024-02-09T17:03:19.089092",
     "status": "completed"
    },
    "tags": []
   },
   "source": [
    "## Model and prediction"
   ]
  },
  {
   "cell_type": "code",
   "execution_count": 56,
   "id": "b7a32e2b",
   "metadata": {
    "execution": {
     "iopub.execute_input": "2024-02-09T17:03:19.196848Z",
     "iopub.status.busy": "2024-02-09T17:03:19.196372Z",
     "iopub.status.idle": "2024-02-09T17:03:19.203735Z",
     "shell.execute_reply": "2024-02-09T17:03:19.202397Z"
    },
    "papermill": {
     "duration": 0.047035,
     "end_time": "2024-02-09T17:03:19.206408",
     "exception": false,
     "start_time": "2024-02-09T17:03:19.159373",
     "status": "completed"
    },
    "tags": []
   },
   "outputs": [],
   "source": [
    "X = df.drop('Loan_Status', axis=1)\n",
    "y = df['Loan_Status']"
   ]
  },
  {
   "cell_type": "code",
   "execution_count": 57,
   "id": "61dda948",
   "metadata": {
    "execution": {
     "iopub.execute_input": "2024-02-09T17:03:19.280662Z",
     "iopub.status.busy": "2024-02-09T17:03:19.280158Z",
     "iopub.status.idle": "2024-02-09T17:03:19.299180Z",
     "shell.execute_reply": "2024-02-09T17:03:19.297500Z"
    },
    "papermill": {
     "duration": 0.060034,
     "end_time": "2024-02-09T17:03:19.301896",
     "exception": false,
     "start_time": "2024-02-09T17:03:19.241862",
     "status": "completed"
    },
    "tags": []
   },
   "outputs": [
    {
     "data": {
      "text/html": [
       "<div>\n",
       "<style scoped>\n",
       "    .dataframe tbody tr th:only-of-type {\n",
       "        vertical-align: middle;\n",
       "    }\n",
       "\n",
       "    .dataframe tbody tr th {\n",
       "        vertical-align: top;\n",
       "    }\n",
       "\n",
       "    .dataframe thead th {\n",
       "        text-align: right;\n",
       "    }\n",
       "</style>\n",
       "<table border=\"1\" class=\"dataframe\">\n",
       "  <thead>\n",
       "    <tr style=\"text-align: right;\">\n",
       "      <th></th>\n",
       "      <th>LoanAmount</th>\n",
       "      <th>Loan_Amount_Term</th>\n",
       "      <th>Credit_History</th>\n",
       "      <th>Property_Area</th>\n",
       "      <th>Income_per_person</th>\n",
       "    </tr>\n",
       "  </thead>\n",
       "  <tbody>\n",
       "    <tr>\n",
       "      <th>0</th>\n",
       "      <td>3.0</td>\n",
       "      <td>4.0</td>\n",
       "      <td>1.0</td>\n",
       "      <td>0</td>\n",
       "      <td>1.0</td>\n",
       "    </tr>\n",
       "    <tr>\n",
       "      <th>1</th>\n",
       "      <td>0.0</td>\n",
       "      <td>4.0</td>\n",
       "      <td>1.0</td>\n",
       "      <td>2</td>\n",
       "      <td>1.0</td>\n",
       "    </tr>\n",
       "    <tr>\n",
       "      <th>2</th>\n",
       "      <td>3.0</td>\n",
       "      <td>4.0</td>\n",
       "      <td>1.0</td>\n",
       "      <td>2</td>\n",
       "      <td>2.0</td>\n",
       "    </tr>\n",
       "    <tr>\n",
       "      <th>3</th>\n",
       "      <td>4.0</td>\n",
       "      <td>4.0</td>\n",
       "      <td>1.0</td>\n",
       "      <td>2</td>\n",
       "      <td>3.0</td>\n",
       "    </tr>\n",
       "    <tr>\n",
       "      <th>4</th>\n",
       "      <td>1.0</td>\n",
       "      <td>4.0</td>\n",
       "      <td>1.0</td>\n",
       "      <td>2</td>\n",
       "      <td>1.0</td>\n",
       "    </tr>\n",
       "  </tbody>\n",
       "</table>\n",
       "</div>"
      ],
      "text/plain": [
       "   LoanAmount  Loan_Amount_Term  Credit_History  Property_Area  \\\n",
       "0         3.0               4.0             1.0              0   \n",
       "1         0.0               4.0             1.0              2   \n",
       "2         3.0               4.0             1.0              2   \n",
       "3         4.0               4.0             1.0              2   \n",
       "4         1.0               4.0             1.0              2   \n",
       "\n",
       "   Income_per_person  \n",
       "0                1.0  \n",
       "1                1.0  \n",
       "2                2.0  \n",
       "3                3.0  \n",
       "4                1.0  "
      ]
     },
     "execution_count": 57,
     "metadata": {},
     "output_type": "execute_result"
    }
   ],
   "source": [
    "X.head()"
   ]
  },
  {
   "cell_type": "code",
   "execution_count": 58,
   "id": "80f9beaf",
   "metadata": {
    "execution": {
     "iopub.execute_input": "2024-02-09T17:03:19.376392Z",
     "iopub.status.busy": "2024-02-09T17:03:19.375656Z",
     "iopub.status.idle": "2024-02-09T17:03:19.385521Z",
     "shell.execute_reply": "2024-02-09T17:03:19.384053Z"
    },
    "papermill": {
     "duration": 0.050103,
     "end_time": "2024-02-09T17:03:19.388321",
     "exception": false,
     "start_time": "2024-02-09T17:03:19.338218",
     "status": "completed"
    },
    "tags": []
   },
   "outputs": [
    {
     "data": {
      "text/plain": [
       "0    0\n",
       "1    1\n",
       "2    1\n",
       "3    1\n",
       "4    1\n",
       "Name: Loan_Status, dtype: int64"
      ]
     },
     "execution_count": 58,
     "metadata": {},
     "output_type": "execute_result"
    }
   ],
   "source": [
    "y.head()"
   ]
  },
  {
   "cell_type": "code",
   "execution_count": 59,
   "id": "621cb554",
   "metadata": {
    "execution": {
     "iopub.execute_input": "2024-02-09T17:03:19.463656Z",
     "iopub.status.busy": "2024-02-09T17:03:19.462908Z",
     "iopub.status.idle": "2024-02-09T17:03:19.476098Z",
     "shell.execute_reply": "2024-02-09T17:03:19.474469Z"
    },
    "papermill": {
     "duration": 0.054188,
     "end_time": "2024-02-09T17:03:19.478624",
     "exception": false,
     "start_time": "2024-02-09T17:03:19.424436",
     "status": "completed"
    },
    "tags": []
   },
   "outputs": [
    {
     "name": "stdout",
     "output_type": "stream",
     "text": [
      "<class 'pandas.core.frame.DataFrame'>\n",
      "RangeIndex: 381 entries, 0 to 380\n",
      "Data columns (total 6 columns):\n",
      " #   Column             Non-Null Count  Dtype  \n",
      "---  ------             --------------  -----  \n",
      " 0   LoanAmount         381 non-null    float64\n",
      " 1   Loan_Amount_Term   381 non-null    float64\n",
      " 2   Credit_History     381 non-null    float64\n",
      " 3   Property_Area      381 non-null    int64  \n",
      " 4   Loan_Status        381 non-null    int64  \n",
      " 5   Income_per_person  381 non-null    float64\n",
      "dtypes: float64(4), int64(2)\n",
      "memory usage: 18.0 KB\n"
     ]
    }
   ],
   "source": [
    "df.info()"
   ]
  },
  {
   "cell_type": "code",
   "execution_count": 60,
   "id": "6379f0c0",
   "metadata": {
    "execution": {
     "iopub.execute_input": "2024-02-09T17:03:19.553464Z",
     "iopub.status.busy": "2024-02-09T17:03:19.553017Z",
     "iopub.status.idle": "2024-02-09T17:03:19.559745Z",
     "shell.execute_reply": "2024-02-09T17:03:19.558360Z"
    },
    "papermill": {
     "duration": 0.047075,
     "end_time": "2024-02-09T17:03:19.562241",
     "exception": false,
     "start_time": "2024-02-09T17:03:19.515166",
     "status": "completed"
    },
    "tags": []
   },
   "outputs": [],
   "source": [
    "def get_score(model):\n",
    "    scores = cross_val_score(model, X, y, cv=5, scoring='accuracy')\n",
    "    return round(scores.mean() * 100, 2)"
   ]
  },
  {
   "cell_type": "code",
   "execution_count": 61,
   "id": "3a80efa1",
   "metadata": {
    "execution": {
     "iopub.execute_input": "2024-02-09T17:03:19.639012Z",
     "iopub.status.busy": "2024-02-09T17:03:19.637922Z",
     "iopub.status.idle": "2024-02-09T17:03:19.709509Z",
     "shell.execute_reply": "2024-02-09T17:03:19.708167Z"
    },
    "papermill": {
     "duration": 0.114245,
     "end_time": "2024-02-09T17:03:19.712611",
     "exception": false,
     "start_time": "2024-02-09T17:03:19.598366",
     "status": "completed"
    },
    "tags": []
   },
   "outputs": [],
   "source": [
    "acc_log = get_score(LogisticRegression(max_iter=1000))"
   ]
  },
  {
   "cell_type": "code",
   "execution_count": 62,
   "id": "14195723",
   "metadata": {
    "execution": {
     "iopub.execute_input": "2024-02-09T17:03:19.786720Z",
     "iopub.status.busy": "2024-02-09T17:03:19.786335Z",
     "iopub.status.idle": "2024-02-09T17:03:19.851555Z",
     "shell.execute_reply": "2024-02-09T17:03:19.850072Z"
    },
    "papermill": {
     "duration": 0.105181,
     "end_time": "2024-02-09T17:03:19.854412",
     "exception": false,
     "start_time": "2024-02-09T17:03:19.749231",
     "status": "completed"
    },
    "tags": []
   },
   "outputs": [],
   "source": [
    "acc_svc = get_score(SVC())"
   ]
  },
  {
   "cell_type": "code",
   "execution_count": 63,
   "id": "49ecf088",
   "metadata": {
    "execution": {
     "iopub.execute_input": "2024-02-09T17:03:19.928159Z",
     "iopub.status.busy": "2024-02-09T17:03:19.927735Z",
     "iopub.status.idle": "2024-02-09T17:03:19.996680Z",
     "shell.execute_reply": "2024-02-09T17:03:19.995109Z"
    },
    "papermill": {
     "duration": 0.10898,
     "end_time": "2024-02-09T17:03:19.999444",
     "exception": false,
     "start_time": "2024-02-09T17:03:19.890464",
     "status": "completed"
    },
    "tags": []
   },
   "outputs": [],
   "source": [
    "acc_knn = get_score(KNeighborsClassifier(n_neighbors=3))"
   ]
  },
  {
   "cell_type": "code",
   "execution_count": 64,
   "id": "32423cdf",
   "metadata": {
    "execution": {
     "iopub.execute_input": "2024-02-09T17:03:20.073183Z",
     "iopub.status.busy": "2024-02-09T17:03:20.072758Z",
     "iopub.status.idle": "2024-02-09T17:03:20.113908Z",
     "shell.execute_reply": "2024-02-09T17:03:20.112925Z"
    },
    "papermill": {
     "duration": 0.081153,
     "end_time": "2024-02-09T17:03:20.116605",
     "exception": false,
     "start_time": "2024-02-09T17:03:20.035452",
     "status": "completed"
    },
    "tags": []
   },
   "outputs": [],
   "source": [
    "acc_gaussian = get_score(GaussianNB())"
   ]
  },
  {
   "cell_type": "code",
   "execution_count": 65,
   "id": "702c8ad7",
   "metadata": {
    "execution": {
     "iopub.execute_input": "2024-02-09T17:03:20.191556Z",
     "iopub.status.busy": "2024-02-09T17:03:20.190493Z",
     "iopub.status.idle": "2024-02-09T17:03:20.235417Z",
     "shell.execute_reply": "2024-02-09T17:03:20.234137Z"
    },
    "papermill": {
     "duration": 0.086023,
     "end_time": "2024-02-09T17:03:20.238269",
     "exception": false,
     "start_time": "2024-02-09T17:03:20.152246",
     "status": "completed"
    },
    "tags": []
   },
   "outputs": [],
   "source": [
    "acc_perceptron = get_score(Perceptron())"
   ]
  },
  {
   "cell_type": "code",
   "execution_count": 66,
   "id": "5a225e48",
   "metadata": {
    "execution": {
     "iopub.execute_input": "2024-02-09T17:03:20.312084Z",
     "iopub.status.busy": "2024-02-09T17:03:20.311665Z",
     "iopub.status.idle": "2024-02-09T17:03:20.448583Z",
     "shell.execute_reply": "2024-02-09T17:03:20.447200Z"
    },
    "papermill": {
     "duration": 0.177461,
     "end_time": "2024-02-09T17:03:20.451464",
     "exception": false,
     "start_time": "2024-02-09T17:03:20.274003",
     "status": "completed"
    },
    "tags": []
   },
   "outputs": [],
   "source": [
    "acc_linear_svc = get_score(LinearSVC(max_iter=10000))"
   ]
  },
  {
   "cell_type": "code",
   "execution_count": 67,
   "id": "b8e1f117",
   "metadata": {
    "execution": {
     "iopub.execute_input": "2024-02-09T17:03:20.525647Z",
     "iopub.status.busy": "2024-02-09T17:03:20.524809Z",
     "iopub.status.idle": "2024-02-09T17:03:20.571127Z",
     "shell.execute_reply": "2024-02-09T17:03:20.569861Z"
    },
    "papermill": {
     "duration": 0.087236,
     "end_time": "2024-02-09T17:03:20.574369",
     "exception": false,
     "start_time": "2024-02-09T17:03:20.487133",
     "status": "completed"
    },
    "tags": []
   },
   "outputs": [],
   "source": [
    "acc_sgd = get_score(SGDClassifier())"
   ]
  },
  {
   "cell_type": "code",
   "execution_count": 68,
   "id": "441a5411",
   "metadata": {
    "execution": {
     "iopub.execute_input": "2024-02-09T17:03:20.663354Z",
     "iopub.status.busy": "2024-02-09T17:03:20.662527Z",
     "iopub.status.idle": "2024-02-09T17:03:20.699529Z",
     "shell.execute_reply": "2024-02-09T17:03:20.698672Z"
    },
    "papermill": {
     "duration": 0.086351,
     "end_time": "2024-02-09T17:03:20.702140",
     "exception": false,
     "start_time": "2024-02-09T17:03:20.615789",
     "status": "completed"
    },
    "tags": []
   },
   "outputs": [],
   "source": [
    "acc_decision_tree = get_score(DecisionTreeClassifier())"
   ]
  },
  {
   "cell_type": "code",
   "execution_count": 69,
   "id": "acc1b536",
   "metadata": {
    "execution": {
     "iopub.execute_input": "2024-02-09T17:03:20.798657Z",
     "iopub.status.busy": "2024-02-09T17:03:20.797738Z",
     "iopub.status.idle": "2024-02-09T17:03:22.142712Z",
     "shell.execute_reply": "2024-02-09T17:03:22.141523Z"
    },
    "papermill": {
     "duration": 1.399499,
     "end_time": "2024-02-09T17:03:22.145887",
     "exception": false,
     "start_time": "2024-02-09T17:03:20.746388",
     "status": "completed"
    },
    "tags": []
   },
   "outputs": [],
   "source": [
    "acc_random_forest = get_score(RandomForestClassifier(n_estimators=100))"
   ]
  },
  {
   "cell_type": "code",
   "execution_count": 70,
   "id": "cb264226",
   "metadata": {
    "execution": {
     "iopub.execute_input": "2024-02-09T17:03:22.224510Z",
     "iopub.status.busy": "2024-02-09T17:03:22.224101Z",
     "iopub.status.idle": "2024-02-09T17:03:22.238811Z",
     "shell.execute_reply": "2024-02-09T17:03:22.238017Z"
    },
    "papermill": {
     "duration": 0.057582,
     "end_time": "2024-02-09T17:03:22.241380",
     "exception": false,
     "start_time": "2024-02-09T17:03:22.183798",
     "status": "completed"
    },
    "tags": []
   },
   "outputs": [
    {
     "data": {
      "text/html": [
       "<div>\n",
       "<style scoped>\n",
       "    .dataframe tbody tr th:only-of-type {\n",
       "        vertical-align: middle;\n",
       "    }\n",
       "\n",
       "    .dataframe tbody tr th {\n",
       "        vertical-align: top;\n",
       "    }\n",
       "\n",
       "    .dataframe thead th {\n",
       "        text-align: right;\n",
       "    }\n",
       "</style>\n",
       "<table border=\"1\" class=\"dataframe\">\n",
       "  <thead>\n",
       "    <tr style=\"text-align: right;\">\n",
       "      <th></th>\n",
       "      <th>Model</th>\n",
       "      <th>Score</th>\n",
       "    </tr>\n",
       "  </thead>\n",
       "  <tbody>\n",
       "    <tr>\n",
       "      <th>2</th>\n",
       "      <td>Logistic Regression</td>\n",
       "      <td>78.74</td>\n",
       "    </tr>\n",
       "    <tr>\n",
       "      <th>7</th>\n",
       "      <td>Linear SVC</td>\n",
       "      <td>78.74</td>\n",
       "    </tr>\n",
       "    <tr>\n",
       "      <th>4</th>\n",
       "      <td>Naive Bayes</td>\n",
       "      <td>77.70</td>\n",
       "    </tr>\n",
       "    <tr>\n",
       "      <th>0</th>\n",
       "      <td>Support Vector Machines</td>\n",
       "      <td>77.17</td>\n",
       "    </tr>\n",
       "    <tr>\n",
       "      <th>5</th>\n",
       "      <td>Perceptron</td>\n",
       "      <td>76.65</td>\n",
       "    </tr>\n",
       "    <tr>\n",
       "      <th>3</th>\n",
       "      <td>Random Forest</td>\n",
       "      <td>73.75</td>\n",
       "    </tr>\n",
       "    <tr>\n",
       "      <th>1</th>\n",
       "      <td>KNN</td>\n",
       "      <td>69.30</td>\n",
       "    </tr>\n",
       "    <tr>\n",
       "      <th>8</th>\n",
       "      <td>Decision Tree</td>\n",
       "      <td>68.00</td>\n",
       "    </tr>\n",
       "    <tr>\n",
       "      <th>6</th>\n",
       "      <td>Stochastic Gradient Descent</td>\n",
       "      <td>67.70</td>\n",
       "    </tr>\n",
       "  </tbody>\n",
       "</table>\n",
       "</div>"
      ],
      "text/plain": [
       "                         Model  Score\n",
       "2          Logistic Regression  78.74\n",
       "7                   Linear SVC  78.74\n",
       "4                  Naive Bayes  77.70\n",
       "0      Support Vector Machines  77.17\n",
       "5                   Perceptron  76.65\n",
       "3                Random Forest  73.75\n",
       "1                          KNN  69.30\n",
       "8                Decision Tree  68.00\n",
       "6  Stochastic Gradient Descent  67.70"
      ]
     },
     "execution_count": 70,
     "metadata": {},
     "output_type": "execute_result"
    }
   ],
   "source": [
    "models = pd.DataFrame({\n",
    "    'Model': ['Support Vector Machines', 'KNN', 'Logistic Regression', 'Random Forest', 'Naive Bayes', 'Perceptron', 'Stochastic Gradient Descent', 'Linear SVC', 'Decision Tree'],\n",
    "    'Score': [acc_svc, acc_knn, acc_log, acc_random_forest, acc_gaussian, acc_perceptron, acc_sgd, acc_linear_svc, acc_decision_tree]\n",
    "})\n",
    "models.sort_values(by='Score', ascending=False)"
   ]
  }
 ],
 "metadata": {
  "kaggle": {
   "accelerator": "none",
   "dataSources": [
    {
     "datasetId": 4390452,
     "sourceId": 7539897,
     "sourceType": "datasetVersion"
    }
   ],
   "dockerImageVersionId": 30646,
   "isGpuEnabled": false,
   "isInternetEnabled": true,
   "language": "python",
   "sourceType": "notebook"
  },
  "kernelspec": {
   "display_name": "Python 3",
   "language": "python",
   "name": "python3"
  },
  "language_info": {
   "codemirror_mode": {
    "name": "ipython",
    "version": 3
   },
   "file_extension": ".py",
   "mimetype": "text/x-python",
   "name": "python",
   "nbconvert_exporter": "python",
   "pygments_lexer": "ipython3",
   "version": "3.10.13"
  },
  "papermill": {
   "default_parameters": {},
   "duration": 27.639726,
   "end_time": "2024-02-09T17:03:23.004660",
   "environment_variables": {},
   "exception": null,
   "input_path": "__notebook__.ipynb",
   "output_path": "__notebook__.ipynb",
   "parameters": {},
   "start_time": "2024-02-09T17:02:55.364934",
   "version": "2.5.0"
  }
 },
 "nbformat": 4,
 "nbformat_minor": 5
}
