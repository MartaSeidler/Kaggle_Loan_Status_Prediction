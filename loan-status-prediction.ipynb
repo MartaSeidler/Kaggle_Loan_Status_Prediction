{
 "cells": [
  {
   "cell_type": "markdown",
   "id": "f19c8fd5",
   "metadata": {
    "papermill": {
     "duration": 0.011862,
     "end_time": "2024-02-09T11:47:56.345454",
     "exception": false,
     "start_time": "2024-02-09T11:47:56.333592",
     "status": "completed"
    },
    "tags": []
   },
   "source": [
    "## Load libraries and data"
   ]
  },
  {
   "cell_type": "code",
   "execution_count": 1,
   "id": "2301a790",
   "metadata": {
    "_cell_guid": "b1076dfc-b9ad-4769-8c92-a6c4dae69d19",
    "_uuid": "8f2839f25d086af736a60e9eeb907d3b93b6e0e5",
    "execution": {
     "iopub.execute_input": "2024-02-09T11:47:56.371696Z",
     "iopub.status.busy": "2024-02-09T11:47:56.370575Z",
     "iopub.status.idle": "2024-02-09T11:47:58.522796Z",
     "shell.execute_reply": "2024-02-09T11:47:58.521553Z"
    },
    "papermill": {
     "duration": 2.168384,
     "end_time": "2024-02-09T11:47:58.525421",
     "exception": false,
     "start_time": "2024-02-09T11:47:56.357037",
     "status": "completed"
    },
    "tags": []
   },
   "outputs": [],
   "source": [
    "import pandas as pd\n",
    "import numpy as np\n",
    "import matplotlib.pyplot as plt\n",
    "%matplotlib inline\n",
    "import seaborn as sns\n",
    "\n",
    "sns.set_palette(\"Set2\")"
   ]
  },
  {
   "cell_type": "code",
   "execution_count": 2,
   "id": "a19ca28c",
   "metadata": {
    "execution": {
     "iopub.execute_input": "2024-02-09T11:47:58.551910Z",
     "iopub.status.busy": "2024-02-09T11:47:58.551425Z",
     "iopub.status.idle": "2024-02-09T11:47:59.098778Z",
     "shell.execute_reply": "2024-02-09T11:47:59.097398Z"
    },
    "papermill": {
     "duration": 0.563289,
     "end_time": "2024-02-09T11:47:59.101513",
     "exception": false,
     "start_time": "2024-02-09T11:47:58.538224",
     "status": "completed"
    },
    "tags": []
   },
   "outputs": [],
   "source": [
    "from sklearn.model_selection import cross_val_score\n",
    "from sklearn.linear_model import LogisticRegression\n",
    "from sklearn.svm import SVC, LinearSVC\n",
    "from sklearn.ensemble import RandomForestClassifier\n",
    "from sklearn.neighbors import KNeighborsClassifier\n",
    "from sklearn.naive_bayes import GaussianNB\n",
    "from sklearn.linear_model import Perceptron\n",
    "from sklearn.linear_model import SGDClassifier\n",
    "from sklearn.tree import DecisionTreeClassifier"
   ]
  },
  {
   "cell_type": "code",
   "execution_count": 3,
   "id": "34fd74a5",
   "metadata": {
    "execution": {
     "iopub.execute_input": "2024-02-09T11:47:59.127910Z",
     "iopub.status.busy": "2024-02-09T11:47:59.126858Z",
     "iopub.status.idle": "2024-02-09T11:47:59.163669Z",
     "shell.execute_reply": "2024-02-09T11:47:59.162550Z"
    },
    "papermill": {
     "duration": 0.052083,
     "end_time": "2024-02-09T11:47:59.166133",
     "exception": false,
     "start_time": "2024-02-09T11:47:59.114050",
     "status": "completed"
    },
    "tags": []
   },
   "outputs": [
    {
     "data": {
      "text/html": [
       "<div>\n",
       "<style scoped>\n",
       "    .dataframe tbody tr th:only-of-type {\n",
       "        vertical-align: middle;\n",
       "    }\n",
       "\n",
       "    .dataframe tbody tr th {\n",
       "        vertical-align: top;\n",
       "    }\n",
       "\n",
       "    .dataframe thead th {\n",
       "        text-align: right;\n",
       "    }\n",
       "</style>\n",
       "<table border=\"1\" class=\"dataframe\">\n",
       "  <thead>\n",
       "    <tr style=\"text-align: right;\">\n",
       "      <th></th>\n",
       "      <th>Loan_ID</th>\n",
       "      <th>Gender</th>\n",
       "      <th>Married</th>\n",
       "      <th>Dependents</th>\n",
       "      <th>Education</th>\n",
       "      <th>Self_Employed</th>\n",
       "      <th>ApplicantIncome</th>\n",
       "      <th>CoapplicantIncome</th>\n",
       "      <th>LoanAmount</th>\n",
       "      <th>Loan_Amount_Term</th>\n",
       "      <th>Credit_History</th>\n",
       "      <th>Property_Area</th>\n",
       "      <th>Loan_Status</th>\n",
       "    </tr>\n",
       "  </thead>\n",
       "  <tbody>\n",
       "    <tr>\n",
       "      <th>0</th>\n",
       "      <td>LP001003</td>\n",
       "      <td>Male</td>\n",
       "      <td>Yes</td>\n",
       "      <td>1</td>\n",
       "      <td>Graduate</td>\n",
       "      <td>No</td>\n",
       "      <td>4583</td>\n",
       "      <td>1508.0</td>\n",
       "      <td>128.0</td>\n",
       "      <td>360.0</td>\n",
       "      <td>1.0</td>\n",
       "      <td>Rural</td>\n",
       "      <td>N</td>\n",
       "    </tr>\n",
       "    <tr>\n",
       "      <th>1</th>\n",
       "      <td>LP001005</td>\n",
       "      <td>Male</td>\n",
       "      <td>Yes</td>\n",
       "      <td>0</td>\n",
       "      <td>Graduate</td>\n",
       "      <td>Yes</td>\n",
       "      <td>3000</td>\n",
       "      <td>0.0</td>\n",
       "      <td>66.0</td>\n",
       "      <td>360.0</td>\n",
       "      <td>1.0</td>\n",
       "      <td>Urban</td>\n",
       "      <td>Y</td>\n",
       "    </tr>\n",
       "    <tr>\n",
       "      <th>2</th>\n",
       "      <td>LP001006</td>\n",
       "      <td>Male</td>\n",
       "      <td>Yes</td>\n",
       "      <td>0</td>\n",
       "      <td>Not Graduate</td>\n",
       "      <td>No</td>\n",
       "      <td>2583</td>\n",
       "      <td>2358.0</td>\n",
       "      <td>120.0</td>\n",
       "      <td>360.0</td>\n",
       "      <td>1.0</td>\n",
       "      <td>Urban</td>\n",
       "      <td>Y</td>\n",
       "    </tr>\n",
       "    <tr>\n",
       "      <th>3</th>\n",
       "      <td>LP001008</td>\n",
       "      <td>Male</td>\n",
       "      <td>No</td>\n",
       "      <td>0</td>\n",
       "      <td>Graduate</td>\n",
       "      <td>No</td>\n",
       "      <td>6000</td>\n",
       "      <td>0.0</td>\n",
       "      <td>141.0</td>\n",
       "      <td>360.0</td>\n",
       "      <td>1.0</td>\n",
       "      <td>Urban</td>\n",
       "      <td>Y</td>\n",
       "    </tr>\n",
       "    <tr>\n",
       "      <th>4</th>\n",
       "      <td>LP001013</td>\n",
       "      <td>Male</td>\n",
       "      <td>Yes</td>\n",
       "      <td>0</td>\n",
       "      <td>Not Graduate</td>\n",
       "      <td>No</td>\n",
       "      <td>2333</td>\n",
       "      <td>1516.0</td>\n",
       "      <td>95.0</td>\n",
       "      <td>360.0</td>\n",
       "      <td>1.0</td>\n",
       "      <td>Urban</td>\n",
       "      <td>Y</td>\n",
       "    </tr>\n",
       "  </tbody>\n",
       "</table>\n",
       "</div>"
      ],
      "text/plain": [
       "    Loan_ID Gender Married Dependents     Education Self_Employed  \\\n",
       "0  LP001003   Male     Yes          1      Graduate            No   \n",
       "1  LP001005   Male     Yes          0      Graduate           Yes   \n",
       "2  LP001006   Male     Yes          0  Not Graduate            No   \n",
       "3  LP001008   Male      No          0      Graduate            No   \n",
       "4  LP001013   Male     Yes          0  Not Graduate            No   \n",
       "\n",
       "   ApplicantIncome  CoapplicantIncome  LoanAmount  Loan_Amount_Term  \\\n",
       "0             4583             1508.0       128.0             360.0   \n",
       "1             3000                0.0        66.0             360.0   \n",
       "2             2583             2358.0       120.0             360.0   \n",
       "3             6000                0.0       141.0             360.0   \n",
       "4             2333             1516.0        95.0             360.0   \n",
       "\n",
       "   Credit_History Property_Area Loan_Status  \n",
       "0             1.0         Rural           N  \n",
       "1             1.0         Urban           Y  \n",
       "2             1.0         Urban           Y  \n",
       "3             1.0         Urban           Y  \n",
       "4             1.0         Urban           Y  "
      ]
     },
     "execution_count": 3,
     "metadata": {},
     "output_type": "execute_result"
    }
   ],
   "source": [
    "df = pd.read_csv('/kaggle/input/loan-status-prediction/loan_data.csv')\n",
    "df.head()"
   ]
  },
  {
   "cell_type": "markdown",
   "id": "f26a1f61",
   "metadata": {
    "papermill": {
     "duration": 0.011875,
     "end_time": "2024-02-09T11:47:59.189947",
     "exception": false,
     "start_time": "2024-02-09T11:47:59.178072",
     "status": "completed"
    },
    "tags": []
   },
   "source": [
    "## Analyze data"
   ]
  },
  {
   "cell_type": "code",
   "execution_count": 4,
   "id": "33dc4978",
   "metadata": {
    "execution": {
     "iopub.execute_input": "2024-02-09T11:47:59.215296Z",
     "iopub.status.busy": "2024-02-09T11:47:59.214870Z",
     "iopub.status.idle": "2024-02-09T11:47:59.239623Z",
     "shell.execute_reply": "2024-02-09T11:47:59.238556Z"
    },
    "papermill": {
     "duration": 0.040403,
     "end_time": "2024-02-09T11:47:59.242141",
     "exception": false,
     "start_time": "2024-02-09T11:47:59.201738",
     "status": "completed"
    },
    "tags": []
   },
   "outputs": [
    {
     "name": "stdout",
     "output_type": "stream",
     "text": [
      "<class 'pandas.core.frame.DataFrame'>\n",
      "RangeIndex: 381 entries, 0 to 380\n",
      "Data columns (total 13 columns):\n",
      " #   Column             Non-Null Count  Dtype  \n",
      "---  ------             --------------  -----  \n",
      " 0   Loan_ID            381 non-null    object \n",
      " 1   Gender             376 non-null    object \n",
      " 2   Married            381 non-null    object \n",
      " 3   Dependents         373 non-null    object \n",
      " 4   Education          381 non-null    object \n",
      " 5   Self_Employed      360 non-null    object \n",
      " 6   ApplicantIncome    381 non-null    int64  \n",
      " 7   CoapplicantIncome  381 non-null    float64\n",
      " 8   LoanAmount         381 non-null    float64\n",
      " 9   Loan_Amount_Term   370 non-null    float64\n",
      " 10  Credit_History     351 non-null    float64\n",
      " 11  Property_Area      381 non-null    object \n",
      " 12  Loan_Status        381 non-null    object \n",
      "dtypes: float64(4), int64(1), object(8)\n",
      "memory usage: 38.8+ KB\n"
     ]
    }
   ],
   "source": [
    "df.info()"
   ]
  },
  {
   "cell_type": "code",
   "execution_count": 5,
   "id": "3079a229",
   "metadata": {
    "execution": {
     "iopub.execute_input": "2024-02-09T11:47:59.268158Z",
     "iopub.status.busy": "2024-02-09T11:47:59.267768Z",
     "iopub.status.idle": "2024-02-09T11:47:59.275050Z",
     "shell.execute_reply": "2024-02-09T11:47:59.274291Z"
    },
    "papermill": {
     "duration": 0.022575,
     "end_time": "2024-02-09T11:47:59.276879",
     "exception": false,
     "start_time": "2024-02-09T11:47:59.254304",
     "status": "completed"
    },
    "tags": []
   },
   "outputs": [
    {
     "data": {
      "text/plain": [
       "Loan_ID               0\n",
       "Gender                5\n",
       "Married               0\n",
       "Dependents            8\n",
       "Education             0\n",
       "Self_Employed        21\n",
       "ApplicantIncome       0\n",
       "CoapplicantIncome     0\n",
       "LoanAmount            0\n",
       "Loan_Amount_Term     11\n",
       "Credit_History       30\n",
       "Property_Area         0\n",
       "Loan_Status           0\n",
       "dtype: int64"
      ]
     },
     "execution_count": 5,
     "metadata": {},
     "output_type": "execute_result"
    }
   ],
   "source": [
    "df.isnull().sum()"
   ]
  },
  {
   "cell_type": "code",
   "execution_count": 6,
   "id": "e44e3a56",
   "metadata": {
    "execution": {
     "iopub.execute_input": "2024-02-09T11:47:59.302669Z",
     "iopub.status.busy": "2024-02-09T11:47:59.302280Z",
     "iopub.status.idle": "2024-02-09T11:47:59.326697Z",
     "shell.execute_reply": "2024-02-09T11:47:59.325690Z"
    },
    "papermill": {
     "duration": 0.039789,
     "end_time": "2024-02-09T11:47:59.328660",
     "exception": false,
     "start_time": "2024-02-09T11:47:59.288871",
     "status": "completed"
    },
    "tags": []
   },
   "outputs": [
    {
     "data": {
      "text/html": [
       "<div>\n",
       "<style scoped>\n",
       "    .dataframe tbody tr th:only-of-type {\n",
       "        vertical-align: middle;\n",
       "    }\n",
       "\n",
       "    .dataframe tbody tr th {\n",
       "        vertical-align: top;\n",
       "    }\n",
       "\n",
       "    .dataframe thead th {\n",
       "        text-align: right;\n",
       "    }\n",
       "</style>\n",
       "<table border=\"1\" class=\"dataframe\">\n",
       "  <thead>\n",
       "    <tr style=\"text-align: right;\">\n",
       "      <th></th>\n",
       "      <th>ApplicantIncome</th>\n",
       "      <th>CoapplicantIncome</th>\n",
       "      <th>LoanAmount</th>\n",
       "      <th>Loan_Amount_Term</th>\n",
       "      <th>Credit_History</th>\n",
       "    </tr>\n",
       "  </thead>\n",
       "  <tbody>\n",
       "    <tr>\n",
       "      <th>count</th>\n",
       "      <td>381.000000</td>\n",
       "      <td>381.000000</td>\n",
       "      <td>381.000000</td>\n",
       "      <td>370.000000</td>\n",
       "      <td>351.000000</td>\n",
       "    </tr>\n",
       "    <tr>\n",
       "      <th>mean</th>\n",
       "      <td>3579.845144</td>\n",
       "      <td>1277.275381</td>\n",
       "      <td>104.986877</td>\n",
       "      <td>340.864865</td>\n",
       "      <td>0.837607</td>\n",
       "    </tr>\n",
       "    <tr>\n",
       "      <th>std</th>\n",
       "      <td>1419.813818</td>\n",
       "      <td>2340.818114</td>\n",
       "      <td>28.358464</td>\n",
       "      <td>68.549257</td>\n",
       "      <td>0.369338</td>\n",
       "    </tr>\n",
       "    <tr>\n",
       "      <th>min</th>\n",
       "      <td>150.000000</td>\n",
       "      <td>0.000000</td>\n",
       "      <td>9.000000</td>\n",
       "      <td>12.000000</td>\n",
       "      <td>0.000000</td>\n",
       "    </tr>\n",
       "    <tr>\n",
       "      <th>25%</th>\n",
       "      <td>2600.000000</td>\n",
       "      <td>0.000000</td>\n",
       "      <td>90.000000</td>\n",
       "      <td>360.000000</td>\n",
       "      <td>1.000000</td>\n",
       "    </tr>\n",
       "    <tr>\n",
       "      <th>50%</th>\n",
       "      <td>3333.000000</td>\n",
       "      <td>983.000000</td>\n",
       "      <td>110.000000</td>\n",
       "      <td>360.000000</td>\n",
       "      <td>1.000000</td>\n",
       "    </tr>\n",
       "    <tr>\n",
       "      <th>75%</th>\n",
       "      <td>4288.000000</td>\n",
       "      <td>2016.000000</td>\n",
       "      <td>127.000000</td>\n",
       "      <td>360.000000</td>\n",
       "      <td>1.000000</td>\n",
       "    </tr>\n",
       "    <tr>\n",
       "      <th>max</th>\n",
       "      <td>9703.000000</td>\n",
       "      <td>33837.000000</td>\n",
       "      <td>150.000000</td>\n",
       "      <td>480.000000</td>\n",
       "      <td>1.000000</td>\n",
       "    </tr>\n",
       "  </tbody>\n",
       "</table>\n",
       "</div>"
      ],
      "text/plain": [
       "       ApplicantIncome  CoapplicantIncome  LoanAmount  Loan_Amount_Term  \\\n",
       "count       381.000000         381.000000  381.000000        370.000000   \n",
       "mean       3579.845144        1277.275381  104.986877        340.864865   \n",
       "std        1419.813818        2340.818114   28.358464         68.549257   \n",
       "min         150.000000           0.000000    9.000000         12.000000   \n",
       "25%        2600.000000           0.000000   90.000000        360.000000   \n",
       "50%        3333.000000         983.000000  110.000000        360.000000   \n",
       "75%        4288.000000        2016.000000  127.000000        360.000000   \n",
       "max        9703.000000       33837.000000  150.000000        480.000000   \n",
       "\n",
       "       Credit_History  \n",
       "count      351.000000  \n",
       "mean         0.837607  \n",
       "std          0.369338  \n",
       "min          0.000000  \n",
       "25%          1.000000  \n",
       "50%          1.000000  \n",
       "75%          1.000000  \n",
       "max          1.000000  "
      ]
     },
     "execution_count": 6,
     "metadata": {},
     "output_type": "execute_result"
    }
   ],
   "source": [
    "df.describe()"
   ]
  },
  {
   "cell_type": "code",
   "execution_count": 7,
   "id": "edd34e78",
   "metadata": {
    "execution": {
     "iopub.execute_input": "2024-02-09T11:47:59.355404Z",
     "iopub.status.busy": "2024-02-09T11:47:59.355024Z",
     "iopub.status.idle": "2024-02-09T11:47:59.377241Z",
     "shell.execute_reply": "2024-02-09T11:47:59.376295Z"
    },
    "papermill": {
     "duration": 0.038121,
     "end_time": "2024-02-09T11:47:59.379181",
     "exception": false,
     "start_time": "2024-02-09T11:47:59.341060",
     "status": "completed"
    },
    "tags": []
   },
   "outputs": [
    {
     "data": {
      "text/html": [
       "<div>\n",
       "<style scoped>\n",
       "    .dataframe tbody tr th:only-of-type {\n",
       "        vertical-align: middle;\n",
       "    }\n",
       "\n",
       "    .dataframe tbody tr th {\n",
       "        vertical-align: top;\n",
       "    }\n",
       "\n",
       "    .dataframe thead th {\n",
       "        text-align: right;\n",
       "    }\n",
       "</style>\n",
       "<table border=\"1\" class=\"dataframe\">\n",
       "  <thead>\n",
       "    <tr style=\"text-align: right;\">\n",
       "      <th></th>\n",
       "      <th>Loan_ID</th>\n",
       "      <th>Gender</th>\n",
       "      <th>Married</th>\n",
       "      <th>Dependents</th>\n",
       "      <th>Education</th>\n",
       "      <th>Self_Employed</th>\n",
       "      <th>Property_Area</th>\n",
       "      <th>Loan_Status</th>\n",
       "    </tr>\n",
       "  </thead>\n",
       "  <tbody>\n",
       "    <tr>\n",
       "      <th>count</th>\n",
       "      <td>381</td>\n",
       "      <td>376</td>\n",
       "      <td>381</td>\n",
       "      <td>373</td>\n",
       "      <td>381</td>\n",
       "      <td>360</td>\n",
       "      <td>381</td>\n",
       "      <td>381</td>\n",
       "    </tr>\n",
       "    <tr>\n",
       "      <th>unique</th>\n",
       "      <td>381</td>\n",
       "      <td>2</td>\n",
       "      <td>2</td>\n",
       "      <td>4</td>\n",
       "      <td>2</td>\n",
       "      <td>2</td>\n",
       "      <td>3</td>\n",
       "      <td>2</td>\n",
       "    </tr>\n",
       "    <tr>\n",
       "      <th>top</th>\n",
       "      <td>LP001003</td>\n",
       "      <td>Male</td>\n",
       "      <td>Yes</td>\n",
       "      <td>0</td>\n",
       "      <td>Graduate</td>\n",
       "      <td>No</td>\n",
       "      <td>Semiurban</td>\n",
       "      <td>Y</td>\n",
       "    </tr>\n",
       "    <tr>\n",
       "      <th>freq</th>\n",
       "      <td>1</td>\n",
       "      <td>291</td>\n",
       "      <td>228</td>\n",
       "      <td>234</td>\n",
       "      <td>278</td>\n",
       "      <td>325</td>\n",
       "      <td>149</td>\n",
       "      <td>271</td>\n",
       "    </tr>\n",
       "  </tbody>\n",
       "</table>\n",
       "</div>"
      ],
      "text/plain": [
       "         Loan_ID Gender Married Dependents Education Self_Employed  \\\n",
       "count        381    376     381        373       381           360   \n",
       "unique       381      2       2          4         2             2   \n",
       "top     LP001003   Male     Yes          0  Graduate            No   \n",
       "freq           1    291     228        234       278           325   \n",
       "\n",
       "       Property_Area Loan_Status  \n",
       "count            381         381  \n",
       "unique             3           2  \n",
       "top        Semiurban           Y  \n",
       "freq             149         271  "
      ]
     },
     "execution_count": 7,
     "metadata": {},
     "output_type": "execute_result"
    }
   ],
   "source": [
    "df.describe(include='O')"
   ]
  },
  {
   "cell_type": "code",
   "execution_count": 8,
   "id": "96153c22",
   "metadata": {
    "execution": {
     "iopub.execute_input": "2024-02-09T11:47:59.405366Z",
     "iopub.status.busy": "2024-02-09T11:47:59.405018Z",
     "iopub.status.idle": "2024-02-09T11:47:59.412561Z",
     "shell.execute_reply": "2024-02-09T11:47:59.411645Z"
    },
    "papermill": {
     "duration": 0.023276,
     "end_time": "2024-02-09T11:47:59.414686",
     "exception": false,
     "start_time": "2024-02-09T11:47:59.391410",
     "status": "completed"
    },
    "tags": []
   },
   "outputs": [
    {
     "data": {
      "text/plain": [
       "Education\n",
       "Graduate        278\n",
       "Not Graduate    103\n",
       "Name: count, dtype: int64"
      ]
     },
     "execution_count": 8,
     "metadata": {},
     "output_type": "execute_result"
    }
   ],
   "source": [
    "df['Education'].value_counts()"
   ]
  },
  {
   "cell_type": "code",
   "execution_count": 9,
   "id": "5abe410a",
   "metadata": {
    "execution": {
     "iopub.execute_input": "2024-02-09T11:47:59.442137Z",
     "iopub.status.busy": "2024-02-09T11:47:59.441753Z",
     "iopub.status.idle": "2024-02-09T11:47:59.447849Z",
     "shell.execute_reply": "2024-02-09T11:47:59.446757Z"
    },
    "papermill": {
     "duration": 0.022504,
     "end_time": "2024-02-09T11:47:59.450126",
     "exception": false,
     "start_time": "2024-02-09T11:47:59.427622",
     "status": "completed"
    },
    "tags": []
   },
   "outputs": [
    {
     "data": {
      "text/plain": [
       "array(['Rural', 'Urban', 'Semiurban'], dtype=object)"
      ]
     },
     "execution_count": 9,
     "metadata": {},
     "output_type": "execute_result"
    }
   ],
   "source": [
    "df['Property_Area'].unique()"
   ]
  },
  {
   "cell_type": "code",
   "execution_count": 10,
   "id": "68774296",
   "metadata": {
    "execution": {
     "iopub.execute_input": "2024-02-09T11:47:59.477751Z",
     "iopub.status.busy": "2024-02-09T11:47:59.477406Z",
     "iopub.status.idle": "2024-02-09T11:47:59.485344Z",
     "shell.execute_reply": "2024-02-09T11:47:59.484148Z"
    },
    "papermill": {
     "duration": 0.024937,
     "end_time": "2024-02-09T11:47:59.487848",
     "exception": false,
     "start_time": "2024-02-09T11:47:59.462911",
     "status": "completed"
    },
    "tags": []
   },
   "outputs": [
    {
     "data": {
      "text/plain": [
       "array([ 1., nan,  0.])"
      ]
     },
     "execution_count": 10,
     "metadata": {},
     "output_type": "execute_result"
    }
   ],
   "source": [
    "df['Credit_History'].unique()"
   ]
  },
  {
   "cell_type": "code",
   "execution_count": 11,
   "id": "6d0646fa",
   "metadata": {
    "execution": {
     "iopub.execute_input": "2024-02-09T11:47:59.516426Z",
     "iopub.status.busy": "2024-02-09T11:47:59.515698Z",
     "iopub.status.idle": "2024-02-09T11:47:59.522741Z",
     "shell.execute_reply": "2024-02-09T11:47:59.521737Z"
    },
    "papermill": {
     "duration": 0.023425,
     "end_time": "2024-02-09T11:47:59.524847",
     "exception": false,
     "start_time": "2024-02-09T11:47:59.501422",
     "status": "completed"
    },
    "tags": []
   },
   "outputs": [],
   "source": [
    "df['Loan_Status_numeric'] = df['Loan_Status'].map({'Y': 1, 'N':0}).astype(int)"
   ]
  },
  {
   "cell_type": "code",
   "execution_count": 12,
   "id": "68d1c459",
   "metadata": {
    "execution": {
     "iopub.execute_input": "2024-02-09T11:47:59.553052Z",
     "iopub.status.busy": "2024-02-09T11:47:59.552356Z",
     "iopub.status.idle": "2024-02-09T11:47:59.568547Z",
     "shell.execute_reply": "2024-02-09T11:47:59.567507Z"
    },
    "papermill": {
     "duration": 0.032653,
     "end_time": "2024-02-09T11:47:59.570585",
     "exception": false,
     "start_time": "2024-02-09T11:47:59.537932",
     "status": "completed"
    },
    "tags": []
   },
   "outputs": [
    {
     "data": {
      "text/html": [
       "<div>\n",
       "<style scoped>\n",
       "    .dataframe tbody tr th:only-of-type {\n",
       "        vertical-align: middle;\n",
       "    }\n",
       "\n",
       "    .dataframe tbody tr th {\n",
       "        vertical-align: top;\n",
       "    }\n",
       "\n",
       "    .dataframe thead th {\n",
       "        text-align: right;\n",
       "    }\n",
       "</style>\n",
       "<table border=\"1\" class=\"dataframe\">\n",
       "  <thead>\n",
       "    <tr style=\"text-align: right;\">\n",
       "      <th></th>\n",
       "      <th>Gender</th>\n",
       "      <th>Loan_Status_numeric</th>\n",
       "    </tr>\n",
       "  </thead>\n",
       "  <tbody>\n",
       "    <tr>\n",
       "      <th>0</th>\n",
       "      <td>Female</td>\n",
       "      <td>0.694118</td>\n",
       "    </tr>\n",
       "    <tr>\n",
       "      <th>1</th>\n",
       "      <td>Male</td>\n",
       "      <td>0.725086</td>\n",
       "    </tr>\n",
       "  </tbody>\n",
       "</table>\n",
       "</div>"
      ],
      "text/plain": [
       "   Gender  Loan_Status_numeric\n",
       "0  Female             0.694118\n",
       "1    Male             0.725086"
      ]
     },
     "execution_count": 12,
     "metadata": {},
     "output_type": "execute_result"
    }
   ],
   "source": [
    "df[['Gender', 'Loan_Status_numeric']].groupby('Gender', as_index=False).mean()"
   ]
  },
  {
   "cell_type": "markdown",
   "id": "a10f9225",
   "metadata": {
    "papermill": {
     "duration": 0.012738,
     "end_time": "2024-02-09T11:47:59.596044",
     "exception": false,
     "start_time": "2024-02-09T11:47:59.583306",
     "status": "completed"
    },
    "tags": []
   },
   "source": [
    "Observation: \n",
    "* Loans were granted to women in 69,4%, to men in 72,5%.\n",
    "* Gender has no impact on granting a loan.\n",
    "\n",
    "Decision:\n",
    "Gender feature should not be included for model training."
   ]
  },
  {
   "cell_type": "code",
   "execution_count": 13,
   "id": "0a298d0e",
   "metadata": {
    "execution": {
     "iopub.execute_input": "2024-02-09T11:47:59.623456Z",
     "iopub.status.busy": "2024-02-09T11:47:59.623102Z",
     "iopub.status.idle": "2024-02-09T11:47:59.635184Z",
     "shell.execute_reply": "2024-02-09T11:47:59.634220Z"
    },
    "papermill": {
     "duration": 0.028274,
     "end_time": "2024-02-09T11:47:59.637105",
     "exception": false,
     "start_time": "2024-02-09T11:47:59.608831",
     "status": "completed"
    },
    "tags": []
   },
   "outputs": [
    {
     "data": {
      "text/html": [
       "<div>\n",
       "<style scoped>\n",
       "    .dataframe tbody tr th:only-of-type {\n",
       "        vertical-align: middle;\n",
       "    }\n",
       "\n",
       "    .dataframe tbody tr th {\n",
       "        vertical-align: top;\n",
       "    }\n",
       "\n",
       "    .dataframe thead th {\n",
       "        text-align: right;\n",
       "    }\n",
       "</style>\n",
       "<table border=\"1\" class=\"dataframe\">\n",
       "  <thead>\n",
       "    <tr style=\"text-align: right;\">\n",
       "      <th></th>\n",
       "      <th>Married</th>\n",
       "      <th>Loan_Status_numeric</th>\n",
       "    </tr>\n",
       "  </thead>\n",
       "  <tbody>\n",
       "    <tr>\n",
       "      <th>0</th>\n",
       "      <td>No</td>\n",
       "      <td>0.660131</td>\n",
       "    </tr>\n",
       "    <tr>\n",
       "      <th>1</th>\n",
       "      <td>Yes</td>\n",
       "      <td>0.745614</td>\n",
       "    </tr>\n",
       "  </tbody>\n",
       "</table>\n",
       "</div>"
      ],
      "text/plain": [
       "  Married  Loan_Status_numeric\n",
       "0      No             0.660131\n",
       "1     Yes             0.745614"
      ]
     },
     "execution_count": 13,
     "metadata": {},
     "output_type": "execute_result"
    }
   ],
   "source": [
    "df[['Married', 'Loan_Status_numeric']].groupby('Married', as_index=False).mean()"
   ]
  },
  {
   "cell_type": "markdown",
   "id": "b165793b",
   "metadata": {
    "papermill": {
     "duration": 0.013793,
     "end_time": "2024-02-09T11:47:59.663962",
     "exception": false,
     "start_time": "2024-02-09T11:47:59.650169",
     "status": "completed"
    },
    "tags": []
   },
   "source": [
    "Observation: \n",
    "* Married people were slightly more likely to receive loans (74,6%) than unmarried (66,0%).\n",
    "\n",
    "Decision:\n",
    "Married feature should not be icluded for model training.\n",
    "Create new column - Income per person in family."
   ]
  },
  {
   "cell_type": "code",
   "execution_count": 14,
   "id": "31a91818",
   "metadata": {
    "execution": {
     "iopub.execute_input": "2024-02-09T11:47:59.691611Z",
     "iopub.status.busy": "2024-02-09T11:47:59.691248Z",
     "iopub.status.idle": "2024-02-09T11:47:59.702711Z",
     "shell.execute_reply": "2024-02-09T11:47:59.701601Z"
    },
    "papermill": {
     "duration": 0.028029,
     "end_time": "2024-02-09T11:47:59.704986",
     "exception": false,
     "start_time": "2024-02-09T11:47:59.676957",
     "status": "completed"
    },
    "tags": []
   },
   "outputs": [
    {
     "data": {
      "text/html": [
       "<div>\n",
       "<style scoped>\n",
       "    .dataframe tbody tr th:only-of-type {\n",
       "        vertical-align: middle;\n",
       "    }\n",
       "\n",
       "    .dataframe tbody tr th {\n",
       "        vertical-align: top;\n",
       "    }\n",
       "\n",
       "    .dataframe thead th {\n",
       "        text-align: right;\n",
       "    }\n",
       "</style>\n",
       "<table border=\"1\" class=\"dataframe\">\n",
       "  <thead>\n",
       "    <tr style=\"text-align: right;\">\n",
       "      <th></th>\n",
       "      <th>Dependents</th>\n",
       "      <th>Loan_Status_numeric</th>\n",
       "    </tr>\n",
       "  </thead>\n",
       "  <tbody>\n",
       "    <tr>\n",
       "      <th>0</th>\n",
       "      <td>0</td>\n",
       "      <td>0.717949</td>\n",
       "    </tr>\n",
       "    <tr>\n",
       "      <th>1</th>\n",
       "      <td>1</td>\n",
       "      <td>0.673077</td>\n",
       "    </tr>\n",
       "    <tr>\n",
       "      <th>2</th>\n",
       "      <td>2</td>\n",
       "      <td>0.745763</td>\n",
       "    </tr>\n",
       "    <tr>\n",
       "      <th>3</th>\n",
       "      <td>3+</td>\n",
       "      <td>0.714286</td>\n",
       "    </tr>\n",
       "  </tbody>\n",
       "</table>\n",
       "</div>"
      ],
      "text/plain": [
       "  Dependents  Loan_Status_numeric\n",
       "0          0             0.717949\n",
       "1          1             0.673077\n",
       "2          2             0.745763\n",
       "3         3+             0.714286"
      ]
     },
     "execution_count": 14,
     "metadata": {},
     "output_type": "execute_result"
    }
   ],
   "source": [
    "df[['Dependents', 'Loan_Status_numeric']].groupby('Dependents', as_index=False).mean()"
   ]
  },
  {
   "cell_type": "markdown",
   "id": "dfbb2076",
   "metadata": {
    "papermill": {
     "duration": 0.018801,
     "end_time": "2024-02-09T11:47:59.747385",
     "exception": false,
     "start_time": "2024-02-09T11:47:59.728584",
     "status": "completed"
    },
    "tags": []
   },
   "source": [
    "Observation:\n",
    "* There are no significant differences in granting loans between people who have dependents than not.\n",
    "\n",
    "Decision:\n",
    "* Complete feature for null values.\n",
    "* Create new column - Income per person in family. "
   ]
  },
  {
   "cell_type": "code",
   "execution_count": 15,
   "id": "e274c68c",
   "metadata": {
    "execution": {
     "iopub.execute_input": "2024-02-09T11:47:59.780327Z",
     "iopub.status.busy": "2024-02-09T11:47:59.779421Z",
     "iopub.status.idle": "2024-02-09T11:47:59.794315Z",
     "shell.execute_reply": "2024-02-09T11:47:59.793279Z"
    },
    "papermill": {
     "duration": 0.033074,
     "end_time": "2024-02-09T11:47:59.796501",
     "exception": false,
     "start_time": "2024-02-09T11:47:59.763427",
     "status": "completed"
    },
    "tags": []
   },
   "outputs": [
    {
     "data": {
      "text/html": [
       "<div>\n",
       "<style scoped>\n",
       "    .dataframe tbody tr th:only-of-type {\n",
       "        vertical-align: middle;\n",
       "    }\n",
       "\n",
       "    .dataframe tbody tr th {\n",
       "        vertical-align: top;\n",
       "    }\n",
       "\n",
       "    .dataframe thead th {\n",
       "        text-align: right;\n",
       "    }\n",
       "</style>\n",
       "<table border=\"1\" class=\"dataframe\">\n",
       "  <thead>\n",
       "    <tr style=\"text-align: right;\">\n",
       "      <th></th>\n",
       "      <th>Education</th>\n",
       "      <th>Loan_Status_numeric</th>\n",
       "    </tr>\n",
       "  </thead>\n",
       "  <tbody>\n",
       "    <tr>\n",
       "      <th>0</th>\n",
       "      <td>Graduate</td>\n",
       "      <td>0.726619</td>\n",
       "    </tr>\n",
       "    <tr>\n",
       "      <th>1</th>\n",
       "      <td>Not Graduate</td>\n",
       "      <td>0.669903</td>\n",
       "    </tr>\n",
       "  </tbody>\n",
       "</table>\n",
       "</div>"
      ],
      "text/plain": [
       "      Education  Loan_Status_numeric\n",
       "0      Graduate             0.726619\n",
       "1  Not Graduate             0.669903"
      ]
     },
     "execution_count": 15,
     "metadata": {},
     "output_type": "execute_result"
    }
   ],
   "source": [
    "df[['Education', 'Loan_Status_numeric']].groupby('Education', as_index=False).mean()"
   ]
  },
  {
   "cell_type": "markdown",
   "id": "c086bce9",
   "metadata": {
    "papermill": {
     "duration": 0.013085,
     "end_time": "2024-02-09T11:47:59.823055",
     "exception": false,
     "start_time": "2024-02-09T11:47:59.809970",
     "status": "completed"
    },
    "tags": []
   },
   "source": [
    "Observation:\n",
    "* Graduated people were slightly more likely to receive loans (72,7%) than not graduated (67,0%).\n",
    "\n",
    "Decision: Education feature should not be icluded for model training. "
   ]
  },
  {
   "cell_type": "code",
   "execution_count": 16,
   "id": "5eaa27f0",
   "metadata": {
    "execution": {
     "iopub.execute_input": "2024-02-09T11:47:59.917782Z",
     "iopub.status.busy": "2024-02-09T11:47:59.917053Z",
     "iopub.status.idle": "2024-02-09T11:47:59.929221Z",
     "shell.execute_reply": "2024-02-09T11:47:59.928165Z"
    },
    "papermill": {
     "duration": 0.094976,
     "end_time": "2024-02-09T11:47:59.931337",
     "exception": false,
     "start_time": "2024-02-09T11:47:59.836361",
     "status": "completed"
    },
    "tags": []
   },
   "outputs": [
    {
     "data": {
      "text/html": [
       "<div>\n",
       "<style scoped>\n",
       "    .dataframe tbody tr th:only-of-type {\n",
       "        vertical-align: middle;\n",
       "    }\n",
       "\n",
       "    .dataframe tbody tr th {\n",
       "        vertical-align: top;\n",
       "    }\n",
       "\n",
       "    .dataframe thead th {\n",
       "        text-align: right;\n",
       "    }\n",
       "</style>\n",
       "<table border=\"1\" class=\"dataframe\">\n",
       "  <thead>\n",
       "    <tr style=\"text-align: right;\">\n",
       "      <th></th>\n",
       "      <th>Self_Employed</th>\n",
       "      <th>Loan_Status_numeric</th>\n",
       "    </tr>\n",
       "  </thead>\n",
       "  <tbody>\n",
       "    <tr>\n",
       "      <th>0</th>\n",
       "      <td>No</td>\n",
       "      <td>0.707692</td>\n",
       "    </tr>\n",
       "    <tr>\n",
       "      <th>1</th>\n",
       "      <td>Yes</td>\n",
       "      <td>0.685714</td>\n",
       "    </tr>\n",
       "  </tbody>\n",
       "</table>\n",
       "</div>"
      ],
      "text/plain": [
       "  Self_Employed  Loan_Status_numeric\n",
       "0            No             0.707692\n",
       "1           Yes             0.685714"
      ]
     },
     "execution_count": 16,
     "metadata": {},
     "output_type": "execute_result"
    }
   ],
   "source": [
    "df[['Self_Employed', 'Loan_Status_numeric']].groupby('Self_Employed', as_index=False).mean()"
   ]
  },
  {
   "cell_type": "markdown",
   "id": "cf670aec",
   "metadata": {
    "papermill": {
     "duration": 0.014004,
     "end_time": "2024-02-09T11:47:59.959196",
     "exception": false,
     "start_time": "2024-02-09T11:47:59.945192",
     "status": "completed"
    },
    "tags": []
   },
   "source": [
    "Observation:\n",
    "* Not self-employed were slightly more likely to receive loans (70,8%) than self-employed (68,6%).\n",
    "\n",
    "Decision: This feature should not be icluded for model training."
   ]
  },
  {
   "cell_type": "code",
   "execution_count": 17,
   "id": "a12a03e6",
   "metadata": {
    "execution": {
     "iopub.execute_input": "2024-02-09T11:47:59.989610Z",
     "iopub.status.busy": "2024-02-09T11:47:59.988862Z",
     "iopub.status.idle": "2024-02-09T11:48:00.001349Z",
     "shell.execute_reply": "2024-02-09T11:48:00.000325Z"
    },
    "papermill": {
     "duration": 0.029731,
     "end_time": "2024-02-09T11:48:00.003474",
     "exception": false,
     "start_time": "2024-02-09T11:47:59.973743",
     "status": "completed"
    },
    "tags": []
   },
   "outputs": [
    {
     "data": {
      "text/html": [
       "<div>\n",
       "<style scoped>\n",
       "    .dataframe tbody tr th:only-of-type {\n",
       "        vertical-align: middle;\n",
       "    }\n",
       "\n",
       "    .dataframe tbody tr th {\n",
       "        vertical-align: top;\n",
       "    }\n",
       "\n",
       "    .dataframe thead th {\n",
       "        text-align: right;\n",
       "    }\n",
       "</style>\n",
       "<table border=\"1\" class=\"dataframe\">\n",
       "  <thead>\n",
       "    <tr style=\"text-align: right;\">\n",
       "      <th></th>\n",
       "      <th>Property_Area</th>\n",
       "      <th>Loan_Status_numeric</th>\n",
       "    </tr>\n",
       "  </thead>\n",
       "  <tbody>\n",
       "    <tr>\n",
       "      <th>0</th>\n",
       "      <td>Rural</td>\n",
       "      <td>0.613208</td>\n",
       "    </tr>\n",
       "    <tr>\n",
       "      <th>1</th>\n",
       "      <td>Semiurban</td>\n",
       "      <td>0.798658</td>\n",
       "    </tr>\n",
       "    <tr>\n",
       "      <th>2</th>\n",
       "      <td>Urban</td>\n",
       "      <td>0.690476</td>\n",
       "    </tr>\n",
       "  </tbody>\n",
       "</table>\n",
       "</div>"
      ],
      "text/plain": [
       "  Property_Area  Loan_Status_numeric\n",
       "0         Rural             0.613208\n",
       "1     Semiurban             0.798658\n",
       "2         Urban             0.690476"
      ]
     },
     "execution_count": 17,
     "metadata": {},
     "output_type": "execute_result"
    }
   ],
   "source": [
    "df[['Property_Area', 'Loan_Status_numeric']].groupby('Property_Area', as_index=False).mean()"
   ]
  },
  {
   "cell_type": "markdown",
   "id": "591a2b2d",
   "metadata": {
    "papermill": {
     "duration": 0.014127,
     "end_time": "2024-02-09T11:48:00.036553",
     "exception": false,
     "start_time": "2024-02-09T11:48:00.022426",
     "status": "completed"
    },
    "tags": []
   },
   "source": [
    "Observaions:\n",
    "* People from semiurban area were more likely to receive loans (80,0%) than from urban (69,0%) and rural area (61,3%).\n",
    "\n",
    "Decision: \n",
    "* Consider Property area feature for model training.\n",
    "* Consider banding this feature."
   ]
  },
  {
   "cell_type": "code",
   "execution_count": 18,
   "id": "7ee39ef4",
   "metadata": {
    "execution": {
     "iopub.execute_input": "2024-02-09T11:48:00.066853Z",
     "iopub.status.busy": "2024-02-09T11:48:00.066481Z",
     "iopub.status.idle": "2024-02-09T11:48:00.079493Z",
     "shell.execute_reply": "2024-02-09T11:48:00.078408Z"
    },
    "papermill": {
     "duration": 0.030792,
     "end_time": "2024-02-09T11:48:00.081541",
     "exception": false,
     "start_time": "2024-02-09T11:48:00.050749",
     "status": "completed"
    },
    "tags": []
   },
   "outputs": [
    {
     "data": {
      "text/html": [
       "<div>\n",
       "<style scoped>\n",
       "    .dataframe tbody tr th:only-of-type {\n",
       "        vertical-align: middle;\n",
       "    }\n",
       "\n",
       "    .dataframe tbody tr th {\n",
       "        vertical-align: top;\n",
       "    }\n",
       "\n",
       "    .dataframe thead th {\n",
       "        text-align: right;\n",
       "    }\n",
       "</style>\n",
       "<table border=\"1\" class=\"dataframe\">\n",
       "  <thead>\n",
       "    <tr style=\"text-align: right;\">\n",
       "      <th></th>\n",
       "      <th>Credit_History</th>\n",
       "      <th>Loan_Status_numeric</th>\n",
       "    </tr>\n",
       "  </thead>\n",
       "  <tbody>\n",
       "    <tr>\n",
       "      <th>0</th>\n",
       "      <td>0.0</td>\n",
       "      <td>0.052632</td>\n",
       "    </tr>\n",
       "    <tr>\n",
       "      <th>1</th>\n",
       "      <td>1.0</td>\n",
       "      <td>0.823129</td>\n",
       "    </tr>\n",
       "  </tbody>\n",
       "</table>\n",
       "</div>"
      ],
      "text/plain": [
       "   Credit_History  Loan_Status_numeric\n",
       "0             0.0             0.052632\n",
       "1             1.0             0.823129"
      ]
     },
     "execution_count": 18,
     "metadata": {},
     "output_type": "execute_result"
    }
   ],
   "source": [
    "df[['Credit_History', 'Loan_Status_numeric']].groupby('Credit_History', as_index=False).mean()"
   ]
  },
  {
   "cell_type": "markdown",
   "id": "e0e17a3c",
   "metadata": {
    "papermill": {
     "duration": 0.013748,
     "end_time": "2024-02-09T11:48:00.109570",
     "exception": false,
     "start_time": "2024-02-09T11:48:00.095822",
     "status": "completed"
    },
    "tags": []
   },
   "source": [
    "Observations:\n",
    "* People with credit history were more likely to recieve loans (82,3%) than people without credit history (5,3%).\n",
    "\n",
    "Decision: \n",
    "* Consider Credit History feature for model training.\n",
    "* Complete feature for null values."
   ]
  },
  {
   "cell_type": "markdown",
   "id": "9b81ab42",
   "metadata": {
    "papermill": {
     "duration": 0.018978,
     "end_time": "2024-02-09T11:48:00.142517",
     "exception": false,
     "start_time": "2024-02-09T11:48:00.123539",
     "status": "completed"
    },
    "tags": []
   },
   "source": [
    "## Data visualization"
   ]
  },
  {
   "cell_type": "code",
   "execution_count": 19,
   "id": "03b36740",
   "metadata": {
    "execution": {
     "iopub.execute_input": "2024-02-09T11:48:00.175160Z",
     "iopub.status.busy": "2024-02-09T11:48:00.174785Z",
     "iopub.status.idle": "2024-02-09T11:48:00.758748Z",
     "shell.execute_reply": "2024-02-09T11:48:00.757735Z"
    },
    "papermill": {
     "duration": 0.601101,
     "end_time": "2024-02-09T11:48:00.760793",
     "exception": false,
     "start_time": "2024-02-09T11:48:00.159692",
     "status": "completed"
    },
    "tags": []
   },
   "outputs": [
    {
     "data": {
      "text/plain": [
       "<seaborn.axisgrid.FacetGrid at 0x7c63507d2ce0>"
      ]
     },
     "execution_count": 19,
     "metadata": {},
     "output_type": "execute_result"
    },
    {
     "data": {
      "image/png": "[encoded data removed]",
      "text/plain": [
       "<Figure size 600x300 with 2 Axes>"
      ]
     },
     "metadata": {},
     "output_type": "display_data"
    }
   ],
   "source": [
    "g = sns.FacetGrid(df, col='Loan_Status_numeric')\n",
    "g.map(plt.hist, 'ApplicantIncome', bins=20)"
   ]
  },
  {
   "cell_type": "code",
   "execution_count": 20,
   "id": "dba5ae08",
   "metadata": {
    "execution": {
     "iopub.execute_input": "2024-02-09T11:48:00.791719Z",
     "iopub.status.busy": "2024-02-09T11:48:00.791370Z",
     "iopub.status.idle": "2024-02-09T11:48:01.334833Z",
     "shell.execute_reply": "2024-02-09T11:48:01.333663Z"
    },
    "papermill": {
     "duration": 0.561714,
     "end_time": "2024-02-09T11:48:01.337273",
     "exception": false,
     "start_time": "2024-02-09T11:48:00.775559",
     "status": "completed"
    },
    "tags": []
   },
   "outputs": [
    {
     "data": {
      "text/plain": [
       "<seaborn.axisgrid.FacetGrid at 0x7c6348346500>"
      ]
     },
     "execution_count": 20,
     "metadata": {},
     "output_type": "execute_result"
    },
    {
     "data": {
      "image/png": "[encoded data removed]",
      "text/plain": [
       "<Figure size 600x300 with 2 Axes>"
      ]
     },
     "metadata": {},
     "output_type": "display_data"
    }
   ],
   "source": [
    "g = sns.FacetGrid(df, col='Loan_Status_numeric')\n",
    "g.map(plt.hist, 'CoapplicantIncome', bins=20)"
   ]
  },
  {
   "cell_type": "markdown",
   "id": "5047d68a",
   "metadata": {
    "papermill": {
     "duration": 0.014245,
     "end_time": "2024-02-09T11:48:01.366241",
     "exception": false,
     "start_time": "2024-02-09T11:48:01.351996",
     "status": "completed"
    },
    "tags": []
   },
   "source": [
    "Observation:\n",
    "* It is difficult to determine the relationship between the income itself and the granting of a loan. \n",
    "\n",
    "Decision: \n",
    "* Create income per person column.\n",
    "* Consider banding income feature."
   ]
  },
  {
   "cell_type": "code",
   "execution_count": 21,
   "id": "1d758793",
   "metadata": {
    "execution": {
     "iopub.execute_input": "2024-02-09T11:48:01.397143Z",
     "iopub.status.busy": "2024-02-09T11:48:01.396740Z",
     "iopub.status.idle": "2024-02-09T11:48:04.438360Z",
     "shell.execute_reply": "2024-02-09T11:48:04.437239Z"
    },
    "papermill": {
     "duration": 3.060597,
     "end_time": "2024-02-09T11:48:04.441257",
     "exception": false,
     "start_time": "2024-02-09T11:48:01.380660",
     "status": "completed"
    },
    "tags": []
   },
   "outputs": [
    {
     "data": {
      "text/plain": [
       "<seaborn.axisgrid.FacetGrid at 0x7c63482b2380>"
      ]
     },
     "execution_count": 21,
     "metadata": {},
     "output_type": "execute_result"
    },
    {
     "data": {
      "image/png": "[encoded data removed]",
      "text/plain": [
       "<Figure size 611.111x1200 with 8 Axes>"
      ]
     },
     "metadata": {},
     "output_type": "display_data"
    }
   ],
   "source": [
    "grid = sns.FacetGrid(df, col='Loan_Status_numeric', row='Dependents')\n",
    "grid.map(plt.hist, 'ApplicantIncome')\n",
    "grid.add_legend()"
   ]
  },
  {
   "cell_type": "code",
   "execution_count": 22,
   "id": "5ff1458b",
   "metadata": {
    "execution": {
     "iopub.execute_input": "2024-02-09T11:48:04.475506Z",
     "iopub.status.busy": "2024-02-09T11:48:04.475123Z",
     "iopub.status.idle": "2024-02-09T11:48:05.106971Z",
     "shell.execute_reply": "2024-02-09T11:48:05.105964Z"
    },
    "papermill": {
     "duration": 0.651508,
     "end_time": "2024-02-09T11:48:05.109209",
     "exception": false,
     "start_time": "2024-02-09T11:48:04.457701",
     "status": "completed"
    },
    "tags": []
   },
   "outputs": [
    {
     "data": {
      "text/plain": [
       "<seaborn.axisgrid.FacetGrid at 0x7c6347a0c130>"
      ]
     },
     "execution_count": 22,
     "metadata": {},
     "output_type": "execute_result"
    },
    {
     "data": {
      "image/png": "[encoded data removed]",
      "text/plain": [
       "<Figure size 600x300 with 2 Axes>"
      ]
     },
     "metadata": {},
     "output_type": "display_data"
    }
   ],
   "source": [
    "g = sns.FacetGrid(df, col='Loan_Status_numeric')\n",
    "g.map(plt.hist, 'LoanAmount', bins=20)"
   ]
  },
  {
   "cell_type": "code",
   "execution_count": 23,
   "id": "6bf42ba6",
   "metadata": {
    "execution": {
     "iopub.execute_input": "2024-02-09T11:48:05.143038Z",
     "iopub.status.busy": "2024-02-09T11:48:05.142656Z",
     "iopub.status.idle": "2024-02-09T11:48:05.677107Z",
     "shell.execute_reply": "2024-02-09T11:48:05.675980Z"
    },
    "papermill": {
     "duration": 0.554133,
     "end_time": "2024-02-09T11:48:05.679388",
     "exception": false,
     "start_time": "2024-02-09T11:48:05.125255",
     "status": "completed"
    },
    "tags": []
   },
   "outputs": [
    {
     "data": {
      "text/plain": [
       "<seaborn.axisgrid.FacetGrid at 0x7c6347bbd750>"
      ]
     },
     "execution_count": 23,
     "metadata": {},
     "output_type": "execute_result"
    },
    {
     "data": {
      "image/png": "[encoded data removed]",
      "text/plain": [
       "<Figure size 600x300 with 2 Axes>"
      ]
     },
     "metadata": {},
     "output_type": "display_data"
    }
   ],
   "source": [
    "g = sns.FacetGrid(df, col='Loan_Status_numeric')\n",
    "g.map(plt.hist, 'Loan_Amount_Term', bins=20)"
   ]
  },
  {
   "cell_type": "markdown",
   "id": "dccfcd1d",
   "metadata": {
    "papermill": {
     "duration": 0.016094,
     "end_time": "2024-02-09T11:48:05.712070",
     "exception": false,
     "start_time": "2024-02-09T11:48:05.695976",
     "status": "completed"
    },
    "tags": []
   },
   "source": [
    "Observations:\n",
    "* People with higher loan amount and longer term were more likely to recieve loan.\n",
    "\n",
    "Decision:\n",
    "* Consider Loan Amount and Loan Amount Term features for model training.\n",
    "* Complete feature for null values.\n",
    "* Create new feature - loan installment amount.\n",
    "* Consider banding loan feature."
   ]
  },
  {
   "cell_type": "code",
   "execution_count": 24,
   "id": "1c3a5faa",
   "metadata": {
    "execution": {
     "iopub.execute_input": "2024-02-09T11:48:05.747017Z",
     "iopub.status.busy": "2024-02-09T11:48:05.746635Z",
     "iopub.status.idle": "2024-02-09T11:48:07.691837Z",
     "shell.execute_reply": "2024-02-09T11:48:07.690958Z"
    },
    "papermill": {
     "duration": 1.965756,
     "end_time": "2024-02-09T11:48:07.694161",
     "exception": false,
     "start_time": "2024-02-09T11:48:05.728405",
     "status": "completed"
    },
    "tags": []
   },
   "outputs": [
    {
     "name": "stderr",
     "output_type": "stream",
     "text": [
      "/opt/conda/lib/python3.10/site-packages/seaborn/axisgrid.py:712: UserWarning: Using the barplot function without specifying `order` is likely to produce an incorrect plot.\n",
      "  warnings.warn(warning)\n"
     ]
    },
    {
     "data": {
      "text/plain": [
       "<seaborn.axisgrid.FacetGrid at 0x7c63479edf90>"
      ]
     },
     "execution_count": 24,
     "metadata": {},
     "output_type": "execute_result"
    },
    {
     "data": {
      "image/png": "[encoded data removed]",
      "text/plain": [
       "<Figure size 611.111x900 with 6 Axes>"
      ]
     },
     "metadata": {},
     "output_type": "display_data"
    }
   ],
   "source": [
    "grid = sns.FacetGrid(df, row='Property_Area', col='Credit_History')\n",
    "grid.map(sns.barplot, 'Loan_Status_numeric', 'LoanAmount')\n",
    "grid.add_legend()"
   ]
  },
  {
   "cell_type": "markdown",
   "id": "aa726013",
   "metadata": {
    "papermill": {
     "duration": 0.017052,
     "end_time": "2024-02-09T11:48:07.728380",
     "exception": false,
     "start_time": "2024-02-09T11:48:07.711328",
     "status": "completed"
    },
    "tags": []
   },
   "source": [
    "## Wrangle data"
   ]
  },
  {
   "cell_type": "code",
   "execution_count": 25,
   "id": "174669be",
   "metadata": {
    "execution": {
     "iopub.execute_input": "2024-02-09T11:48:07.764804Z",
     "iopub.status.busy": "2024-02-09T11:48:07.764447Z",
     "iopub.status.idle": "2024-02-09T11:48:07.770161Z",
     "shell.execute_reply": "2024-02-09T11:48:07.768942Z"
    },
    "papermill": {
     "duration": 0.026662,
     "end_time": "2024-02-09T11:48:07.772495",
     "exception": false,
     "start_time": "2024-02-09T11:48:07.745833",
     "status": "completed"
    },
    "tags": []
   },
   "outputs": [],
   "source": [
    "df = df.drop(['Loan_ID', 'Gender', 'Education', 'Self_Employed', 'Loan_Status'], axis=1)"
   ]
  },
  {
   "cell_type": "code",
   "execution_count": 26,
   "id": "8249f3f0",
   "metadata": {
    "execution": {
     "iopub.execute_input": "2024-02-09T11:48:07.808941Z",
     "iopub.status.busy": "2024-02-09T11:48:07.808562Z",
     "iopub.status.idle": "2024-02-09T11:48:07.824227Z",
     "shell.execute_reply": "2024-02-09T11:48:07.823210Z"
    },
    "papermill": {
     "duration": 0.036317,
     "end_time": "2024-02-09T11:48:07.826329",
     "exception": false,
     "start_time": "2024-02-09T11:48:07.790012",
     "status": "completed"
    },
    "tags": []
   },
   "outputs": [
    {
     "data": {
      "text/html": [
       "<div>\n",
       "<style scoped>\n",
       "    .dataframe tbody tr th:only-of-type {\n",
       "        vertical-align: middle;\n",
       "    }\n",
       "\n",
       "    .dataframe tbody tr th {\n",
       "        vertical-align: top;\n",
       "    }\n",
       "\n",
       "    .dataframe thead th {\n",
       "        text-align: right;\n",
       "    }\n",
       "</style>\n",
       "<table border=\"1\" class=\"dataframe\">\n",
       "  <thead>\n",
       "    <tr style=\"text-align: right;\">\n",
       "      <th></th>\n",
       "      <th>Married</th>\n",
       "      <th>Dependents</th>\n",
       "      <th>ApplicantIncome</th>\n",
       "      <th>CoapplicantIncome</th>\n",
       "      <th>LoanAmount</th>\n",
       "      <th>Loan_Amount_Term</th>\n",
       "      <th>Credit_History</th>\n",
       "      <th>Property_Area</th>\n",
       "      <th>Loan_Status</th>\n",
       "    </tr>\n",
       "  </thead>\n",
       "  <tbody>\n",
       "    <tr>\n",
       "      <th>0</th>\n",
       "      <td>Yes</td>\n",
       "      <td>1</td>\n",
       "      <td>4583</td>\n",
       "      <td>1508.0</td>\n",
       "      <td>128.0</td>\n",
       "      <td>360.0</td>\n",
       "      <td>1.0</td>\n",
       "      <td>Rural</td>\n",
       "      <td>0</td>\n",
       "    </tr>\n",
       "    <tr>\n",
       "      <th>1</th>\n",
       "      <td>Yes</td>\n",
       "      <td>0</td>\n",
       "      <td>3000</td>\n",
       "      <td>0.0</td>\n",
       "      <td>66.0</td>\n",
       "      <td>360.0</td>\n",
       "      <td>1.0</td>\n",
       "      <td>Urban</td>\n",
       "      <td>1</td>\n",
       "    </tr>\n",
       "    <tr>\n",
       "      <th>2</th>\n",
       "      <td>Yes</td>\n",
       "      <td>0</td>\n",
       "      <td>2583</td>\n",
       "      <td>2358.0</td>\n",
       "      <td>120.0</td>\n",
       "      <td>360.0</td>\n",
       "      <td>1.0</td>\n",
       "      <td>Urban</td>\n",
       "      <td>1</td>\n",
       "    </tr>\n",
       "    <tr>\n",
       "      <th>3</th>\n",
       "      <td>No</td>\n",
       "      <td>0</td>\n",
       "      <td>6000</td>\n",
       "      <td>0.0</td>\n",
       "      <td>141.0</td>\n",
       "      <td>360.0</td>\n",
       "      <td>1.0</td>\n",
       "      <td>Urban</td>\n",
       "      <td>1</td>\n",
       "    </tr>\n",
       "    <tr>\n",
       "      <th>4</th>\n",
       "      <td>Yes</td>\n",
       "      <td>0</td>\n",
       "      <td>2333</td>\n",
       "      <td>1516.0</td>\n",
       "      <td>95.0</td>\n",
       "      <td>360.0</td>\n",
       "      <td>1.0</td>\n",
       "      <td>Urban</td>\n",
       "      <td>1</td>\n",
       "    </tr>\n",
       "  </tbody>\n",
       "</table>\n",
       "</div>"
      ],
      "text/plain": [
       "  Married Dependents  ApplicantIncome  CoapplicantIncome  LoanAmount  \\\n",
       "0     Yes          1             4583             1508.0       128.0   \n",
       "1     Yes          0             3000                0.0        66.0   \n",
       "2     Yes          0             2583             2358.0       120.0   \n",
       "3      No          0             6000                0.0       141.0   \n",
       "4     Yes          0             2333             1516.0        95.0   \n",
       "\n",
       "   Loan_Amount_Term  Credit_History Property_Area  Loan_Status  \n",
       "0             360.0             1.0         Rural            0  \n",
       "1             360.0             1.0         Urban            1  \n",
       "2             360.0             1.0         Urban            1  \n",
       "3             360.0             1.0         Urban            1  \n",
       "4             360.0             1.0         Urban            1  "
      ]
     },
     "execution_count": 26,
     "metadata": {},
     "output_type": "execute_result"
    }
   ],
   "source": [
    "df.rename(columns={'Loan_Status_numeric': 'Loan_Status'}, inplace=True)\n",
    "df.head()"
   ]
  },
  {
   "cell_type": "code",
   "execution_count": 27,
   "id": "34873b4f",
   "metadata": {
    "execution": {
     "iopub.execute_input": "2024-02-09T11:48:07.862899Z",
     "iopub.status.busy": "2024-02-09T11:48:07.862538Z",
     "iopub.status.idle": "2024-02-09T11:48:07.868579Z",
     "shell.execute_reply": "2024-02-09T11:48:07.867590Z"
    },
    "papermill": {
     "duration": 0.026737,
     "end_time": "2024-02-09T11:48:07.870533",
     "exception": false,
     "start_time": "2024-02-09T11:48:07.843796",
     "status": "completed"
    },
    "tags": []
   },
   "outputs": [],
   "source": [
    "df['Married'] = df['Married'].map({'Yes': 1, 'No': 0}).astype(int)"
   ]
  },
  {
   "cell_type": "code",
   "execution_count": 28,
   "id": "dc9c85f4",
   "metadata": {
    "execution": {
     "iopub.execute_input": "2024-02-09T11:48:07.906987Z",
     "iopub.status.busy": "2024-02-09T11:48:07.906025Z",
     "iopub.status.idle": "2024-02-09T11:48:07.911707Z",
     "shell.execute_reply": "2024-02-09T11:48:07.910940Z"
    },
    "papermill": {
     "duration": 0.025807,
     "end_time": "2024-02-09T11:48:07.913585",
     "exception": false,
     "start_time": "2024-02-09T11:48:07.887778",
     "status": "completed"
    },
    "tags": []
   },
   "outputs": [],
   "source": [
    "df['Dependents'] = df['Dependents'].fillna(value=0)"
   ]
  },
  {
   "cell_type": "code",
   "execution_count": 29,
   "id": "570b82de",
   "metadata": {
    "execution": {
     "iopub.execute_input": "2024-02-09T11:48:07.949593Z",
     "iopub.status.busy": "2024-02-09T11:48:07.949251Z",
     "iopub.status.idle": "2024-02-09T11:48:07.956746Z",
     "shell.execute_reply": "2024-02-09T11:48:07.955811Z"
    },
    "papermill": {
     "duration": 0.028059,
     "end_time": "2024-02-09T11:48:07.958819",
     "exception": false,
     "start_time": "2024-02-09T11:48:07.930760",
     "status": "completed"
    },
    "tags": []
   },
   "outputs": [
    {
     "data": {
      "text/plain": [
       "Dependents\n",
       "0     234\n",
       "2      59\n",
       "1      52\n",
       "3+     28\n",
       "0       8\n",
       "Name: count, dtype: int64"
      ]
     },
     "execution_count": 29,
     "metadata": {},
     "output_type": "execute_result"
    }
   ],
   "source": [
    "df['Dependents'].value_counts()"
   ]
  },
  {
   "cell_type": "code",
   "execution_count": 30,
   "id": "bb5c8f85",
   "metadata": {
    "execution": {
     "iopub.execute_input": "2024-02-09T11:48:07.995186Z",
     "iopub.status.busy": "2024-02-09T11:48:07.994802Z",
     "iopub.status.idle": "2024-02-09T11:48:08.000669Z",
     "shell.execute_reply": "2024-02-09T11:48:07.999489Z"
    },
    "papermill": {
     "duration": 0.026424,
     "end_time": "2024-02-09T11:48:08.002626",
     "exception": false,
     "start_time": "2024-02-09T11:48:07.976202",
     "status": "completed"
    },
    "tags": []
   },
   "outputs": [],
   "source": [
    "df['Dependents'] = df['Dependents'].map({'0': 0, '1': 1, '2': 2, '3+': 3})"
   ]
  },
  {
   "cell_type": "code",
   "execution_count": 31,
   "id": "f5303e78",
   "metadata": {
    "execution": {
     "iopub.execute_input": "2024-02-09T11:48:08.039169Z",
     "iopub.status.busy": "2024-02-09T11:48:08.038286Z",
     "iopub.status.idle": "2024-02-09T11:48:08.047637Z",
     "shell.execute_reply": "2024-02-09T11:48:08.046670Z"
    },
    "papermill": {
     "duration": 0.029449,
     "end_time": "2024-02-09T11:48:08.049480",
     "exception": false,
     "start_time": "2024-02-09T11:48:08.020031",
     "status": "completed"
    },
    "tags": []
   },
   "outputs": [
    {
     "data": {
      "text/plain": [
       "Dependents\n",
       "0.0    234\n",
       "2.0     59\n",
       "1.0     52\n",
       "3.0     28\n",
       "Name: count, dtype: int64"
      ]
     },
     "execution_count": 31,
     "metadata": {},
     "output_type": "execute_result"
    }
   ],
   "source": [
    "df['Dependents'].value_counts()"
   ]
  },
  {
   "cell_type": "code",
   "execution_count": 32,
   "id": "e134d913",
   "metadata": {
    "execution": {
     "iopub.execute_input": "2024-02-09T11:48:08.086255Z",
     "iopub.status.busy": "2024-02-09T11:48:08.085844Z",
     "iopub.status.idle": "2024-02-09T11:48:08.092084Z",
     "shell.execute_reply": "2024-02-09T11:48:08.091071Z"
    },
    "papermill": {
     "duration": 0.027038,
     "end_time": "2024-02-09T11:48:08.094093",
     "exception": false,
     "start_time": "2024-02-09T11:48:08.067055",
     "status": "completed"
    },
    "tags": []
   },
   "outputs": [],
   "source": [
    "df['Income_per_person'] = (df['ApplicantIncome'] + df['CoapplicantIncome'])/(1 + df['Married'] + df['Dependents'])"
   ]
  },
  {
   "cell_type": "code",
   "execution_count": 33,
   "id": "cf69eb0e",
   "metadata": {
    "execution": {
     "iopub.execute_input": "2024-02-09T11:48:08.131067Z",
     "iopub.status.busy": "2024-02-09T11:48:08.130361Z",
     "iopub.status.idle": "2024-02-09T11:48:08.146225Z",
     "shell.execute_reply": "2024-02-09T11:48:08.145224Z"
    },
    "papermill": {
     "duration": 0.036514,
     "end_time": "2024-02-09T11:48:08.148181",
     "exception": false,
     "start_time": "2024-02-09T11:48:08.111667",
     "status": "completed"
    },
    "tags": []
   },
   "outputs": [
    {
     "data": {
      "text/html": [
       "<div>\n",
       "<style scoped>\n",
       "    .dataframe tbody tr th:only-of-type {\n",
       "        vertical-align: middle;\n",
       "    }\n",
       "\n",
       "    .dataframe tbody tr th {\n",
       "        vertical-align: top;\n",
       "    }\n",
       "\n",
       "    .dataframe thead th {\n",
       "        text-align: right;\n",
       "    }\n",
       "</style>\n",
       "<table border=\"1\" class=\"dataframe\">\n",
       "  <thead>\n",
       "    <tr style=\"text-align: right;\">\n",
       "      <th></th>\n",
       "      <th>Married</th>\n",
       "      <th>Dependents</th>\n",
       "      <th>ApplicantIncome</th>\n",
       "      <th>CoapplicantIncome</th>\n",
       "      <th>LoanAmount</th>\n",
       "      <th>Loan_Amount_Term</th>\n",
       "      <th>Credit_History</th>\n",
       "      <th>Property_Area</th>\n",
       "      <th>Loan_Status</th>\n",
       "      <th>Income_per_person</th>\n",
       "    </tr>\n",
       "  </thead>\n",
       "  <tbody>\n",
       "    <tr>\n",
       "      <th>0</th>\n",
       "      <td>1</td>\n",
       "      <td>1.0</td>\n",
       "      <td>4583</td>\n",
       "      <td>1508.0</td>\n",
       "      <td>128.0</td>\n",
       "      <td>360.0</td>\n",
       "      <td>1.0</td>\n",
       "      <td>Rural</td>\n",
       "      <td>0</td>\n",
       "      <td>2030.333333</td>\n",
       "    </tr>\n",
       "    <tr>\n",
       "      <th>1</th>\n",
       "      <td>1</td>\n",
       "      <td>0.0</td>\n",
       "      <td>3000</td>\n",
       "      <td>0.0</td>\n",
       "      <td>66.0</td>\n",
       "      <td>360.0</td>\n",
       "      <td>1.0</td>\n",
       "      <td>Urban</td>\n",
       "      <td>1</td>\n",
       "      <td>1500.000000</td>\n",
       "    </tr>\n",
       "    <tr>\n",
       "      <th>2</th>\n",
       "      <td>1</td>\n",
       "      <td>0.0</td>\n",
       "      <td>2583</td>\n",
       "      <td>2358.0</td>\n",
       "      <td>120.0</td>\n",
       "      <td>360.0</td>\n",
       "      <td>1.0</td>\n",
       "      <td>Urban</td>\n",
       "      <td>1</td>\n",
       "      <td>2470.500000</td>\n",
       "    </tr>\n",
       "    <tr>\n",
       "      <th>3</th>\n",
       "      <td>0</td>\n",
       "      <td>0.0</td>\n",
       "      <td>6000</td>\n",
       "      <td>0.0</td>\n",
       "      <td>141.0</td>\n",
       "      <td>360.0</td>\n",
       "      <td>1.0</td>\n",
       "      <td>Urban</td>\n",
       "      <td>1</td>\n",
       "      <td>6000.000000</td>\n",
       "    </tr>\n",
       "    <tr>\n",
       "      <th>4</th>\n",
       "      <td>1</td>\n",
       "      <td>0.0</td>\n",
       "      <td>2333</td>\n",
       "      <td>1516.0</td>\n",
       "      <td>95.0</td>\n",
       "      <td>360.0</td>\n",
       "      <td>1.0</td>\n",
       "      <td>Urban</td>\n",
       "      <td>1</td>\n",
       "      <td>1924.500000</td>\n",
       "    </tr>\n",
       "  </tbody>\n",
       "</table>\n",
       "</div>"
      ],
      "text/plain": [
       "   Married  Dependents  ApplicantIncome  CoapplicantIncome  LoanAmount  \\\n",
       "0        1         1.0             4583             1508.0       128.0   \n",
       "1        1         0.0             3000                0.0        66.0   \n",
       "2        1         0.0             2583             2358.0       120.0   \n",
       "3        0         0.0             6000                0.0       141.0   \n",
       "4        1         0.0             2333             1516.0        95.0   \n",
       "\n",
       "   Loan_Amount_Term  Credit_History Property_Area  Loan_Status  \\\n",
       "0             360.0             1.0         Rural            0   \n",
       "1             360.0             1.0         Urban            1   \n",
       "2             360.0             1.0         Urban            1   \n",
       "3             360.0             1.0         Urban            1   \n",
       "4             360.0             1.0         Urban            1   \n",
       "\n",
       "   Income_per_person  \n",
       "0        2030.333333  \n",
       "1        1500.000000  \n",
       "2        2470.500000  \n",
       "3        6000.000000  \n",
       "4        1924.500000  "
      ]
     },
     "execution_count": 33,
     "metadata": {},
     "output_type": "execute_result"
    }
   ],
   "source": [
    "df.head()"
   ]
  },
  {
   "cell_type": "code",
   "execution_count": 34,
   "id": "b04b6e52",
   "metadata": {
    "execution": {
     "iopub.execute_input": "2024-02-09T11:48:08.186054Z",
     "iopub.status.busy": "2024-02-09T11:48:08.185636Z",
     "iopub.status.idle": "2024-02-09T11:48:08.692329Z",
     "shell.execute_reply": "2024-02-09T11:48:08.691251Z"
    },
    "papermill": {
     "duration": 0.528418,
     "end_time": "2024-02-09T11:48:08.694603",
     "exception": false,
     "start_time": "2024-02-09T11:48:08.166185",
     "status": "completed"
    },
    "tags": []
   },
   "outputs": [
    {
     "data": {
      "text/plain": [
       "<seaborn.axisgrid.FacetGrid at 0x7c63471ba050>"
      ]
     },
     "execution_count": 34,
     "metadata": {},
     "output_type": "execute_result"
    },
    {
     "data": {
      "image/png": "[encoded data removed]",
      "text/plain": [
       "<Figure size 600x300 with 2 Axes>"
      ]
     },
     "metadata": {},
     "output_type": "display_data"
    }
   ],
   "source": [
    "g = sns.FacetGrid(df, col='Loan_Status')\n",
    "g.map(plt.hist, 'Income_per_person', bins=20)"
   ]
  },
  {
   "cell_type": "code",
   "execution_count": 35,
   "id": "9ff60284",
   "metadata": {
    "execution": {
     "iopub.execute_input": "2024-02-09T11:48:08.733931Z",
     "iopub.status.busy": "2024-02-09T11:48:08.732767Z",
     "iopub.status.idle": "2024-02-09T11:48:10.954066Z",
     "shell.execute_reply": "2024-02-09T11:48:10.952969Z"
    },
    "papermill": {
     "duration": 2.243343,
     "end_time": "2024-02-09T11:48:10.956508",
     "exception": false,
     "start_time": "2024-02-09T11:48:08.713165",
     "status": "completed"
    },
    "tags": []
   },
   "outputs": [
    {
     "data": {
      "text/plain": [
       "<seaborn.axisgrid.FacetGrid at 0x7c6347b83f10>"
      ]
     },
     "execution_count": 35,
     "metadata": {},
     "output_type": "execute_result"
    },
    {
     "data": {
      "image/png": "[encoded data removed]",
      "text/plain": [
       "<Figure size 611.111x900 with 6 Axes>"
      ]
     },
     "metadata": {},
     "output_type": "display_data"
    }
   ],
   "source": [
    "grid = sns.FacetGrid(df, row='Property_Area', col='Loan_Status')\n",
    "grid.map(plt.hist, 'Income_per_person', bins=20)\n",
    "grid.add_legend()"
   ]
  },
  {
   "cell_type": "code",
   "execution_count": 36,
   "id": "7dca9440",
   "metadata": {
    "execution": {
     "iopub.execute_input": "2024-02-09T11:48:10.996705Z",
     "iopub.status.busy": "2024-02-09T11:48:10.996353Z",
     "iopub.status.idle": "2024-02-09T11:48:11.001991Z",
     "shell.execute_reply": "2024-02-09T11:48:11.000906Z"
    },
    "papermill": {
     "duration": 0.028695,
     "end_time": "2024-02-09T11:48:11.004332",
     "exception": false,
     "start_time": "2024-02-09T11:48:10.975637",
     "status": "completed"
    },
    "tags": []
   },
   "outputs": [],
   "source": [
    "df = df.drop(['ApplicantIncome', 'CoapplicantIncome'], axis=1)"
   ]
  },
  {
   "cell_type": "code",
   "execution_count": 37,
   "id": "c11f3692",
   "metadata": {
    "execution": {
     "iopub.execute_input": "2024-02-09T11:48:11.044070Z",
     "iopub.status.busy": "2024-02-09T11:48:11.043445Z",
     "iopub.status.idle": "2024-02-09T11:48:11.056623Z",
     "shell.execute_reply": "2024-02-09T11:48:11.055622Z"
    },
    "papermill": {
     "duration": 0.035219,
     "end_time": "2024-02-09T11:48:11.058607",
     "exception": false,
     "start_time": "2024-02-09T11:48:11.023388",
     "status": "completed"
    },
    "tags": []
   },
   "outputs": [],
   "source": [
    "df['Income_per_person_band'] = pd.qcut(df['Income_per_person'], 4)"
   ]
  },
  {
   "cell_type": "code",
   "execution_count": 38,
   "id": "ece02197",
   "metadata": {
    "execution": {
     "iopub.execute_input": "2024-02-09T11:48:11.098308Z",
     "iopub.status.busy": "2024-02-09T11:48:11.097577Z",
     "iopub.status.idle": "2024-02-09T11:48:11.111361Z",
     "shell.execute_reply": "2024-02-09T11:48:11.110224Z"
    },
    "papermill": {
     "duration": 0.036598,
     "end_time": "2024-02-09T11:48:11.114090",
     "exception": false,
     "start_time": "2024-02-09T11:48:11.077492",
     "status": "completed"
    },
    "tags": []
   },
   "outputs": [
    {
     "name": "stderr",
     "output_type": "stream",
     "text": [
      "/tmp/ipykernel_18/590493372.py:1: FutureWarning: The default of observed=False is deprecated and will be changed to True in a future version of pandas. Pass observed=False to retain current behavior or observed=True to adopt the future default and silence this warning.\n",
      "  df[['Income_per_person_band', 'Loan_Status']].groupby('Income_per_person_band', as_index=False).mean()\n"
     ]
    },
    {
     "data": {
      "text/html": [
       "<div>\n",
       "<style scoped>\n",
       "    .dataframe tbody tr th:only-of-type {\n",
       "        vertical-align: middle;\n",
       "    }\n",
       "\n",
       "    .dataframe tbody tr th {\n",
       "        vertical-align: top;\n",
       "    }\n",
       "\n",
       "    .dataframe thead th {\n",
       "        text-align: right;\n",
       "    }\n",
       "</style>\n",
       "<table border=\"1\" class=\"dataframe\">\n",
       "  <thead>\n",
       "    <tr style=\"text-align: right;\">\n",
       "      <th></th>\n",
       "      <th>Income_per_person_band</th>\n",
       "      <th>Loan_Status</th>\n",
       "    </tr>\n",
       "  </thead>\n",
       "  <tbody>\n",
       "    <tr>\n",
       "      <th>0</th>\n",
       "      <td>(564.999, 1452.0]</td>\n",
       "      <td>0.670213</td>\n",
       "    </tr>\n",
       "    <tr>\n",
       "      <th>1</th>\n",
       "      <td>(1452.0, 2378.0]</td>\n",
       "      <td>0.784946</td>\n",
       "    </tr>\n",
       "    <tr>\n",
       "      <th>2</th>\n",
       "      <td>(2378.0, 3541.5]</td>\n",
       "      <td>0.698925</td>\n",
       "    </tr>\n",
       "    <tr>\n",
       "      <th>3</th>\n",
       "      <td>(3541.5, 35673.0]</td>\n",
       "      <td>0.709677</td>\n",
       "    </tr>\n",
       "  </tbody>\n",
       "</table>\n",
       "</div>"
      ],
      "text/plain": [
       "  Income_per_person_band  Loan_Status\n",
       "0      (564.999, 1452.0]     0.670213\n",
       "1       (1452.0, 2378.0]     0.784946\n",
       "2       (2378.0, 3541.5]     0.698925\n",
       "3      (3541.5, 35673.0]     0.709677"
      ]
     },
     "execution_count": 38,
     "metadata": {},
     "output_type": "execute_result"
    }
   ],
   "source": [
    "df[['Income_per_person_band', 'Loan_Status']].groupby('Income_per_person_band', as_index=False).mean()"
   ]
  },
  {
   "cell_type": "code",
   "execution_count": 39,
   "id": "de9e06fc",
   "metadata": {
    "execution": {
     "iopub.execute_input": "2024-02-09T11:48:11.156205Z",
     "iopub.status.busy": "2024-02-09T11:48:11.155544Z",
     "iopub.status.idle": "2024-02-09T11:48:11.164115Z",
     "shell.execute_reply": "2024-02-09T11:48:11.163062Z"
    },
    "papermill": {
     "duration": 0.032109,
     "end_time": "2024-02-09T11:48:11.166336",
     "exception": false,
     "start_time": "2024-02-09T11:48:11.134227",
     "status": "completed"
    },
    "tags": []
   },
   "outputs": [],
   "source": [
    "df.loc[df['Income_per_person'] <= 1452.0, 'Income_per_person'] = 0\n",
    "df.loc[(df['Income_per_person'] > 1452.0) & (df['Income_per_person'] <= 2378.0), 'Income_per_person'] = 1\n",
    "df.loc[(df['Income_per_person'] > 2378.0) & (df['Income_per_person'] <= 3541.5), 'Income_per_person'] = 2\n",
    "df.loc[df['Income_per_person'] > 3541.5, 'Income_per_person'] = 3"
   ]
  },
  {
   "cell_type": "code",
   "execution_count": 40,
   "id": "0bc8a1f5",
   "metadata": {
    "execution": {
     "iopub.execute_input": "2024-02-09T11:48:11.207103Z",
     "iopub.status.busy": "2024-02-09T11:48:11.206351Z",
     "iopub.status.idle": "2024-02-09T11:48:11.222628Z",
     "shell.execute_reply": "2024-02-09T11:48:11.221501Z"
    },
    "papermill": {
     "duration": 0.038921,
     "end_time": "2024-02-09T11:48:11.224679",
     "exception": false,
     "start_time": "2024-02-09T11:48:11.185758",
     "status": "completed"
    },
    "tags": []
   },
   "outputs": [
    {
     "data": {
      "text/html": [
       "<div>\n",
       "<style scoped>\n",
       "    .dataframe tbody tr th:only-of-type {\n",
       "        vertical-align: middle;\n",
       "    }\n",
       "\n",
       "    .dataframe tbody tr th {\n",
       "        vertical-align: top;\n",
       "    }\n",
       "\n",
       "    .dataframe thead th {\n",
       "        text-align: right;\n",
       "    }\n",
       "</style>\n",
       "<table border=\"1\" class=\"dataframe\">\n",
       "  <thead>\n",
       "    <tr style=\"text-align: right;\">\n",
       "      <th></th>\n",
       "      <th>Married</th>\n",
       "      <th>Dependents</th>\n",
       "      <th>LoanAmount</th>\n",
       "      <th>Loan_Amount_Term</th>\n",
       "      <th>Credit_History</th>\n",
       "      <th>Property_Area</th>\n",
       "      <th>Loan_Status</th>\n",
       "      <th>Income_per_person</th>\n",
       "      <th>Income_per_person_band</th>\n",
       "    </tr>\n",
       "  </thead>\n",
       "  <tbody>\n",
       "    <tr>\n",
       "      <th>0</th>\n",
       "      <td>1</td>\n",
       "      <td>1.0</td>\n",
       "      <td>128.0</td>\n",
       "      <td>360.0</td>\n",
       "      <td>1.0</td>\n",
       "      <td>Rural</td>\n",
       "      <td>0</td>\n",
       "      <td>1.0</td>\n",
       "      <td>(1452.0, 2378.0]</td>\n",
       "    </tr>\n",
       "    <tr>\n",
       "      <th>1</th>\n",
       "      <td>1</td>\n",
       "      <td>0.0</td>\n",
       "      <td>66.0</td>\n",
       "      <td>360.0</td>\n",
       "      <td>1.0</td>\n",
       "      <td>Urban</td>\n",
       "      <td>1</td>\n",
       "      <td>1.0</td>\n",
       "      <td>(1452.0, 2378.0]</td>\n",
       "    </tr>\n",
       "    <tr>\n",
       "      <th>2</th>\n",
       "      <td>1</td>\n",
       "      <td>0.0</td>\n",
       "      <td>120.0</td>\n",
       "      <td>360.0</td>\n",
       "      <td>1.0</td>\n",
       "      <td>Urban</td>\n",
       "      <td>1</td>\n",
       "      <td>2.0</td>\n",
       "      <td>(2378.0, 3541.5]</td>\n",
       "    </tr>\n",
       "    <tr>\n",
       "      <th>3</th>\n",
       "      <td>0</td>\n",
       "      <td>0.0</td>\n",
       "      <td>141.0</td>\n",
       "      <td>360.0</td>\n",
       "      <td>1.0</td>\n",
       "      <td>Urban</td>\n",
       "      <td>1</td>\n",
       "      <td>3.0</td>\n",
       "      <td>(3541.5, 35673.0]</td>\n",
       "    </tr>\n",
       "    <tr>\n",
       "      <th>4</th>\n",
       "      <td>1</td>\n",
       "      <td>0.0</td>\n",
       "      <td>95.0</td>\n",
       "      <td>360.0</td>\n",
       "      <td>1.0</td>\n",
       "      <td>Urban</td>\n",
       "      <td>1</td>\n",
       "      <td>1.0</td>\n",
       "      <td>(1452.0, 2378.0]</td>\n",
       "    </tr>\n",
       "  </tbody>\n",
       "</table>\n",
       "</div>"
      ],
      "text/plain": [
       "   Married  Dependents  LoanAmount  Loan_Amount_Term  Credit_History  \\\n",
       "0        1         1.0       128.0             360.0             1.0   \n",
       "1        1         0.0        66.0             360.0             1.0   \n",
       "2        1         0.0       120.0             360.0             1.0   \n",
       "3        0         0.0       141.0             360.0             1.0   \n",
       "4        1         0.0        95.0             360.0             1.0   \n",
       "\n",
       "  Property_Area  Loan_Status  Income_per_person Income_per_person_band  \n",
       "0         Rural            0                1.0       (1452.0, 2378.0]  \n",
       "1         Urban            1                1.0       (1452.0, 2378.0]  \n",
       "2         Urban            1                2.0       (2378.0, 3541.5]  \n",
       "3         Urban            1                3.0      (3541.5, 35673.0]  \n",
       "4         Urban            1                1.0       (1452.0, 2378.0]  "
      ]
     },
     "execution_count": 40,
     "metadata": {},
     "output_type": "execute_result"
    }
   ],
   "source": [
    "df.head()"
   ]
  },
  {
   "cell_type": "code",
   "execution_count": 41,
   "id": "38da96a5",
   "metadata": {
    "execution": {
     "iopub.execute_input": "2024-02-09T11:48:11.265582Z",
     "iopub.status.busy": "2024-02-09T11:48:11.264832Z",
     "iopub.status.idle": "2024-02-09T11:48:11.270338Z",
     "shell.execute_reply": "2024-02-09T11:48:11.269594Z"
    },
    "papermill": {
     "duration": 0.028234,
     "end_time": "2024-02-09T11:48:11.272319",
     "exception": false,
     "start_time": "2024-02-09T11:48:11.244085",
     "status": "completed"
    },
    "tags": []
   },
   "outputs": [],
   "source": [
    "df = df.drop(['Income_per_person_band'], axis=1)"
   ]
  },
  {
   "cell_type": "code",
   "execution_count": 42,
   "id": "bddd2955",
   "metadata": {
    "execution": {
     "iopub.execute_input": "2024-02-09T11:48:11.313310Z",
     "iopub.status.busy": "2024-02-09T11:48:11.312446Z",
     "iopub.status.idle": "2024-02-09T11:48:11.318527Z",
     "shell.execute_reply": "2024-02-09T11:48:11.317851Z"
    },
    "papermill": {
     "duration": 0.028643,
     "end_time": "2024-02-09T11:48:11.320357",
     "exception": false,
     "start_time": "2024-02-09T11:48:11.291714",
     "status": "completed"
    },
    "tags": []
   },
   "outputs": [],
   "source": [
    "df['Property_Area'] = df['Property_Area'].map({'Rural': 0, 'Semiurban': 1, 'Urban': 2}).astype(int)"
   ]
  },
  {
   "cell_type": "code",
   "execution_count": 43,
   "id": "af84df02",
   "metadata": {
    "execution": {
     "iopub.execute_input": "2024-02-09T11:48:11.360841Z",
     "iopub.status.busy": "2024-02-09T11:48:11.360250Z",
     "iopub.status.idle": "2024-02-09T11:48:11.365412Z",
     "shell.execute_reply": "2024-02-09T11:48:11.364716Z"
    },
    "papermill": {
     "duration": 0.02773,
     "end_time": "2024-02-09T11:48:11.367346",
     "exception": false,
     "start_time": "2024-02-09T11:48:11.339616",
     "status": "completed"
    },
    "tags": []
   },
   "outputs": [],
   "source": [
    "df['Credit_History'] = df['Credit_History'].fillna(value=0)"
   ]
  },
  {
   "cell_type": "code",
   "execution_count": 44,
   "id": "a9e19724",
   "metadata": {
    "execution": {
     "iopub.execute_input": "2024-02-09T11:48:11.407957Z",
     "iopub.status.busy": "2024-02-09T11:48:11.407326Z",
     "iopub.status.idle": "2024-02-09T11:48:11.421214Z",
     "shell.execute_reply": "2024-02-09T11:48:11.420129Z"
    },
    "papermill": {
     "duration": 0.036562,
     "end_time": "2024-02-09T11:48:11.423134",
     "exception": false,
     "start_time": "2024-02-09T11:48:11.386572",
     "status": "completed"
    },
    "tags": []
   },
   "outputs": [
    {
     "data": {
      "text/html": [
       "<div>\n",
       "<style scoped>\n",
       "    .dataframe tbody tr th:only-of-type {\n",
       "        vertical-align: middle;\n",
       "    }\n",
       "\n",
       "    .dataframe tbody tr th {\n",
       "        vertical-align: top;\n",
       "    }\n",
       "\n",
       "    .dataframe thead th {\n",
       "        text-align: right;\n",
       "    }\n",
       "</style>\n",
       "<table border=\"1\" class=\"dataframe\">\n",
       "  <thead>\n",
       "    <tr style=\"text-align: right;\">\n",
       "      <th></th>\n",
       "      <th>Married</th>\n",
       "      <th>Dependents</th>\n",
       "      <th>LoanAmount</th>\n",
       "      <th>Loan_Amount_Term</th>\n",
       "      <th>Credit_History</th>\n",
       "      <th>Property_Area</th>\n",
       "      <th>Loan_Status</th>\n",
       "      <th>Income_per_person</th>\n",
       "    </tr>\n",
       "  </thead>\n",
       "  <tbody>\n",
       "    <tr>\n",
       "      <th>0</th>\n",
       "      <td>1</td>\n",
       "      <td>1.0</td>\n",
       "      <td>128.0</td>\n",
       "      <td>360.0</td>\n",
       "      <td>1.0</td>\n",
       "      <td>0</td>\n",
       "      <td>0</td>\n",
       "      <td>1.0</td>\n",
       "    </tr>\n",
       "    <tr>\n",
       "      <th>1</th>\n",
       "      <td>1</td>\n",
       "      <td>0.0</td>\n",
       "      <td>66.0</td>\n",
       "      <td>360.0</td>\n",
       "      <td>1.0</td>\n",
       "      <td>2</td>\n",
       "      <td>1</td>\n",
       "      <td>1.0</td>\n",
       "    </tr>\n",
       "    <tr>\n",
       "      <th>2</th>\n",
       "      <td>1</td>\n",
       "      <td>0.0</td>\n",
       "      <td>120.0</td>\n",
       "      <td>360.0</td>\n",
       "      <td>1.0</td>\n",
       "      <td>2</td>\n",
       "      <td>1</td>\n",
       "      <td>2.0</td>\n",
       "    </tr>\n",
       "    <tr>\n",
       "      <th>3</th>\n",
       "      <td>0</td>\n",
       "      <td>0.0</td>\n",
       "      <td>141.0</td>\n",
       "      <td>360.0</td>\n",
       "      <td>1.0</td>\n",
       "      <td>2</td>\n",
       "      <td>1</td>\n",
       "      <td>3.0</td>\n",
       "    </tr>\n",
       "    <tr>\n",
       "      <th>4</th>\n",
       "      <td>1</td>\n",
       "      <td>0.0</td>\n",
       "      <td>95.0</td>\n",
       "      <td>360.0</td>\n",
       "      <td>1.0</td>\n",
       "      <td>2</td>\n",
       "      <td>1</td>\n",
       "      <td>1.0</td>\n",
       "    </tr>\n",
       "  </tbody>\n",
       "</table>\n",
       "</div>"
      ],
      "text/plain": [
       "   Married  Dependents  LoanAmount  Loan_Amount_Term  Credit_History  \\\n",
       "0        1         1.0       128.0             360.0             1.0   \n",
       "1        1         0.0        66.0             360.0             1.0   \n",
       "2        1         0.0       120.0             360.0             1.0   \n",
       "3        0         0.0       141.0             360.0             1.0   \n",
       "4        1         0.0        95.0             360.0             1.0   \n",
       "\n",
       "   Property_Area  Loan_Status  Income_per_person  \n",
       "0              0            0                1.0  \n",
       "1              2            1                1.0  \n",
       "2              2            1                2.0  \n",
       "3              2            1                3.0  \n",
       "4              2            1                1.0  "
      ]
     },
     "execution_count": 44,
     "metadata": {},
     "output_type": "execute_result"
    }
   ],
   "source": [
    "df.head()"
   ]
  },
  {
   "cell_type": "markdown",
   "id": "b3637d94",
   "metadata": {
    "papermill": {
     "duration": 0.019211,
     "end_time": "2024-02-09T11:48:11.461821",
     "exception": false,
     "start_time": "2024-02-09T11:48:11.442610",
     "status": "completed"
    },
    "tags": []
   },
   "source": [
    "### *to be continued...*"
   ]
  },
  {
   "cell_type": "code",
   "execution_count": null,
   "id": "bcaea165",
   "metadata": {
    "papermill": {
     "duration": 0.019298,
     "end_time": "2024-02-09T11:48:11.500369",
     "exception": false,
     "start_time": "2024-02-09T11:48:11.481071",
     "status": "completed"
    },
    "tags": []
   },
   "outputs": [],
   "source": []
  },
  {
   "cell_type": "code",
   "execution_count": null,
   "id": "c1008fa1",
   "metadata": {
    "papermill": {
     "duration": 0.020812,
     "end_time": "2024-02-09T11:48:11.540603",
     "exception": false,
     "start_time": "2024-02-09T11:48:11.519791",
     "status": "completed"
    },
    "tags": []
   },
   "outputs": [],
   "source": []
  }
 ],
 "metadata": {
  "kaggle": {
   "accelerator": "none",
   "dataSources": [
    {
     "datasetId": 4390452,
     "sourceId": 7539897,
     "sourceType": "datasetVersion"
    }
   ],
   "dockerImageVersionId": 30646,
   "isGpuEnabled": false,
   "isInternetEnabled": true,
   "language": "python",
   "sourceType": "notebook"
  },
  "kernelspec": {
   "display_name": "Python 3",
   "language": "python",
   "name": "python3"
  },
  "language_info": {
   "codemirror_mode": {
    "name": "ipython",
    "version": 3
   },
   "file_extension": ".py",
   "mimetype": "text/x-python",
   "name": "python",
   "nbconvert_exporter": "python",
   "pygments_lexer": "ipython3",
   "version": "3.10.13"
  },
  "papermill": {
   "default_parameters": {},
   "duration": 18.409582,
   "end_time": "2024-02-09T11:48:12.180282",
   "environment_variables": {},
   "exception": null,
   "input_path": "__notebook__.ipynb",
   "output_path": "__notebook__.ipynb",
   "parameters": {},
   "start_time": "2024-02-09T11:47:53.770700",
   "version": "2.5.0"
  }
 },
 "nbformat": 4,
 "nbformat_minor": 5
}
